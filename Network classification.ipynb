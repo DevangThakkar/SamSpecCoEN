{
 "cells": [
  {
   "cell_type": "markdown",
   "metadata": {
    "collapsed": true
   },
   "source": [
    "The goal of this notebook is to evaluate the performance of several state-of-the-art classifiers on the ACES RFS (Recurrence-Free Survival) data, using sample-specific coexpression networks.\n",
    "\n",
    "We will use the same two cros-validation settings as the FERAL paper [Allahyar and de Ridder, 2015]:\n",
    "* a 10-fold, subtype-stratified CV (in which the proportions of breast cancer subtypes are kept constant in each fold)\n",
    "* a 12-fold, leave-one-study-out CV (in which all the samples from one study are forming a test set in turns, and half of the other studies form the corresponding training set).\n",
    "\n",
    "We will test the following algorithms:\n",
    "* L1-regularized logistic regression\n",
    "* L1/L2-regularized logistic regression."
   ]
  },
  {
   "cell_type": "code",
   "execution_count": null,
   "metadata": {
    "collapsed": true
   },
   "outputs": [],
   "source": [
    "# Splits for 10 repeats of 10-fold subtype-stratified CV\n",
    "for repeat in {0..9}\n",
    "do \n",
    "  py setUpSubTypeStratifiedCV.py ${repeat};\n",
    "done\n",
    "\n",
    "Computation on the cluster:\n",
    "SamSpecCoEN/sh/qsub_run_setupSubtypeStratifiedCV_writeIndices.sh\n",
    "\n",
    "followed by:\n",
    "SamSpecCoEN/sh/qsub_run_setupSubtypeStratifiedCV_computeNetworks.sh"
   ]
  },
  {
   "cell_type": "code",
   "execution_count": 1,
   "metadata": {
    "collapsed": false
   },
   "outputs": [],
   "source": [
    "import h5py\n",
    "import gzip\n",
    "import sys\n",
    "sys.path.append(\"code/\")\n",
    "import InnerCrossVal\n",
    "import numpy as np\n",
    "from sklearn import linear_model as sklm \n",
    "from sklearn import  metrics as skm\n",
    "from sklearn import cross_validation as skcv \n",
    "\n",
    "%matplotlib inline\n",
    "import matplotlib.pyplot as plt"
   ]
  },
  {
   "cell_type": "code",
   "execution_count": 2,
   "metadata": {
    "collapsed": true
   },
   "outputs": [],
   "source": [
    "orange_color = '#d66000'\n",
    "blue_color = '#005599'"
   ]
  },
  {
   "cell_type": "markdown",
   "metadata": {},
   "source": [
    "### Load data"
   ]
  },
  {
   "cell_type": "code",
   "execution_count": 67,
   "metadata": {
    "collapsed": false
   },
   "outputs": [
    {
     "name": "stdout",
     "output_type": "stream",
     "text": [
      "Using edge weights as features\n"
     ]
    }
   ],
   "source": [
    "fold_nr = 5\n",
    "data_dir = 'outputs/U133A_combat_RFS/subtype_stratified/repeat0/fold%d' % fold_nr\n",
    "reload(InnerCrossVal)\n",
    "icv = InnerCrossVal.InnerCrossVal('ACES', \n",
    "                                  data_dir, \n",
    "                                  'regline',  \n",
    "                                   5, max_nr_feats=1000)"
   ]
  },
  {
   "cell_type": "markdown",
   "metadata": {},
   "source": [
    "\n",
    "# Using edge weights as features"
   ]
  },
  {
   "cell_type": "code",
   "execution_count": 68,
   "metadata": {
    "collapsed": false
   },
   "outputs": [
    {
     "name": "stdout",
     "output_type": "stream",
     "text": [
      "[0.00390625, 0.0078125, 0.015625, 0.03125, 0.0625, 0.125]\n"
     ]
    }
   ],
   "source": [
    "#regParams = [10.**k for k in range(-3, 3)]\n",
    "#regParams = [10.**k for k in range(-5, 1)]\n",
    "regParams = [2.**k for k in range(-8, -2)]\n",
    "#regParams = [np.exp(k) for k in range(-6, 0)]\n",
    "print regParams\n",
    "cvClassif = sklm.LogisticRegressionCV(Cs=regParams, penalty='l1', solver='liblinear', \n",
    "                                      scoring='roc_auc',\n",
    "                                      class_weight='balanced')"
   ]
  },
  {
   "cell_type": "markdown",
   "metadata": {},
   "source": [
    "### Without normalization"
   ]
  },
  {
   "cell_type": "code",
   "execution_count": null,
   "metadata": {
    "collapsed": false,
    "scrolled": true
   },
   "outputs": [],
   "source": [
    "cvClassif.fit(icv.x_tr, icv.y_tr)"
   ]
  },
  {
   "cell_type": "code",
   "execution_count": null,
   "metadata": {
    "collapsed": false
   },
   "outputs": [],
   "source": [
    "print cvClassif.C_"
   ]
  },
  {
   "cell_type": "code",
   "execution_count": null,
   "metadata": {
    "collapsed": false
   },
   "outputs": [],
   "source": [
    "optimalC = cvClassif.C_[0]\n",
    "clf = sklm.LogisticRegression(C=optimalC, penalty='l1', solver='liblinear',\n",
    "                              class_weight='balanced')\n",
    "clf.fit(icv.x_tr, icv.y_tr)"
   ]
  },
  {
   "cell_type": "code",
   "execution_count": null,
   "metadata": {
    "collapsed": false
   },
   "outputs": [],
   "source": [
    "ytr_pred = clf.predict_proba(icv.x_tr)"
   ]
  },
  {
   "cell_type": "code",
   "execution_count": null,
   "metadata": {
    "collapsed": false
   },
   "outputs": [],
   "source": [
    "ix = clf.classes_.tolist().index(1)\n",
    "tr_pos_indices = np.where(icv.y_tr > 0)[0]\n",
    "tr_neg_indices = np.where(icv.y_tr == 0)[0]\n",
    "#print len(tr_pos_indices), len(tr_neg_indices)\n",
    "\n",
    "plt.figure(figsize=(10, 5))\n",
    "plt.plot(range(len(tr_pos_indices)), icv.y_tr[tr_pos_indices], \n",
    "         color=blue_color, label='True', marker='o', ls='')\n",
    "plt.plot(range(len(tr_pos_indices), len(tr_pos_indices)+len(tr_neg_indices)), icv.y_tr[tr_neg_indices], \n",
    "         color=blue_color, label='True', marker='o', ls='')\n",
    "    \n",
    "plt.plot(range(len(tr_pos_indices)), ytr_pred[tr_pos_indices, ix], \n",
    "         color=orange_color, label='Predicted', marker='o', ls='')\n",
    "plt.plot(range(len(tr_pos_indices), len(tr_pos_indices)+len(tr_neg_indices)), ytr_pred[tr_neg_indices, ix], \n",
    "         color=orange_color, label='Predicted', marker='o', ls='')\n",
    "plt.title(\"Training data (fold 0, repeat 0)\")\n",
    "a = plt.legend(bbox_to_anchor=(1, 0, 1, 1))"
   ]
  },
  {
   "cell_type": "code",
   "execution_count": null,
   "metadata": {
    "collapsed": false
   },
   "outputs": [],
   "source": [
    "features = np.where(clf.coef_[0])[0]\n",
    "print len(features), \"selected features.\"\n",
    "\n",
    "plt.figure(figsize=(15, 5))\n",
    "plt.plot(range(len(features)), clf.coef_[0][features],\n",
    "            color=blue_color, marker='^', ls='')\n",
    "plt.title(\"Weights of non-zero features\")\n",
    "a = plt.xlim(-0.1, len(features)+0.1)"
   ]
  },
  {
   "cell_type": "code",
   "execution_count": null,
   "metadata": {
    "collapsed": true
   },
   "outputs": [],
   "source": [
    "yte_pred = clf.predict_proba(icv.x_te)"
   ]
  },
  {
   "cell_type": "code",
   "execution_count": null,
   "metadata": {
    "collapsed": false,
    "scrolled": false
   },
   "outputs": [],
   "source": [
    "te_pos_indices = np.where(icv.y_te > 0)[0]\n",
    "te_neg_indices = np.where(icv.y_te == 0)[0]\n",
    "print len(te_pos_indices), len(te_neg_indices)\n",
    "plt.figure(figsize=(10, 5))\n",
    "plt.plot(range(len(te_pos_indices)), icv.y_te[te_pos_indices], \n",
    "         color=blue_color, label='True', marker='o', ls='')\n",
    "plt.plot(range(len(te_pos_indices), len(te_pos_indices)+len(te_neg_indices)), icv.y_te[te_neg_indices], \n",
    "         color=blue_color, label='True', marker='o', ls='')\n",
    "    \n",
    "plt.plot(range(len(te_pos_indices)), yte_pred[te_pos_indices, ix], \n",
    "         color=orange_color, label='Predicted', marker='o', ls='')\n",
    "plt.plot(range(len(te_pos_indices), len(te_pos_indices)+len(te_neg_indices)), yte_pred[te_neg_indices, ix], \n",
    "         color=orange_color, label='Predicted', marker='o', ls='')\n",
    "plt.title(\"Test data (fold 0, repeat 0)\")\n",
    "plt.legend(bbox_to_anchor=(1, 0, 1, 1))\n",
    "print \"Test AUC:\", skm.roc_auc_score(icv.y_te, yte_pred[:, ix])"
   ]
  },
  {
   "cell_type": "markdown",
   "metadata": {},
   "source": [
    "### With normalization"
   ]
  },
  {
   "cell_type": "code",
   "execution_count": null,
   "metadata": {
    "collapsed": true
   },
   "outputs": [],
   "source": [
    "# Normalization\n",
    "Xmean = np.mean(icv.x_tr, axis = 0)\n",
    "Xstdv = np.std(icv.x_tr, axis = 0, ddof = 1)\n",
    "\n",
    "Xtr_norm = (icv.x_tr - Xmean)/Xstdv\n",
    "Xte_norm = (icv.x_te - Xmean)/Xstdv"
   ]
  },
  {
   "cell_type": "code",
   "execution_count": null,
   "metadata": {
    "collapsed": false
   },
   "outputs": [],
   "source": [
    "print icv.x_tr.shape\n",
    "edge_idx=np.random.choice(np.arange(Xtr_norm.shape[1]))\n",
    "a = plt.hist(icv.x_tr[:, edge_idx], normed=True, bins=150, edgecolor='none', \n",
    "            color=blue_color, alpha=0.75, label=\"Xtr\")\n",
    "a = plt.hist(Xtr_norm[:, edge_idx], normed=True, bins=150, edgecolor='none', \n",
    "            color=orange_color, alpha=0.75, label=\"Xtr normed\")\n",
    "plt.title(\"Values for feature (edge) %d\" % edge_idx)\n",
    "leg = plt.legend() "
   ]
  },
  {
   "cell_type": "code",
   "execution_count": null,
   "metadata": {
    "collapsed": false,
    "scrolled": true
   },
   "outputs": [],
   "source": [
    "cvClassif.fit(Xtr_norm, icv.y_tr)"
   ]
  },
  {
   "cell_type": "code",
   "execution_count": null,
   "metadata": {
    "collapsed": false
   },
   "outputs": [],
   "source": [
    "print cvClassif.C_"
   ]
  },
  {
   "cell_type": "code",
   "execution_count": null,
   "metadata": {
    "collapsed": false
   },
   "outputs": [],
   "source": [
    "optimalC = cvClassif.C_[0]\n",
    "clf = sklm.LogisticRegression(C=optimalC, penalty='l1', solver='liblinear',\n",
    "                              class_weight='balanced')\n",
    "clf.fit(Xtr_norm, icv.y_tr)"
   ]
  },
  {
   "cell_type": "code",
   "execution_count": null,
   "metadata": {
    "collapsed": false
   },
   "outputs": [],
   "source": [
    "ytr_pred = clf.predict_proba(Xtr_norm)"
   ]
  },
  {
   "cell_type": "code",
   "execution_count": null,
   "metadata": {
    "collapsed": false
   },
   "outputs": [],
   "source": [
    "ix = clf.classes_.tolist().index(1)\n",
    "tr_pos_indices = np.where(icv.y_tr > 0)[0]\n",
    "tr_neg_indices = np.where(icv.y_tr == 0)[0]\n",
    "print len(tr_pos_indices), len(tr_neg_indices)\n",
    "\n",
    "plt.figure(figsize=(10, 5))\n",
    "plt.plot(range(len(tr_pos_indices)), icv.y_tr[tr_pos_indices], \n",
    "         color=blue_color, label='True', marker='o', ls='')\n",
    "plt.plot(range(len(tr_pos_indices), len(tr_pos_indices)+len(tr_neg_indices)), icv.y_tr[tr_neg_indices], \n",
    "         color=blue_color, label='True', marker='o', ls='')\n",
    "    \n",
    "plt.plot(range(len(tr_pos_indices)), ytr_pred[tr_pos_indices, ix], \n",
    "         color=orange_color, label='Predicted', marker='o', ls='')\n",
    "plt.plot(range(len(tr_pos_indices), len(tr_pos_indices)+len(tr_neg_indices)), ytr_pred[tr_neg_indices, ix], \n",
    "         color=orange_color, label='Predicted', marker='o', ls='')\n",
    "plt.title(\"Training data (fold 0, repeat 0)\")\n",
    "plt.legend(bbox_to_anchor=(1, 0, 1, 1))"
   ]
  },
  {
   "cell_type": "code",
   "execution_count": null,
   "metadata": {
    "collapsed": false
   },
   "outputs": [],
   "source": [
    "features = np.where(clf.coef_[0])[0]\n",
    "print len(features), \"selected features\"\n",
    "\n",
    "plt.figure(figsize=(15, 5))\n",
    "plt.plot(range(len(features)), clf.coef_[0][features],\n",
    "            color=blue_color, marker='^', ls='')\n",
    "plt.title(\"Weights of non-zero features\")\n",
    "a = plt.xlim(-0.1, len(features)+0.1)"
   ]
  },
  {
   "cell_type": "code",
   "execution_count": null,
   "metadata": {
    "collapsed": true
   },
   "outputs": [],
   "source": [
    "yte_pred = clf.predict_proba(Xte_norm)"
   ]
  },
  {
   "cell_type": "code",
   "execution_count": null,
   "metadata": {
    "collapsed": false,
    "scrolled": true
   },
   "outputs": [],
   "source": [
    "te_pos_indices = np.where(icv.y_te > 0)[0]\n",
    "te_neg_indices = np.where(icv.y_te == 0)[0]\n",
    "print len(te_pos_indices), len(te_neg_indices)\n",
    "\n",
    "plt.figure(figsize=(10, 5))\n",
    "plt.plot(range(len(te_pos_indices)), icv.y_te[te_pos_indices], \n",
    "         color=blue_color, label='True', marker='o', ls='')\n",
    "plt.plot(range(len(te_pos_indices), len(te_pos_indices)+len(te_neg_indices)), icv.y_te[te_neg_indices], \n",
    "         color=blue_color, label='True', marker='o', ls='')\n",
    "    \n",
    "plt.plot(range(len(te_pos_indices)), yte_pred[te_pos_indices, ix], \n",
    "         color=orange_color, label='Predicted', marker='o', ls='')\n",
    "plt.plot(range(len(te_pos_indices), len(te_pos_indices)+len(te_neg_indices)), yte_pred[te_neg_indices, ix], \n",
    "         color=orange_color, label='Predicted', marker='o', ls='')\n",
    "plt.title(\"Test data (fold 0, repeat 0)\")\n",
    "plt.legend(bbox_to_anchor=(1, 0, 1, 1))\n",
    "print \"Test AUC:\", skm.roc_auc_score(icv.y_te, yte_pred[:, ix])"
   ]
  },
  {
   "cell_type": "markdown",
   "metadata": {},
   "source": [
    "## Elastic Net "
   ]
  },
  {
   "cell_type": "code",
   "execution_count": null,
   "metadata": {
    "collapsed": false
   },
   "outputs": [],
   "source": [
    "print [2.**k for k in range(-8, -2)]\n",
    "print [2.**k for k in range(-6, -3)]"
   ]
  },
  {
   "cell_type": "code",
   "execution_count": null,
   "metadata": {
    "collapsed": false
   },
   "outputs": [],
   "source": [
    "# Grid search Elastic Net (for classification)\n",
    "#alpha_values = [2.**k for k in range(-8, -2)]\n",
    "l1_ratio_values = [.1, .5, .7, .9, .95, .99]\n",
    "#l1_ratio_values = [float(k+1)/7 for k in range(6)]\n",
    "\n",
    "#lbd_values = [2.**k for k in range(-6, -3)] #[2.**k for k in range(-8, -2)]\n",
    "lbd_values = [10.**k for k in range(-7, -2)]\n",
    "\n",
    "auc_dict = {} # auc:params\n",
    "\n",
    "cross_validator = skcv.StratifiedKFold(icv.Ytr, 5)\n",
    "\n",
    "# for alpha in alpha_values:\n",
    "for lbd in lbd_values:\n",
    "     for l1_ratio in l1_ratio_values:\n",
    "        alpha = lbd / l1_ratio\n",
    "\n",
    "        clf = sklm.SGDClassifier(loss='log', penalty='elasticnet', alpha=alpha, l1_ratio=l1_ratio)\n",
    "        y_true = []\n",
    "        y_pred = []\n",
    "        for tr, te in cross_validator:\n",
    "            clf.fit(icv.Xtr[tr, :], icv.Ytr[tr])\n",
    "            ytr_te_pred = clf.predict_proba(icv.Xtr[te, :])\n",
    "            ix = clf.classes_.tolist().index(1)\n",
    "            y_pred.extend(ytr_te_pred[:, ix])\n",
    "            y_true.extend(icv.Ytr[te])            \n",
    "            \n",
    "        auc = skm.roc_auc_score(y_true, y_pred)\n",
    "        print \"alpha\", alpha, \"\\tl1_ratio\", l1_ratio, \"\\tauc\", auc\n",
    "        if not auc_dict.has_key(auc):\n",
    "            auc_dict[auc] = []\n",
    "        auc_dict[auc].append([alpha, l1_ratio])\n",
    "\n",
    "auc_values = auc_dict.keys()\n",
    "auc_values.sort()\n",
    "best_auc = auc_values[-1]\n",
    "print \"Best AUC: \", best_auc\n",
    "\n",
    "print auc_dict[best_auc]               "
   ]
  },
  {
   "cell_type": "code",
   "execution_count": null,
   "metadata": {
    "collapsed": false
   },
   "outputs": [],
   "source": [
    "# Run Elastic Net\n",
    "alpha = auc_dict[best_auc][0][0]\n",
    "l1_ratio = auc_dict[best_auc][0][1]\n",
    "\n",
    "clf = sklm.SGDClassifier(loss='log', penalty='elasticnet', alpha=alpha, l1_ratio=l1_ratio)\n",
    "\n",
    "clf.fit(icv.Xtr, icv.Ytr)\n",
    "ytr_pred = clf.predict_proba(icv.Xtr)\n",
    "\n",
    "ix = clf.classes_.tolist().index(1)\n",
    "tr_pos_indices = np.where(icv.Ytr > 0)[0]\n",
    "tr_neg_indices = np.where(icv.Ytr == 0)[0]\n",
    "print len(tr_pos_indices), len(tr_neg_indices)"
   ]
  },
  {
   "cell_type": "code",
   "execution_count": null,
   "metadata": {
    "collapsed": false
   },
   "outputs": [],
   "source": [
    "plt.figure(figsize=(10, 5))\n",
    "plt.plot(range(len(tr_pos_indices)), icv.Ytr[tr_pos_indices], \n",
    "         color=blue_color, label='True', marker='o', ls='')\n",
    "plt.plot(range(len(tr_pos_indices), len(tr_pos_indices)+len(tr_neg_indices)), icv.Ytr[tr_neg_indices], \n",
    "         color=blue_color, label='True', marker='o', ls='')\n",
    "    \n",
    "plt.plot(range(len(tr_pos_indices)), ytr_pred[tr_pos_indices, ix], \n",
    "         color=orange_color, label='Predicted', marker='+', ls='')\n",
    "plt.plot(range(len(tr_pos_indices), len(tr_pos_indices)+len(tr_neg_indices)), ytr_pred[tr_neg_indices, ix], \n",
    "         color=orange_color, label='Predicted', marker='+', ls='')\n",
    "plt.title(\"Training data (fold 0, repeat 0)\")\n",
    "plt.legend(bbox_to_anchor=(1, 0, 1, 1))"
   ]
  },
  {
   "cell_type": "code",
   "execution_count": null,
   "metadata": {
    "collapsed": false
   },
   "outputs": [],
   "source": [
    "features = np.where(clf.coef_[0])[0]\n",
    "print len(features), \"selected features\"\n",
    "plt.figure(figsize=(15, 5))\n",
    "plt.plot(range(len(features)), clf.coef_[0][features],\n",
    "            color=blue_color, marker='+', ls='')"
   ]
  },
  {
   "cell_type": "code",
   "execution_count": null,
   "metadata": {
    "collapsed": false
   },
   "outputs": [],
   "source": [
    "yte_pred = clf.predict_proba(icv.Xte)\n",
    "te_pos_indices = np.where(icv.Yte > 0)[0]\n",
    "te_neg_indices = np.where(icv.Yte == 0)[0]\n",
    "print len(te_pos_indices), len(te_neg_indices)"
   ]
  },
  {
   "cell_type": "code",
   "execution_count": null,
   "metadata": {
    "collapsed": false
   },
   "outputs": [],
   "source": [
    "plt.figure(figsize=(10, 5))\n",
    "plt.plot(range(len(te_pos_indices)), icv.Yte[te_pos_indices], \n",
    "         color=blue_color, label='True', marker='o', ls='')\n",
    "plt.plot(range(len(te_pos_indices), len(te_pos_indices)+len(te_neg_indices)), icv.Yte[te_neg_indices], \n",
    "         color=blue_color, label='True', marker='o', ls='')\n",
    "    \n",
    "plt.plot(range(len(te_pos_indices)), yte_pred[te_pos_indices, ix], \n",
    "         color=orange_color, label='Predicted', marker='+', ls='')\n",
    "plt.plot(range(len(te_pos_indices), len(te_pos_indices)+len(te_neg_indices)), yte_pred[te_neg_indices, ix], \n",
    "         color=orange_color, label='Predicted', marker='+', ls='')\n",
    "plt.title(\"Test data (fold 0, repeat 0)\")\n",
    "plt.legend(bbox_to_anchor=(1, 0, 1, 1))\n",
    "print \"AUC:\", skm.roc_auc_score(icv.Yte, yte_pred[:, ix])"
   ]
  },
  {
   "cell_type": "markdown",
   "metadata": {},
   "source": [
    "# Using node weights (gene expression data) as feature"
   ]
  },
  {
   "cell_type": "code",
   "execution_count": null,
   "metadata": {
    "collapsed": false
   },
   "outputs": [],
   "source": [
    "sys.path.append('ACES')\n",
    "from datatypes.ExpressionDataset import HDF5GroupToExpressionDataset\n",
    "\n",
    "f = h5py.File(\"ACES/experiments/data/U133A_combat.h5\")\n",
    "acesData = HDF5GroupToExpressionDataset(f['U133A_combat_RFS'], checkNormalise=False)\n",
    "f.close()\n",
    "\n",
    "Z = acesData.expressionData"
   ]
  },
  {
   "cell_type": "code",
   "execution_count": null,
   "metadata": {
    "collapsed": false
   },
   "outputs": [],
   "source": [
    "trIndices = np.loadtxt('%s/train.indices' % data_dir, dtype='int')\n",
    "teIndices = np.loadtxt('%s/test.indices' % data_dir, dtype='int')\n",
    "\n",
    "Ztr = Z[trIndices, :]\n",
    "Zte = Z[teIndices, :]"
   ]
  },
  {
   "cell_type": "code",
   "execution_count": null,
   "metadata": {
    "collapsed": true
   },
   "outputs": [],
   "source": [
    "# Normalization\n",
    "Zmean = np.mean(Ztr, axis = 0)\n",
    "Zstdv = np.std(Ztr, axis = 0, ddof = 1)\n",
    "\n",
    "Ztr_norm = (Ztr - Zmean)/Zstdv\n",
    "Zte_norm = (Zte - Zmean)/Zstdv"
   ]
  },
  {
   "cell_type": "code",
   "execution_count": null,
   "metadata": {
    "collapsed": false
   },
   "outputs": [],
   "source": [
    "node_idx = np.random.choice(np.arange(Ztr_norm.shape[1]))\n",
    "a = plt.hist(Ztr[:, node_idx], normed=True, bins=150, edgecolor='none', \n",
    "             color=blue_color, alpha=0.75, label=\"Ztr\")\n",
    "a = plt.hist(Ztr_norm[:, node_idx], normed=True, bins=150, edgecolor='none', \n",
    "             color=orange_color, alpha=0.75, label=\"Ztr normed\")\n",
    "plt.title(\"Values for feature (gene) %d\" % node_idx)\n",
    "leg = plt.legend() "
   ]
  },
  {
   "cell_type": "markdown",
   "metadata": {},
   "source": [
    "## L1-regularized logistic regression"
   ]
  },
  {
   "cell_type": "code",
   "execution_count": null,
   "metadata": {
    "collapsed": false
   },
   "outputs": [],
   "source": [
    "regParams = [2.**k for k in range(-8, -2)]\n",
    "cvClassif = sklm.LogisticRegressionCV(Cs=regParams, penalty='l1', solver='liblinear',\n",
    "                                     class_weight='balanced', scoring='roc_auc')"
   ]
  },
  {
   "cell_type": "code",
   "execution_count": null,
   "metadata": {
    "collapsed": false
   },
   "outputs": [],
   "source": [
    "cvClassif.fit(Ztr_norm, icv.y_tr)"
   ]
  },
  {
   "cell_type": "code",
   "execution_count": null,
   "metadata": {
    "collapsed": false
   },
   "outputs": [],
   "source": [
    "print cvClassif.C_"
   ]
  },
  {
   "cell_type": "code",
   "execution_count": null,
   "metadata": {
    "collapsed": false
   },
   "outputs": [],
   "source": [
    "optimalC = cvClassif.C_[0]\n",
    "clf = sklm.LogisticRegression(C=optimalC, penalty='l1', solver='liblinear',\n",
    "                              class_weight='balanced')\n",
    "clf.fit(Ztr_norm, icv.y_tr)"
   ]
  },
  {
   "cell_type": "code",
   "execution_count": null,
   "metadata": {
    "collapsed": true
   },
   "outputs": [],
   "source": [
    "ytr_pred = clf.predict_proba(Ztr_norm)"
   ]
  },
  {
   "cell_type": "code",
   "execution_count": null,
   "metadata": {
    "collapsed": false
   },
   "outputs": [],
   "source": [
    "ix = clf.classes_.tolist().index(1)\n",
    "tr_pos_indices = np.where(icv.y_tr > 0)[0]\n",
    "tr_neg_indices = np.where(icv.y_tr == 0)[0]\n",
    "print len(tr_pos_indices), len(tr_neg_indices)\n",
    "\n",
    "plt.figure(figsize=(10, 5))\n",
    "plt.plot(range(len(tr_pos_indices)), icv.y_tr[tr_pos_indices], \n",
    "         color=blue_color, label='True', marker='o', ls='')\n",
    "plt.plot(range(len(tr_pos_indices), len(tr_pos_indices)+len(tr_neg_indices)), icv.y_tr[tr_neg_indices], \n",
    "         color=blue_color, label='True', marker='o', ls='')\n",
    "    \n",
    "plt.plot(range(len(tr_pos_indices)), ytr_pred[tr_pos_indices, ix], \n",
    "         color=orange_color, label='Predicted', marker='o', ls='')\n",
    "plt.plot(range(len(tr_pos_indices), len(tr_pos_indices)+len(tr_neg_indices)), ytr_pred[tr_neg_indices, ix], \n",
    "         color=orange_color, label='Predicted', marker='o', ls='')\n",
    "plt.title(\"Training data (fold 0, repeat 0)\")\n",
    "plt.legend(bbox_to_anchor=(1, 0, 1, 1))"
   ]
  },
  {
   "cell_type": "code",
   "execution_count": null,
   "metadata": {
    "collapsed": false
   },
   "outputs": [],
   "source": [
    "features = np.where(clf.coef_[0])[0]\n",
    "print len(features), \"selected features.\"\n",
    "\n",
    "plt.figure(figsize=(15, 5))\n",
    "plt.plot(range(len(features)), clf.coef_[0][features],\n",
    "            color=blue_color, marker='^', ls='')\n",
    "plt.title(\"Weights of non-zero features\")\n",
    "a = plt.xlim(-0.1, len(features)+0.1)"
   ]
  },
  {
   "cell_type": "code",
   "execution_count": null,
   "metadata": {
    "collapsed": true
   },
   "outputs": [],
   "source": [
    "yte_pred = clf.predict_proba(Zte_norm)"
   ]
  },
  {
   "cell_type": "code",
   "execution_count": null,
   "metadata": {
    "collapsed": false,
    "scrolled": false
   },
   "outputs": [],
   "source": [
    "te_pos_indices = np.where(icv.y_te > 0)[0]\n",
    "te_neg_indices = np.where(icv.y_te == 0)[0]\n",
    "print len(te_pos_indices), len(te_neg_indices)\n",
    "\n",
    "plt.figure(figsize=(10, 5))\n",
    "plt.plot(range(len(te_pos_indices)), icv.y_te[te_pos_indices], \n",
    "         color=blue_color, label='True', marker='o', ls='')\n",
    "plt.plot(range(len(te_pos_indices), len(te_pos_indices)+len(te_neg_indices)), icv.y_te[te_neg_indices], \n",
    "         color=blue_color, label='True', marker='o', ls='')\n",
    "    \n",
    "plt.plot(range(len(te_pos_indices)), yte_pred[te_pos_indices, ix], \n",
    "         color=orange_color, label='Predicted', marker='o', ls='')\n",
    "plt.plot(range(len(te_pos_indices), len(te_pos_indices)+len(te_neg_indices)), yte_pred[te_neg_indices, ix], \n",
    "         color=orange_color, label='Predicted', marker='o', ls='')\n",
    "plt.title(\"Test data (fold 0, repeat 0)\")\n",
    "plt.legend(bbox_to_anchor=(1, 0, 1, 1))\n",
    "print \"Test AUC:\", skm.roc_auc_score(icv.y_te, yte_pred[:, ix])"
   ]
  },
  {
   "cell_type": "markdown",
   "metadata": {},
   "source": [
    "## Sfan"
   ]
  },
  {
   "cell_type": "code",
   "execution_count": null,
   "metadata": {
    "collapsed": false
   },
   "outputs": [],
   "source": [
    "print Ztr.shape"
   ]
  },
  {
   "cell_type": "code",
   "execution_count": null,
   "metadata": {
    "collapsed": false
   },
   "outputs": [],
   "source": [
    "# Scores: Use correlation between X and phenotype (only on train data)\n",
    "num_genes = Ztr_norm.shape[1]\n",
    "import scipy.stats as st\n",
    "\n",
    "scores = [st.pearsonr(Ztr_norm[:, gene_idx], icv.y_tr)[0]**2 \\\n",
    "          for gene_idx in range(num_genes)]\n",
    "\n",
    "node_weights_f = \"%s/scores.txt\" % data_dir\n",
    "np.savetxt(node_weights_f, scores, fmt='%.3e')"
   ]
  },
  {
   "cell_type": "code",
   "execution_count": null,
   "metadata": {
    "collapsed": true
   },
   "outputs": [],
   "source": [
    "num_edges = icv.x_tr.shape[1]\n",
    "edges_f = '%s/edges.gz' % data_dir\n",
    "ntwk_dimacs_f = \"%s/network.dimacs\" % data_dir\n"
   ]
  },
  {
   "cell_type": "code",
   "execution_count": null,
   "metadata": {
    "collapsed": false
   },
   "outputs": [],
   "source": [
    "# Correlation network is edges.gz (no weights)\n",
    "# (for weights, go back to CoExpressionNetwork.createGlobalNetwork)\n",
    "# format: <index of gene 1> <index of gene 2>\n",
    "# transform into .dimacs file\n",
    "sym_edges_dict = {} #j:[i]\n",
    "last_idx = 0\n",
    "\n",
    "\n",
    "# temporary dimacs file\n",
    "import os\n",
    "import tempfile\n",
    "\n",
    "tmp_fname = 'tmp.dimacs'\n",
    "fd, tmp_fname = tempfile.mkstemp()\n",
    "\n",
    "# keep track of nodes that have at least one neighbor\n",
    "connected_nodes = set([]) \n",
    "\n",
    "with open(tmp_fname, 'w') as g:\n",
    "    g.write(\"p max %d %d\\n\" % (num_genes, num_edges*2))\n",
    "    with gzip.open(edges_f, 'r') as f:     \n",
    "        for line in f:\n",
    "            idx_1, idx_2 = [int(x) for x in line.split()]\n",
    "            # track nodes as connected\n",
    "            connected_nodes.add(idx_1)\n",
    "            connected_nodes.add(idx_2)\n",
    "            # write edges saved in sym_edges_dict:\n",
    "            for idx_3 in range(last_idx, idx_1+1):\n",
    "                if sym_edges_dict.has_key(idx_3):\n",
    "                    for idx_0 in sym_edges_dict[idx_3]:\n",
    "                        g.write(\"a %d %d 1\\n\" % (idx_3, idx_0))\n",
    "                    # delete these entries\n",
    "                    del sym_edges_dict[idx_3]                   \n",
    "            # update last_idx\n",
    "            last_idx = idx_1            \n",
    "            # write this edge\n",
    "            g.write(\"a %d %d 1\\n\" % (idx_1, idx_2))\n",
    "            # add to dictionary\n",
    "            if not sym_edges_dict.has_key(idx_2):\n",
    "                sym_edges_dict[idx_2] = []\n",
    "            sym_edges_dict[idx_2].append(idx_1)\n",
    "        f.close()        \n",
    "        # write the end of the dictionary\n",
    "        if len(sym_edges_dict):\n",
    "            sym_edges_dict_keys = sym_edges_dict.keys()\n",
    "            sym_edges_dict_keys.sort()\n",
    "            for idx_1 in sym_edges_dict_keys:\n",
    "                for idx_0 in sym_edges_dict[idx_1]:\n",
    "                    g.write(\"a %d %d 1\\n\" % (idx_1, idx_0))\n",
    "    g.close()           \n",
    "    \n",
    "# Restrict data to nodes that belong to the network:\n",
    "connected_nodes = list(connected_nodes)\n",
    "connected_nodes.sort()\n",
    "Ztr_norm_sfan = Ztr_norm[:, connected_nodes]\n",
    "Zte_norm_sfan = Zte_norm[:, connected_nodes]\n",
    "\n",
    "num_genes_in_ntwk = len(connected_nodes)\n",
    "print \"%d nodes in the network.\" % num_genes_in_ntwk\n",
    "\n",
    "# Map node IDs in temporary dimacs to the final ones\n",
    "map_idx = {}        \n",
    "for (old_idx, new_idx) in zip(connected_nodes, range(num_genes_in_ntwk)):\n",
    "    map_idx[old_idx] = new_idx + 1 # indices start at 1 in dimacs file                                      \n",
    "\n",
    "# Update node IDs in ntwk_dimacs\n",
    "with open(ntwk_dimacs_f, 'w') as g:\n",
    "    g.write(\"p max %d %d\\n\" % (num_genes_in_ntwk, num_edges*2))\n",
    "    with open(tmp_fname, 'r') as f:\n",
    "        f.readline() # header\n",
    "        for line in f:\n",
    "            ls = line.split()\n",
    "            g.write(\"a %d %d %s\\n\" % (map_idx[int(ls[1])], map_idx[int(ls[2])], ls[3]))\n",
    "        f.close()\n",
    "    g.close()\n",
    "    \n",
    "# Delete temporary file\n",
    "os.remove(tmp_fname)        "
   ]
  },
  {
   "cell_type": "code",
   "execution_count": null,
   "metadata": {
    "collapsed": false
   },
   "outputs": [],
   "source": [
    "# Run sfan \n",
    "import subprocess\n",
    "lbd = '0.10'\n",
    "eta = '0.01'\n",
    "\n",
    "msfanpy = \"/home/cazencott/Research/Projects/sfan/code/multitask_sfan.py\"\n",
    "argum = ['python', msfanpy, '--num_tasks', '1',\n",
    "         '--networks', ntwk_dimacs_f, \n",
    "         '--node_weights', node_weights_f,\n",
    "         '-l', lbd, '-e', eta, '-m', '0']\n",
    "print \"Running: \", \" \".join(argum)\n",
    "p = subprocess.Popen(argum, stdout=subprocess.PIPE)\n",
    "#print p.communicate()\n",
    "p_out = p.communicate()[0].split(\"\\n\")[2]\n",
    "#print p_out\n",
    "sel_list = [(int(x)-1) for x in p_out.split()]\n",
    "\n",
    "# Look at selected features\n",
    "print len(sel_list), \"selected features.\""
   ]
  },
  {
   "cell_type": "code",
   "execution_count": null,
   "metadata": {
    "collapsed": true
   },
   "outputs": [],
   "source": [
    "# Train a ridge-logistic-regression on the selected features\n",
    "Ztr_sel = Ztr_norm_sfan[:, sel_list]\n",
    "Zte_sel = Zte_norm_sfan[:, sel_list]\n",
    "\n",
    "regParams = [2.**k for k in range(-8, -2)]\n",
    "cvClassif = sklm.LogisticRegressionCV(Cs=regParams, penalty='l2', solver='liblinear',\n",
    "                                     class_weight='balanced', scoring='roc_auc')"
   ]
  },
  {
   "cell_type": "code",
   "execution_count": null,
   "metadata": {
    "collapsed": false
   },
   "outputs": [],
   "source": [
    "cvClassif.fit(Ztr_sel, icv.y_tr)"
   ]
  },
  {
   "cell_type": "code",
   "execution_count": null,
   "metadata": {
    "collapsed": false
   },
   "outputs": [],
   "source": [
    "print cvClassif.C_"
   ]
  },
  {
   "cell_type": "code",
   "execution_count": null,
   "metadata": {
    "collapsed": false
   },
   "outputs": [],
   "source": [
    "optimalC = cvClassif.C_[0]\n",
    "clf = sklm.LogisticRegression(C=optimalC, penalty='l2', solver='liblinear',\n",
    "                              class_weight='balanced')\n",
    "clf.fit(Ztr_sel, icv.y_tr)"
   ]
  },
  {
   "cell_type": "code",
   "execution_count": null,
   "metadata": {
    "collapsed": true
   },
   "outputs": [],
   "source": [
    "ytr_pred = clf.predict_proba(Ztr_sel)"
   ]
  },
  {
   "cell_type": "code",
   "execution_count": null,
   "metadata": {
    "collapsed": false
   },
   "outputs": [],
   "source": [
    "ix = clf.classes_.tolist().index(1)\n",
    "tr_pos_indices = np.where(icv.y_tr > 0)[0]\n",
    "tr_neg_indices = np.where(icv.y_tr == 0)[0]\n",
    "print len(tr_pos_indices), len(tr_neg_indices)\n",
    "\n",
    "plt.figure(figsize=(10, 5))\n",
    "plt.plot(range(len(tr_pos_indices)), icv.y_tr[tr_pos_indices], \n",
    "         color=blue_color, label='True', marker='o', ls='')\n",
    "plt.plot(range(len(tr_pos_indices), len(tr_pos_indices)+len(tr_neg_indices)), icv.y_tr[tr_neg_indices], \n",
    "         color=blue_color, label='True', marker='o', ls='')\n",
    "    \n",
    "plt.plot(range(len(tr_pos_indices)), ytr_pred[tr_pos_indices, ix], \n",
    "         color=orange_color, label='Predicted', marker='o', ls='')\n",
    "plt.plot(range(len(tr_pos_indices), len(tr_pos_indices)+len(tr_neg_indices)), ytr_pred[tr_neg_indices, ix], \n",
    "         color=orange_color, label='Predicted', marker='o', ls='')\n",
    "plt.title(\"Training data (fold 0, repeat 0)\")\n",
    "plt.legend(bbox_to_anchor=(1, 0, 1, 1))"
   ]
  },
  {
   "cell_type": "code",
   "execution_count": null,
   "metadata": {
    "collapsed": false
   },
   "outputs": [],
   "source": [
    "features = np.where(clf.coef_[0])[0]\n",
    "print len(features), \"selected features.\"\n",
    "\n",
    "plt.figure(figsize=(15, 5))\n",
    "plt.plot(range(len(features)), clf.coef_[0][features],\n",
    "            color=blue_color, marker='^', ls='')\n",
    "plt.title(\"Weights of non-zero features\")\n",
    "a = plt.xlim(-0.1, len(features)+0.1)"
   ]
  },
  {
   "cell_type": "code",
   "execution_count": null,
   "metadata": {
    "collapsed": true
   },
   "outputs": [],
   "source": [
    "yte_pred = clf.predict_proba(Zte_sel)"
   ]
  },
  {
   "cell_type": "code",
   "execution_count": null,
   "metadata": {
    "collapsed": false,
    "scrolled": false
   },
   "outputs": [],
   "source": [
    "te_pos_indices = np.where(icv.y_te > 0)[0]\n",
    "te_neg_indices = np.where(icv.y_te == 0)[0]\n",
    "print len(te_pos_indices), len(te_neg_indices)\n",
    "\n",
    "plt.figure(figsize=(10, 5))\n",
    "plt.plot(range(len(te_pos_indices)), icv.y_te[te_pos_indices], \n",
    "         color=blue_color, label='True', marker='o', ls='')\n",
    "plt.plot(range(len(te_pos_indices), len(te_pos_indices)+len(te_neg_indices)), icv.y_te[te_neg_indices], \n",
    "         color=blue_color, label='True', marker='o', ls='')\n",
    "    \n",
    "plt.plot(range(len(te_pos_indices)), yte_pred[te_pos_indices, ix], \n",
    "         color=orange_color, label='Predicted', marker='o', ls='')\n",
    "plt.plot(range(len(te_pos_indices), len(te_pos_indices)+len(te_neg_indices)), yte_pred[te_neg_indices, ix], \n",
    "         color=orange_color, label='Predicted', marker='o', ls='')\n",
    "plt.title(\"Test data (fold 0, repeat 0)\")\n",
    "plt.legend(bbox_to_anchor=(1, 0, 1, 1))\n",
    "print \"Test AUC:\", skm.roc_auc_score(icv.y_te, yte_pred[:, ix])"
   ]
  },
  {
   "cell_type": "markdown",
   "metadata": {},
   "source": [
    "# Plotting data"
   ]
  },
  {
   "cell_type": "markdown",
   "metadata": {},
   "source": [
    "## AUCs"
   ]
  },
  {
   "cell_type": "code",
   "execution_count": 5,
   "metadata": {
    "collapsed": false
   },
   "outputs": [],
   "source": [
    "results_dir = 'outputs/U133A_combat_RFS/subtype_stratified/'\n",
    "figure_path = '%s/subtype_stratified_auc.pdf' % results_dir\n",
    "num_repeats = 10\n",
    "\n",
    "aucs_dict = {'nodes_l1logreg': [],\n",
    "                 'lioness_l1logreg': [],\n",
    "                 'regline_l1logreg': []}#, 'sfan_l2logreg': []\n",
    "\n",
    "# read AUCs\n",
    "for repeat_idx in range(num_repeats):\n",
    "    repeat_dir = '%s/repeat%d/results' % (results_dir, repeat_idx)\n",
    "\n",
    "    # L1-logreg on node weights\n",
    "    with open('%s/results.txt' % repeat_dir, 'r') as f:\n",
    "        for line in f:\n",
    "            ls = line.split()\n",
    "            if ls[0] == \"AUC:\":\n",
    "                auc = float(ls[1])\n",
    "                break\n",
    "        f.close()\n",
    "    aucs_dict['nodes_l1logreg'].append(auc)\n",
    "\n",
    "    # L1-logreg on edge weights\n",
    "    for ntwk in ['lioness', 'regline']:\n",
    "        with open('%s/%s/results.txt' % (repeat_dir, ntwk), 'r') as f:\n",
    "            for line in f:\n",
    "                ls = line.split()\n",
    "                if ls[0] == \"AUC:\":\n",
    "                    auc = float(ls[1])\n",
    "                    break\n",
    "            f.close()\n",
    "        aucs_dict['%s_l1logreg' % ntwk].append(auc)"
   ]
  },
  {
   "cell_type": "code",
   "execution_count": 25,
   "metadata": {
    "collapsed": false
   },
   "outputs": [
    {
     "data": {
      "text/plain": [
       "(0.63, 0.78)"
      ]
     },
     "execution_count": 25,
     "metadata": {},
     "output_type": "execute_result"
    },
    {
     "data": {
      "image/png": "[encoded data removed]",
      "text/plain": [
       "<matplotlib.figure.Figure at 0x7fed7da31990>"
      ]
     },
     "metadata": {},
     "output_type": "display_data"
    }
   ],
   "source": [
    "plt.rcParams.update({'font.size': 16})\n",
    "\n",
    "auc_data = np.array([aucs_dict['nodes_l1logreg'],\n",
    "                     aucs_dict['lioness_l1logreg'],\n",
    "                     aucs_dict['regline_l1logreg']])\n",
    "auc_data = np.transpose(auc_data)\n",
    "\n",
    "plt.figure(figsize=(10, 5))\n",
    "\n",
    "bp = plt.boxplot(auc_data)\n",
    "plt.setp(bp['boxes'], color=blue_color)\n",
    "plt.setp(bp['whiskers'], color=blue_color)\n",
    "plt.setp(bp['fliers'], color=blue_color)\n",
    "plt.setp(bp['medians'], color=orange_color)\n",
    "\n",
    "plt.plot(range(5), [0.74 for x in range(5)], \n",
    "         ls='--', color='#666666')\n",
    "plt.text(0.75, 0.745, 'FERAL (paper)', color='#666666')\n",
    "\n",
    "plt.title('Cross-validated L1-logistic regression over %d repeats' % num_repeats)\n",
    "plt.ylabel('AUC')\n",
    "labels = ('Nodes', 'Edges (Lioness)', 'Edges (Regline)')\n",
    "plt.xticks(range(1, 4), labels)#, rotation=35)\n",
    "plt.ylim(0.63, 0.78)\n"
   ]
  },
  {
   "cell_type": "markdown",
   "metadata": {},
   "source": [
    "## Number of features"
   ]
  },
  {
   "cell_type": "code",
   "execution_count": 61,
   "metadata": {
    "collapsed": false
   },
   "outputs": [],
   "source": [
    "numf_dict = {'nodes_l1logreg': [],\n",
    "             'lioness_l1logreg': [],\n",
    "              'regline_l1logreg': []}#, 'sfan_l2logreg': []\n",
    "\n",
    "# read number of selected features\n",
    "for repeat_idx in range(num_repeats):\n",
    "    repeat_dir = '%s/repeat%d/results' % (results_dir, repeat_idx)\n",
    "\n",
    "    # L1-logreg on node weights\n",
    "    with open('%s/results.txt' % repeat_dir, 'r') as f:\n",
    "        for line in f:\n",
    "            ls = line.split('\\t')\n",
    "            if ls[0] == \"Number of features selected per fold:\":\n",
    "                #print ls[1].split()\n",
    "                numf_list = [int(x) for x in ls[1].split()]\n",
    "                break\n",
    "        f.close()\n",
    "    numf_dict['nodes_l1logreg'].extend(numf_list)\n",
    "\n",
    "    # L1-logreg on edge weights\n",
    "    for ntwk in ['lioness', 'regline']:\n",
    "        with open('%s/%s/results.txt' % (repeat_dir, ntwk), 'r') as f:\n",
    "            for line in f:\n",
    "                ls = line.split('\\t')\n",
    "                if ls[0] == \"Number of features selected per fold:\":\n",
    "                    numf_list = [int(x) for x in ls[1].split()]\n",
    "                    break\n",
    "            f.close()\n",
    "        numf_dict['%s_l1logreg' % ntwk].extend(numf_list)\n",
    "#print numf_dict"
   ]
  },
  {
   "cell_type": "code",
   "execution_count": 62,
   "metadata": {
    "collapsed": false
   },
   "outputs": [
    {
     "data": {
      "text/plain": [
       "([<matplotlib.axis.XTick at 0x7fed7d1511d0>,\n",
       "  <matplotlib.axis.XTick at 0x7fed7d2f1f90>,\n",
       "  <matplotlib.axis.XTick at 0x7fed7d1eb2d0>],\n",
       " <a list of 3 Text xticklabel objects>)"
      ]
     },
     "execution_count": 62,
     "metadata": {},
     "output_type": "execute_result"
    },
    {
     "data": {
      "image/png": "[encoded data removed]",
      "text/plain": [
       "<matplotlib.figure.Figure at 0x7fed7d4f1f90>"
      ]
     },
     "metadata": {},
     "output_type": "display_data"
    }
   ],
   "source": [
    "numf_data = np.array([numf_dict['nodes_l1logreg'],\n",
    "                      numf_dict['lioness_l1logreg'],\n",
    "                      numf_dict['regline_l1logreg']])\n",
    "numf_data = np.transpose(numf_data)\n",
    "\n",
    "plt.figure(figsize=(10, 5))\n",
    "\n",
    "bp = plt.boxplot(numf_data)\n",
    "plt.setp(bp['boxes'], color=blue_color)\n",
    "plt.setp(bp['whiskers'], color=blue_color)\n",
    "plt.setp(bp['fliers'], color=blue_color)\n",
    "plt.setp(bp['medians'], color=orange_color)\n",
    "\n",
    "plt.title('Cross-validated L1-logistic regression over %d repeats' % num_repeats)\n",
    "plt.ylabel('Number of features')\n",
    "labels = ('Nodes', 'Edges (Lioness)', 'Edges (Regline)')\n",
    "plt.xticks(range(1, 4), labels)#, rotation=35)\n",
    "#plt.ylim(0., 1.)"
   ]
  },
  {
   "cell_type": "markdown",
   "metadata": {},
   "source": [
    "## Consistency index"
   ]
  },
  {
   "cell_type": "code",
   "execution_count": 56,
   "metadata": {
    "collapsed": false
   },
   "outputs": [],
   "source": [
    "import string\n",
    "\n",
    "cix_dict = {'nodes_l1logreg': [],\n",
    "            'lioness_l1logreg': [],\n",
    "            'regline_l1logreg': []}#, 'sfan_l2logreg': []\n",
    "\n",
    "# read consistency indices\n",
    "for repeat_idx in range(num_repeats):\n",
    "    repeat_dir = '%s/repeat%d/results' % (results_dir, repeat_idx)\n",
    "\n",
    "    # L1-logreg on node weights\n",
    "    with open('%s/results.txt' % repeat_dir, 'r') as f:\n",
    "        for line in f:\n",
    "            ls = line.split('\\t')\n",
    "            if ls[0] == \"Stability (Consistency Index):\":\n",
    "                #print ls[0]\n",
    "                #print [string.lstrip(string.rstrip(x, \",']\\n\"), \",' [\") for x in ls[-1].split(\",\")]\n",
    "                cix_list = [float(string.lstrip(string.rstrip(x, \",']\\n\"), \",' [\")) \\\n",
    "                            for x in ls[-1].split(\",\")]\n",
    "                #print cix_list\n",
    "                break\n",
    "        f.close()\n",
    "    cix_dict['nodes_l1logreg'].extend(cix_list)\n",
    "\n",
    "    # L1-logreg on edge weights\n",
    "    for ntwk in ['lioness', 'regline']:\n",
    "        with open('%s/%s/results.txt' % (repeat_dir, ntwk), 'r') as f:\n",
    "            for line in f:\n",
    "                ls = line.split('\\t')\n",
    "                if ls[0] == \"Stability (Consistency Index):\":\n",
    "                    cix_list = [float(string.lstrip(string.rstrip(x, \",']\\n\"), \",' [\")) \\\n",
    "                                for x in ls[-1].split(\",\")]\n",
    "                    #print cix_list\n",
    "                    break\n",
    "            f.close()\n",
    "        cix_dict['%s_l1logreg' % ntwk].extend(cix_list)"
   ]
  },
  {
   "cell_type": "code",
   "execution_count": 58,
   "metadata": {
    "collapsed": false
   },
   "outputs": [
    {
     "data": {
      "text/plain": [
       "(0.0, 1.0)"
      ]
     },
     "execution_count": 58,
     "metadata": {},
     "output_type": "execute_result"
    },
    {
     "data": {
      "image/png": "[encoded data removed]",
      "text/plain": [
       "<matplotlib.figure.Figure at 0x7fed7cff5d50>"
      ]
     },
     "metadata": {},
     "output_type": "display_data"
    }
   ],
   "source": [
    "plt.rcParams.update({'font.size': 16})\n",
    "\n",
    "cix_data = np.array([cix_dict['nodes_l1logreg'],\n",
    "                     cix_dict['lioness_l1logreg'],\n",
    "                     cix_dict['regline_l1logreg']])\n",
    "cix_data = np.transpose(cix_data)\n",
    "\n",
    "plt.figure(figsize=(10, 5))\n",
    "\n",
    "bp = plt.boxplot(cix_data)\n",
    "plt.setp(bp['boxes'], color=blue_color)\n",
    "plt.setp(bp['whiskers'], color=blue_color)\n",
    "plt.setp(bp['fliers'], color=blue_color)\n",
    "plt.setp(bp['medians'], color=orange_color)\n",
    "\n",
    "plt.title('Cross-validated L1-logistic regression over %d repeats' % num_repeats)\n",
    "plt.ylabel('Consistency Index')\n",
    "labels = ('Nodes', 'Edges (Lioness)', 'Edges (Regline)')\n",
    "plt.xticks(range(1, 4), labels)#, rotation=35)\n",
    "plt.ylim(0., 1.)"
   ]
  },
  {
   "cell_type": "markdown",
   "metadata": {},
   "source": [
    "## Fisher overlap"
   ]
  },
  {
   "cell_type": "code",
   "execution_count": 64,
   "metadata": {
    "collapsed": false
   },
   "outputs": [],
   "source": [
    "import string\n",
    "\n",
    "fov_dict = {'nodes_l1logreg': [],\n",
    "            'lioness_l1logreg': [],\n",
    "            'regline_l1logreg': []}#, 'sfan_l2logreg': []\n",
    "\n",
    "# read consistency indices\n",
    "for repeat_idx in range(num_repeats):\n",
    "    repeat_dir = '%s/repeat%d/results' % (results_dir, repeat_idx)\n",
    "\n",
    "    # L1-logreg on node weights\n",
    "    with open('%s/results.txt' % repeat_dir, 'r') as f:\n",
    "        for line in f:\n",
    "            ls = line.split('\\t')\n",
    "            if ls[0] == \"Stability (Fisher overlap):\":\n",
    "                #print ls[0]\n",
    "                #print [string.lstrip(string.rstrip(x, \",']\\n\"), \",' [\") for x in ls[-1].split(\",\")]\n",
    "                fov_list = [float(string.lstrip(string.rstrip(x, \",']\\n\"), \",' [\")) \\\n",
    "                            for x in ls[-1].split(\",\")]\n",
    "                #print fov_list\n",
    "                break\n",
    "        f.close()\n",
    "    fov_dict['nodes_l1logreg'].extend(fov_list)\n",
    "\n",
    "    # L1-logreg on edge weights\n",
    "    for ntwk in ['lioness', 'regline']:\n",
    "        with open('%s/%s/results.txt' % (repeat_dir, ntwk), 'r') as f:\n",
    "            for line in f:\n",
    "                ls = line.split('\\t')\n",
    "                if ls[0] == \"Stability (Fisher overlap):\":\n",
    "                    fov_list = [float(string.lstrip(string.rstrip(x, \",']\\n\"), \",' [\")) \\\n",
    "                                for x in ls[-1].split(\",\")]\n",
    "                    #print fov_list\n",
    "                    break\n",
    "            f.close()\n",
    "        fov_dict['%s_l1logreg' % ntwk].extend(fov_list)"
   ]
  },
  {
   "cell_type": "code",
   "execution_count": 66,
   "metadata": {
    "collapsed": false
   },
   "outputs": [
    {
     "data": {
      "text/plain": [
       "([<matplotlib.axis.XTick at 0x7fed7d0d4590>,\n",
       "  <matplotlib.axis.XTick at 0x7fed7d6e3290>,\n",
       "  <matplotlib.axis.XTick at 0x7fed7ceeed10>],\n",
       " <a list of 3 Text xticklabel objects>)"
      ]
     },
     "execution_count": 66,
     "metadata": {},
     "output_type": "execute_result"
    },
    {
     "data": {
      "image/png": "[encoded data removed]",
      "text/plain": [
       "<matplotlib.figure.Figure at 0x7fed7d1f2250>"
      ]
     },
     "metadata": {},
     "output_type": "display_data"
    }
   ],
   "source": [
    "plt.rcParams.update({'font.size': 16})\n",
    "\n",
    "fov_data = np.array([fov_dict['nodes_l1logreg'],\n",
    "                     fov_dict['lioness_l1logreg'],\n",
    "                     fov_dict['regline_l1logreg']])\n",
    "fov_data = np.transpose(fov_data)\n",
    "\n",
    "plt.figure(figsize=(10, 5))\n",
    "\n",
    "bp = plt.boxplot(fov_data)\n",
    "plt.setp(bp['boxes'], color=blue_color)\n",
    "plt.setp(bp['whiskers'], color=blue_color)\n",
    "plt.setp(bp['fliers'], color=blue_color)\n",
    "plt.setp(bp['medians'], color=orange_color)\n",
    "\n",
    "plt.title('Cross-validated L1-logistic regression over %d repeats' % num_repeats)\n",
    "plt.ylabel('Fisher Overlap')\n",
    "labels = ('Nodes', 'Edges (Lioness)', 'Edges (Regline)')\n",
    "plt.xticks(range(1, 4), labels)#, rotation=35)\n",
    "#plt.ylim(0., 1.)"
   ]
  },
  {
   "cell_type": "code",
   "execution_count": null,
   "metadata": {
    "collapsed": true
   },
   "outputs": [],
   "source": []
  },
  {
   "cell_type": "code",
   "execution_count": null,
   "metadata": {
    "collapsed": true
   },
   "outputs": [],
   "source": []
  }
 ],
 "metadata": {
  "kernelspec": {
   "display_name": "Python 2",
   "language": "python",
   "name": "python2"
  },
  "language_info": {
   "codemirror_mode": {
    "name": "ipython",
    "version": 2
   },
   "file_extension": ".py",
   "mimetype": "text/x-python",
   "name": "python",
   "nbconvert_exporter": "python",
   "pygments_lexer": "ipython2",
   "version": "2.7.6"
  }
 },
 "nbformat": 4,
 "nbformat_minor": 0
}
