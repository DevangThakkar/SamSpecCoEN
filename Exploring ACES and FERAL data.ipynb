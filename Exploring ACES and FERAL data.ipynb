{
 "cells": [
  {
   "cell_type": "markdown",
   "metadata": {},
   "source": [
    "# Exploring different ways of creating edge weights\n",
    "* Distance to regression line created from reference data\n",
    "* Sum of node weights\n",
    "* Euclidean distance of node weights to 0\n",
    "* Euclidean distance of node weights to 0 if both > 0 (i.e. both genes overexpressed compared to the mean of the data), 0 otherwise (edge is considered \"off\")."
   ]
  },
  {
   "cell_type": "code",
   "execution_count": 4,
   "metadata": {
    "collapsed": false
   },
   "outputs": [],
   "source": [
    "import h5py\n",
    "import numpy as np"
   ]
  },
  {
   "cell_type": "code",
   "execution_count": 5,
   "metadata": {
    "collapsed": false
   },
   "outputs": [
    {
     "name": "stdout",
     "output_type": "stream",
     "text": [
      "Populating the interactive namespace from numpy and matplotlib\n"
     ]
    }
   ],
   "source": [
    "%pylab inline\n",
    "orange_color = '#d66000'\n",
    "blue_color = '#005599'"
   ]
  },
  {
   "cell_type": "markdown",
   "metadata": {},
   "source": [
    "## Read RFS data"
   ]
  },
  {
   "cell_type": "code",
   "execution_count": 6,
   "metadata": {
    "collapsed": false
   },
   "outputs": [],
   "source": [
    "f = h5py.File(\"ACES/experiments/data/U133A_combat.h5\")\n",
    "f.keys()\n",
    "X = f['U133A_combat_RFS']['ExpressionData']"
   ]
  },
  {
   "cell_type": "code",
   "execution_count": 7,
   "metadata": {
    "collapsed": false
   },
   "outputs": [
    {
     "name": "stdout",
     "output_type": "stream",
     "text": [
      "(1616, 12750)\n",
      "float64\n"
     ]
    }
   ],
   "source": [
    "print X.shape\n",
    "print X.dtype"
   ]
  },
  {
   "cell_type": "code",
   "execution_count": 8,
   "metadata": {
    "collapsed": false
   },
   "outputs": [
    {
     "name": "stdout",
     "output_type": "stream",
     "text": [
      "(1616,)\n"
     ]
    }
   ],
   "source": [
    "y = np.array(f['U133A_combat_RFS']['PatientClassLabels'], dtype='int')\n",
    "print y.shape"
   ]
  },
  {
   "cell_type": "code",
   "execution_count": 11,
   "metadata": {
    "collapsed": true
   },
   "outputs": [],
   "source": [
    "aces_gene_names =  np.array(f['U133A_combat_RFS']['GeneLabels'])\n",
    "aces_gene_names = list(aces_gene_names)"
   ]
  },
  {
   "cell_type": "markdown",
   "metadata": {},
   "source": [
    "## Load edges (skeleton)"
   ]
  },
  {
   "cell_type": "code",
   "execution_count": 12,
   "metadata": {
    "collapsed": true
   },
   "outputs": [],
   "source": [
    "edges_set = set([]) # (gene_idx_1, gene_idx_2)\n",
    "# gene_idx_1 < gene_idx_2\n",
    "# idx in aces_gene_names, starting at 0\n",
    "with open('ACES/experiments/data/KEGG_edges1210.sif') as f:\n",
    "    for line in f:\n",
    "        ls = line.split()\n",
    "        gene_name_1 = 'Entrez_%s' % ls[0]\n",
    "        gene_name_2 = 'Entrez_%s' % ls[2]\n",
    "        # Exclude self edges\n",
    "        if gene_name_1 == gene_name_2:\n",
    "            continue \n",
    "        try:\n",
    "            gene_idx_1 = aces_gene_names.index(gene_name_1)  \n",
    "            gene_idx_2 = aces_gene_names.index(gene_name_2)\n",
    "        except ValueError:\n",
    "            continue\n",
    "        if gene_idx_1 < gene_idx_2:\n",
    "            e = (gene_idx_1, gene_idx_2)\n",
    "        else:\n",
    "            e = (gene_idx_2, gene_idx_1)\n",
    "        edges_set.add(e)\n",
    "    f.close()  "
   ]
  },
  {
   "cell_type": "code",
   "execution_count": 13,
   "metadata": {
    "collapsed": true
   },
   "outputs": [],
   "source": [
    "np.savetxt('KEGG_edges.txt', np.array([list(x) for x in list(edges_set)]), fmt='%d')"
   ]
  },
  {
   "cell_type": "code",
   "execution_count": 14,
   "metadata": {
    "collapsed": false
   },
   "outputs": [
    {
     "name": "stdout",
     "output_type": "stream",
     "text": [
      "22178 edges in total.\n",
      "3238 genes in the network.\n"
     ]
    }
   ],
   "source": [
    "print len(edges_set), \"edges in total.\"\n",
    "edges_list = np.array(list(edges_set))\n",
    "\n",
    "genes_in_network = set(np.array([list(x) for x in list(edges_set)]).flatten())\n",
    "print len(genes_in_network), \"genes in the network.\""
   ]
  },
  {
   "cell_type": "code",
   "execution_count": 20,
   "metadata": {
    "collapsed": false
   },
   "outputs": [
    {
     "name": "stdout",
     "output_type": "stream",
     "text": [
      "(1616, 3238)\n"
     ]
    }
   ],
   "source": [
    "# Restrict X to the genes that are in the network \n",
    "genes_in_network = list(genes_in_network)\n",
    "genes_in_network.sort()\n",
    "X_in_ntwk = X[:, genes_in_network]\n",
    "print X_in_ntwk.shape"
   ]
  },
  {
   "cell_type": "code",
   "execution_count": 22,
   "metadata": {
    "collapsed": false
   },
   "outputs": [
    {
     "name": "stdout",
     "output_type": "stream",
     "text": [
      "[(6112, 7489), (1312, 2811), (5325, 11299), (3775, 12357), (3800, 4921), (8780, 9929), (3351, 8587), (3267, 10258), (2049, 5427), (4643, 12087)]\n"
     ]
    }
   ],
   "source": [
    "print(list(edges_set)[:10])"
   ]
  },
  {
   "cell_type": "markdown",
   "metadata": {},
   "source": [
    "## Regline"
   ]
  },
  {
   "cell_type": "markdown",
   "metadata": {},
   "source": [
    "Distance from (x, y) to line: \n",
    "$\\frac{|w_0 x + w_1 - y|}{\\sqrt{w_0^2+1}}$"
   ]
  },
  {
   "cell_type": "code",
   "execution_count": 23,
   "metadata": {
    "collapsed": false
   },
   "outputs": [],
   "source": [
    "def dist_to_line(x0, y0, w0, w1):\n",
    "    #return (np.abs(w1*x0 - y0 + w0)/np.sqrt(w1**2+1))\n",
    "    return (np.abs(w0*x0 - y0 + w1)/np.sqrt(w0**2+1))"
   ]
  },
  {
   "cell_type": "markdown",
   "metadata": {},
   "source": [
    "### Read reference data"
   ]
  },
  {
   "cell_type": "code",
   "execution_count": 24,
   "metadata": {
    "collapsed": false
   },
   "outputs": [],
   "source": [
    "g = h5py.File(\"ArrayExpress/postproc/MTAB-62.h5\")\n",
    "Xref = g['MTAB-62']['ExpressionData']"
   ]
  },
  {
   "cell_type": "code",
   "execution_count": 25,
   "metadata": {
    "collapsed": false
   },
   "outputs": [
    {
     "name": "stdout",
     "output_type": "stream",
     "text": [
      "(1033, 12750)\n",
      "float64\n"
     ]
    }
   ],
   "source": [
    "print Xref.shape\n",
    "print Xref.dtype"
   ]
  },
  {
   "cell_type": "code",
   "execution_count": 30,
   "metadata": {
    "collapsed": false
   },
   "outputs": [
    {
     "name": "stdout",
     "output_type": "stream",
     "text": [
      "['Entrez_780', 'Entrez_5982', 'Entrez_7318', 'Entrez_2049', 'Entrez_4323', 'Entrez_8717', 'Entrez_441263', 'Entrez_572', 'Entrez_10594', 'Entrez_826']\n",
      "['Entrez_7318', 'Entrez_2049', 'Entrez_4323', 'Entrez_8717', 'Entrez_572', 'Entrez_1072', 'Entrez_1603', 'Entrez_387', 'Entrez_3326', 'Entrez_2987']\n"
     ]
    }
   ],
   "source": [
    "print aces_gene_names[:10]\n",
    "ntwk_gene_names = [aces_gene_names[i] for i in genes_in_network]\n",
    "print ntwk_gene_names[:10]"
   ]
  },
  {
   "cell_type": "code",
   "execution_count": 34,
   "metadata": {
    "collapsed": false
   },
   "outputs": [
    {
     "name": "stdout",
     "output_type": "stream",
     "text": [
      "[2, 2500, 3, 4, 6, 22, 42, 53, 57, 62]\n"
     ]
    }
   ],
   "source": [
    "# Reorder reference data so that genes match\n",
    "refc_gene_names = g['MTAB-62']['GeneLabels']\n",
    "refc_gene_names = list(refc_gene_names)\n",
    "#refc_gene_names_dict = dict([(a, ix) for ix, a in enumerate(refc_gene_names)]) # name:idx\n",
    "#reordered_genes = [refc_gene_names_dict[a] for a in ntwk_gene_names]\n",
    "#reordered_genes = [ntwk_gene_names.index(gene) for gene in refc_gene_names]\n",
    "reordered_genes = [refc_gene_names.index(gene) for gene in ntwk_gene_names]\n",
    "print reordered_genes[:10]"
   ]
  },
  {
   "cell_type": "code",
   "execution_count": 42,
   "metadata": {
    "collapsed": false
   },
   "outputs": [],
   "source": [
    "#Xr = np.array(Xref)\n",
    "Xr = np.zeros((Xref.shape[0], X_in_ntwk.shape[1]))\n",
    "for ix in range(Xref.shape[1]):\n",
    "    # if we keep that index\n",
    "    if ix < len(reordered_genes):\n",
    "        Xr[:, ix] = Xref[:, reordered_genes[ix]]"
   ]
  },
  {
   "cell_type": "code",
   "execution_count": 43,
   "metadata": {
    "collapsed": false
   },
   "outputs": [
    {
     "name": "stdout",
     "output_type": "stream",
     "text": [
      "(1033, 3238)\n"
     ]
    }
   ],
   "source": [
    "print Xr.shape"
   ]
  },
  {
   "cell_type": "code",
   "execution_count": null,
   "metadata": {
    "collapsed": true
   },
   "outputs": [],
   "source": [
    "# Normalize data\n",
    "#x_mean = np.mean(Xr, axis=0)\n",
    "#x_stdv = np.std(Xr, axis=0, ddof=1)\n",
    "#Xr -= x_mean\n",
    "#Xr /= x_stdv\n",
    "\n",
    "#X_in_ntwk -= x_mean\n",
    "#X_in_ntwk /= x_stdv"
   ]
  },
  {
   "cell_type": "code",
   "execution_count": 45,
   "metadata": {
    "collapsed": false
   },
   "outputs": [],
   "source": [
    "idx_1 = edges_list[-1][0]\n",
    "idx_2 = edges_list[-1][1]\n",
    "n, p = Xr.shape\n",
    "reg_wr = np.linalg.lstsq(np.array([ Xr[:, idx_1], np.ones(n) ]).T, Xr[:, idx_2])[0]"
   ]
  },
  {
   "cell_type": "code",
   "execution_count": 46,
   "metadata": {
    "collapsed": false
   },
   "outputs": [
    {
     "name": "stdout",
     "output_type": "stream",
     "text": [
      "0.0593453983242 7.81362689601e-15\n"
     ]
    }
   ],
   "source": [
    "[w0, w1] = reg_wr\n",
    "print w0, w1"
   ]
  },
  {
   "cell_type": "code",
   "execution_count": 48,
   "metadata": {
    "collapsed": false
   },
   "outputs": [],
   "source": [
    "e_weights_1 = np.array([dist_to_line(X_in_ntwk[q, idx_1], X_in_ntwk[q, idx_2], w0, w1) \\\n",
    "                        for q in range(X_in_ntwk.shape[0])])"
   ]
  },
  {
   "cell_type": "code",
   "execution_count": 52,
   "metadata": {
    "collapsed": false
   },
   "outputs": [
    {
     "data": {
      "text/plain": [
       "<matplotlib.text.Text at 0x7fa8cc127310>"
      ]
     },
     "execution_count": 52,
     "metadata": {},
     "output_type": "execute_result"
    },
    {
     "data": {
      "image/png": "[encoded data removed]",
      "text/plain": [
       "<matplotlib.figure.Figure at 0x7fa8c5648710>"
      ]
     },
     "metadata": {},
     "output_type": "display_data"
    }
   ],
   "source": [
    "h=hist(e_weights_1[y==1], bins=20, normed=True, edgecolor='none', \n",
    "            color=blue_color, alpha=0.75)\n",
    "h=hist(e_weights_1[y==0], bins=20, normed=True, edgecolor='none', \n",
    "            color=orange_color, alpha=0.75)\n",
    "title('Distribution of edge weights for edge (%d, %d)' % (idx_1, idx_2))"
   ]
  },
  {
   "cell_type": "code",
   "execution_count": 53,
   "metadata": {
    "collapsed": false
   },
   "outputs": [
    {
     "name": "stdout",
     "output_type": "stream",
     "text": [
      "3.1087184665\n",
      "1483\n"
     ]
    }
   ],
   "source": [
    "# Point that's furthest from the line\n",
    "print np.max(e_weights_1)\n",
    "sample_idx = np.where(e_weights_1==np.max(e_weights_1))[0][0]\n",
    "print sample_idx"
   ]
  },
  {
   "cell_type": "code",
   "execution_count": 57,
   "metadata": {
    "collapsed": false
   },
   "outputs": [
    {
     "name": "stdout",
     "output_type": "stream",
     "text": [
      "1.36113075375 3.19496476275\n"
     ]
    },
    {
     "data": {
      "text/plain": [
       "<matplotlib.legend.Legend at 0x7fa8c4b07b50>"
      ]
     },
     "execution_count": 57,
     "metadata": {},
     "output_type": "execute_result"
    },
    {
     "data": {
      "image/png": "[encoded data removed]",
      "text/plain": [
       "<matplotlib.figure.Figure at 0x7fa8c51d2b50>"
      ]
     },
     "metadata": {},
     "output_type": "display_data"
    }
   ],
   "source": [
    "rcParams.update({'font.size': 16})\n",
    "figure(figsize=(8, 8))\n",
    "plt.scatter(X_in_ntwk[:, idx_1], X_in_ntwk[:, idx_2], marker=\"+\", color=blue_color)\n",
    "plot(np.arange(-5, 5, 0.1),  w0*np.arange(-5, 5, 0.1) + w1, \n",
    "     ls='-', color='magenta', label='Reference line')\n",
    "xlim(-3.3, 3.3)\n",
    "ylim(-3.3, 3.3)\n",
    "xlabel('Gene %d' % idx_1)\n",
    "ylabel('Gene %d' % idx_2)\n",
    "title('Regressing gene %d against gene %d' % (idx_2, idx_1))\n",
    "\n",
    "# single out the point that's farthest from the line\n",
    "x0 = X_in_ntwk[sample_idx, idx_1]\n",
    "y0 = X_in_ntwk[sample_idx, idx_2]\n",
    "print x0, y0\n",
    "plt.scatter(x0, y0, marker=\"o\", color=orange_color)\n",
    "a = (w0 * (y0 - w1) + x0)/(1 + w0**2)\n",
    "b = (w1 + w0 * (x0 + w0 * y0))/(1 + w0**2)\n",
    "plot([x0, a], [y0, b], ls='-', color=orange_color)\n",
    "text(0.5*(x0+a), 0.5*(y0+b), 'd', color=orange_color)\n",
    "\n",
    "plt.legend(loc=(1.1, 0))\n",
    "\n",
    "#savefig('regline_example.pdf', bbox='tight_layout')"
   ]
  },
  {
   "cell_type": "markdown",
   "metadata": {},
   "source": [
    "### SUM"
   ]
  },
  {
   "cell_type": "code",
   "execution_count": 58,
   "metadata": {
    "collapsed": true
   },
   "outputs": [],
   "source": [
    "e_weights_2 = np.array([X_in_ntwk[q, idx_1] + X_in_ntwk[q, idx_2] \\\n",
    "                        for q in range(X_in_ntwk.shape[0])])"
   ]
  },
  {
   "cell_type": "code",
   "execution_count": 59,
   "metadata": {
    "collapsed": false
   },
   "outputs": [
    {
     "data": {
      "text/plain": [
       "<matplotlib.legend.Legend at 0x7fa8c4929910>"
      ]
     },
     "execution_count": 59,
     "metadata": {},
     "output_type": "execute_result"
    },
    {
     "data": {
      "image/png": "[encoded data removed]",
      "text/plain": [
       "<matplotlib.figure.Figure at 0x7fa8c5600710>"
      ]
     },
     "metadata": {},
     "output_type": "display_data"
    }
   ],
   "source": [
    "h=hist(e_weights_2[y==1], bins=20, normed=True, edgecolor='none', \n",
    "            color=blue_color, alpha=0.75, label=\"Positive class\")\n",
    "h=hist(e_weights_2[y==0], bins=20, normed=True, edgecolor='none', \n",
    "            color=orange_color, alpha=0.75, label=\"Negative class\")\n",
    "title('Distribution of edge weights for edge (%d, %d)' % (idx_1, idx_2))\n",
    "plt.legend(loc=(1.1, 0))"
   ]
  },
  {
   "cell_type": "markdown",
   "metadata": {},
   "source": [
    "### EUCLIDE"
   ]
  },
  {
   "cell_type": "code",
   "execution_count": 61,
   "metadata": {
    "collapsed": false
   },
   "outputs": [],
   "source": [
    "e_weights_3 = np.array([(0.5 * np.sqrt(X_in_ntwk[q, idx_1]**2 + X_in_ntwk[q, idx_2]**2)) \\\n",
    "                        for q in range(X_in_ntwk.shape[0])])"
   ]
  },
  {
   "cell_type": "code",
   "execution_count": 62,
   "metadata": {
    "collapsed": false
   },
   "outputs": [
    {
     "data": {
      "text/plain": [
       "<matplotlib.legend.Legend at 0x7fa8c47474d0>"
      ]
     },
     "execution_count": 62,
     "metadata": {},
     "output_type": "execute_result"
    },
    {
     "data": {
      "image/png": "[encoded data removed]",
      "text/plain": [
       "<matplotlib.figure.Figure at 0x7fa8c5629b90>"
      ]
     },
     "metadata": {},
     "output_type": "display_data"
    }
   ],
   "source": [
    "h=hist(e_weights_3[y==1], bins=20, normed=True, edgecolor='none', \n",
    "            color=blue_color, alpha=0.75, label=\"Positive class\")\n",
    "h=hist(e_weights_3[y==0], bins=20, normed=True, edgecolor='none', \n",
    "            color=orange_color, alpha=0.75, label=\"Negative class\")\n",
    "title('Distribution of edge weights for edge (%d, %d)' % (idx_1, idx_2))\n",
    "plt.legend(loc=(1.1, 0))"
   ]
  },
  {
   "cell_type": "markdown",
   "metadata": {},
   "source": [
    "## EUCLIDE with threshold"
   ]
  },
  {
   "cell_type": "code",
   "execution_count": 70,
   "metadata": {
    "collapsed": false
   },
   "outputs": [
    {
     "name": "stdout",
     "output_type": "stream",
     "text": [
      "[False  True False ...,  True  True False]\n",
      "[False  True  True ..., False False False]\n",
      "[False  True False ..., False False False]\n"
     ]
    }
   ],
   "source": [
    "print X_in_ntwk[:, idx_1]>0\n",
    "print X_in_ntwk[:, idx_2]>0\n",
    "print (X_in_ntwk[:, idx_1]>0)*(X_in_ntwk[:, idx_2]>0) "
   ]
  },
  {
   "cell_type": "code",
   "execution_count": 71,
   "metadata": {
    "collapsed": false
   },
   "outputs": [],
   "source": [
    "e_weights_4 = np.where((X_in_ntwk[:, idx_1]>0) * (X_in_ntwk[:, idx_2]>0),\n",
    "                       np.array([(0.5 * np.sqrt(X_in_ntwk[q, idx_1]**2 + X_in_ntwk[q, idx_2]**2)) \\\n",
    "                        for q in range(X_in_ntwk.shape[0])]),\n",
    "                       0)"
   ]
  },
  {
   "cell_type": "code",
   "execution_count": 72,
   "metadata": {
    "collapsed": false
   },
   "outputs": [
    {
     "data": {
      "text/plain": [
       "<matplotlib.legend.Legend at 0x7fa8c45ed3d0>"
      ]
     },
     "execution_count": 72,
     "metadata": {},
     "output_type": "execute_result"
    },
    {
     "data": {
      "image/png": "[encoded data removed]",
      "text/plain": [
       "<matplotlib.figure.Figure at 0x7fa8cf3398d0>"
      ]
     },
     "metadata": {},
     "output_type": "display_data"
    }
   ],
   "source": [
    "h=hist(e_weights_4[y==1], bins=20, normed=True, edgecolor='none', \n",
    "            color=blue_color, alpha=0.75, label=\"Positive class\")\n",
    "h=hist(e_weights_4[y==0], bins=20, normed=True, edgecolor='none', \n",
    "            color=orange_color, alpha=0.75, label=\"Negative class\")\n",
    "title('Distribution of edge weights for edge (%d, %d)' % (idx_1, idx_2))\n",
    "plt.legend(loc=(1.1, 0))"
   ]
  },
  {
   "cell_type": "code",
   "execution_count": null,
   "metadata": {
    "collapsed": true
   },
   "outputs": [],
   "source": []
  }
 ],
 "metadata": {
  "kernelspec": {
   "display_name": "Python 2",
   "language": "python",
   "name": "python2"
  },
  "language_info": {
   "codemirror_mode": {
    "name": "ipython",
    "version": 2
   },
   "file_extension": ".py",
   "mimetype": "text/x-python",
   "name": "python",
   "nbconvert_exporter": "python",
   "pygments_lexer": "ipython2",
   "version": "2.7.6"
  }
 },
 "nbformat": 4,
 "nbformat_minor": 0
}
