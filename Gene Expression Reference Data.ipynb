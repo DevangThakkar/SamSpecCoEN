{
 "cells": [
  {
   "cell_type": "code",
   "execution_count": null,
   "metadata": {
    "collapsed": true
   },
   "outputs": [],
   "source": [
    "A global map of human gene expression\n",
    "http://europepmc.org/articles/PMC2974261\n",
    "\n",
    "Data in ArrayExpress/ "
   ]
  },
  {
   "cell_type": "markdown",
   "metadata": {},
   "source": [
    "### Imports"
   ]
  },
  {
   "cell_type": "code",
   "execution_count": 1,
   "metadata": {
    "collapsed": false
   },
   "outputs": [],
   "source": [
    "import pandas as pd\n",
    "import numpy as np\n",
    "import h5py"
   ]
  },
  {
   "cell_type": "code",
   "execution_count": 2,
   "metadata": {
    "collapsed": false
   },
   "outputs": [],
   "source": [
    "import pickle\n",
    "import sys\n",
    "sys.path.append('NormalisingData/projectX/')\n",
    "from ExpressionDataset import ExpressionDataset\n",
    "import mapData"
   ]
  },
  {
   "cell_type": "code",
   "execution_count": 3,
   "metadata": {
    "collapsed": false
   },
   "outputs": [
    {
     "name": "stdout",
     "output_type": "stream",
     "text": [
      "Populating the interactive namespace from numpy and matplotlib\n"
     ]
    }
   ],
   "source": [
    "%pylab inline\n",
    "orange_color = '#d66000'\n",
    "blue_color = '#005599'"
   ]
  },
  {
   "cell_type": "markdown",
   "metadata": {},
   "source": [
    "## Process E-MTAB-62 data"
   ]
  },
  {
   "cell_type": "code",
   "execution_count": null,
   "metadata": {
    "collapsed": false
   },
   "outputs": [],
   "source": [
    "sdrf_data_fname = 'ArrayExpress/E-MTAB-62.sdrf.txt' \n",
    "fd = pd.read_csv(sdrf_data_fname, delimiter='\\t')"
   ]
  },
  {
   "cell_type": "code",
   "execution_count": null,
   "metadata": {
    "collapsed": false
   },
   "outputs": [],
   "source": [
    "#fd.describe()\n",
    "#fd['Characteristics[4 meta-groups]'].unique()"
   ]
  },
  {
   "cell_type": "code",
   "execution_count": null,
   "metadata": {
    "collapsed": false
   },
   "outputs": [],
   "source": [
    "print np.where(fd['Characteristics[4 meta-groups]']=='normal')[0].shape\n",
    "normals = fd[fd['Characteristics[4 meta-groups]']=='normal']['Source Name'].tolist()\n",
    "#print normals"
   ]
  },
  {
   "cell_type": "markdown",
   "metadata": {},
   "source": [
    "1033 entries have meta-group \"normal\""
   ]
  },
  {
   "cell_type": "code",
   "execution_count": null,
   "metadata": {
    "collapsed": false
   },
   "outputs": [],
   "source": [
    "csv_data_fname = 'ArrayExpress/hgu133a_rma_okFiles_080619_MAGETAB.csv'\n",
    "# first line = sample names, tab separated, between \" quotes (e.g  \"1102960569.CEL\"  )\n",
    "# second line = to be ignored\n",
    "# first column = gene names, between \" quotes (e.g. \"1255_g_at\")\n",
    "\n",
    "# Get sample IDs (first line of csv_data_fname)\n",
    "with open(csv_data_fname, 'r') as f:\n",
    "    header = f.readline() # samples \n",
    "    f.close()\n",
    "    \n",
    "cols = [i for (i, x) in enumerate(header.split(\"\\t\")) \\\n",
    "        if x.lstrip('\"').rstrip('\"') in normals]\n",
    "print len(cols), \"samples\"\n",
    "print cols[:10]\n",
    "print [header.split(\"\\t\")[ix] for ix in cols[:10]]"
   ]
  },
  {
   "cell_type": "code",
   "execution_count": null,
   "metadata": {
    "collapsed": false
   },
   "outputs": [],
   "source": [
    "# Get gene names (first column of csv_data_fname)\n",
    "gene_names = np.loadtxt(csv_data_fname, \n",
    "                        usecols=[0], dtype='str')\n",
    "#gene_names = [x.lstrip('\"').rstrip('\"') for x in gene_names]\n",
    "gene_names = gene_names[2:]\n",
    "print len(gene_names), \"genes\"\n",
    "print gene_names[0:10]"
   ]
  },
  {
   "cell_type": "code",
   "execution_count": null,
   "metadata": {
    "collapsed": false
   },
   "outputs": [],
   "source": [
    "# Get expression data itself\n",
    "data = np.loadtxt(csv_data_fname, \n",
    "                  skiprows=2, delimiter='\\t', usecols=cols)\n",
    "data.shape"
   ]
  },
  {
   "cell_type": "markdown",
   "metadata": {},
   "source": [
    "### Map E-MTAB-62 data\n",
    "This code to generate \"ArrayExpress/postproc/MTAB-62.h5\""
   ]
  },
  {
   "cell_type": "code",
   "execution_count": null,
   "metadata": {
    "collapsed": false
   },
   "outputs": [],
   "source": [
    "fcol = np.array([header.split(\"\\t\")[ix] for ix in cols])\n",
    "fcol = fcol.reshape((fcol.shape[0], 1))\n",
    "print fcol.shape\n",
    "print data.T.shape\n",
    "\n",
    "\n",
    "# Transform hgu133a_rma_okFiles_080619_MAGETAB.csv into .dat\n",
    "# match the format of NormalisingData/R_playground/U133AnormalizedExpression.dat:\n",
    "# first line = gene names, space-separated, between \" quotes (e.g. \"1255_g_at\")\n",
    "# first column = GSM names, between \" quotes (e.g. \"GSM107074.CEL.gz\")\n",
    "\n",
    "D = np.hstack((fcol, data.T))\n",
    "\n",
    "datafile = 'ArrayExpress/postproc/hgu133a_rma_okFiles_080619_MAGETAB.dat'\n",
    "\n",
    "np.savetxt(datafile, D, fmt='%s', comments='', delimiter=\" \", \n",
    "           header=\" \".join(gene_names))"
   ]
  },
  {
   "cell_type": "code",
   "execution_count": null,
   "metadata": {
    "collapsed": false
   },
   "outputs": [],
   "source": [
    "# Read the data as ExpressionDataset\n",
    "#datafile = 'ArrayExpress/postproc/hgu133a_rma_okFiles_080619_MAGETAB.dat'\n",
    "(affyIDs, patientIDs, exprMatrix, exprs) = mapData.readExpressionData(datafile)"
   ]
  },
  {
   "cell_type": "code",
   "execution_count": null,
   "metadata": {
    "collapsed": false
   },
   "outputs": [],
   "source": [
    "### Create an ExpressionDataset object\n",
    "cohort_name = 'MTAB-62'\n",
    "print exprMatrix.shape\n",
    "print np.array(affyIDs).shape\n",
    "print len(patientIDs)\n",
    "ds = ExpressionDataset(cohort_name, exprMatrix, np.array(affyIDs), np.ones(len(patientIDs)),\n",
    "                      np.array(patientIDs), checkNormalization=False, checkClassLabels=False)"
   ]
  },
  {
   "cell_type": "code",
   "execution_count": null,
   "metadata": {
    "collapsed": false
   },
   "outputs": [],
   "source": [
    "### Map from Affymetrix probe set ID to Entrez gene ID\n",
    "#reload(mapData)\n",
    "print \"Map AffyIDs to Entrez gene IDs\"\n",
    "map_probe_ids_to_gene_ids = 'NormalisingData/projectX/HG-U133A.na32.annot.csv/' + \\\n",
    "    'HG-U133A.na32.annot.csv'\n",
    "map_fname = 'ArrayExpress/postproc/HG-U133A.pickle'\n",
    "best_map_entrez_affy = mapData.ProbeToGeneID(map_probe_ids_to_gene_ids, ds, map_fname)\n",
    "best_map_affy_entrez = dict(zip(best_map_entrez_affy.values(), best_map_entrez_affy.keys()))\n",
    "\n",
    "idx = np.argwhere(np.in1d(ds.geneLabels, best_map_affy_entrez.keys()))[:, 0]\n",
    "\n",
    "ds_clean_probes = ds.extractGenesByIndices(('%s_clean_probes' % cohort_name), idx, \n",
    "                                          checkNormalization=False, checkClassLabels=False)\n",
    "\n",
    "print \"Replace AffyIDs with gene IDs\"\n",
    "for ix in range(len(ds_clean_probes.geneLabels)):\n",
    "    ds_clean_probes.geneLabels[ix] = best_map_affy_entrez[ds_clean_probes.geneLabels[ix]]\n",
    "\n",
    "print \"Mean-center\"\n",
    "ds_clean_probes.expressionData = ds_clean_probes.expressionData - \\\n",
    "    ds_clean_probes.expressionData.mean(0)\n",
    "\n",
    "### Dump clean data\n",
    "res_dir = 'ArrayExpress/postproc'\n",
    "ds_clean_probes = ExpressionDataset(cohort_name, ds_clean_probes.expressionData, \n",
    "                                    ds_clean_probes.geneLabels, \n",
    "                                    ds_clean_probes.patientClassLabels, \n",
    "                                    ds_clean_probes.patientLabels, \n",
    "                                    checkNormalization=False, checkClassLabels=False)\n",
    "pickle.dump(ds_clean_probes, open('%s/%s_data.pickle' % (res_dir, cohort_name), 'wb'))"
   ]
  },
  {
   "cell_type": "code",
   "execution_count": null,
   "metadata": {
    "collapsed": false
   },
   "outputs": [],
   "source": [
    "### Convert pickle data into hdf5 format\n",
    "from ConvertPickleData import EmitDataset\n",
    "res_dir = 'ArrayExpress/postproc'\n",
    "\n",
    "data_clean = pickle.load(open('%s/%s_data.pickle' % (res_dir, cohort_name)))\n",
    "\n",
    "hdf5_fname = '%s/%s.h5' % (res_dir, cohort_name)\n",
    "hdf5_f = h5py.File(hdf5_fname, 'w')\n",
    "EmitDataset(data_clean, None, hdf5_f)\n",
    "hdf5_f.close()  "
   ]
  },
  {
   "cell_type": "markdown",
   "metadata": {},
   "source": [
    "This resulted in generating the data file holding the E-MTAB-62 data: \"ArrayExpress/postproc/MTAB-62.h5\""
   ]
  },
  {
   "cell_type": "markdown",
   "metadata": {},
   "source": [
    "## Find interesting gene pairs in ACES_RFS data"
   ]
  },
  {
   "cell_type": "markdown",
   "metadata": {},
   "source": [
    "### Load ACES data"
   ]
  },
  {
   "cell_type": "code",
   "execution_count": 4,
   "metadata": {
    "collapsed": false
   },
   "outputs": [
    {
     "name": "stdout",
     "output_type": "stream",
     "text": [
      "(1616, 12750)\n",
      "Entrez_6207\n"
     ]
    }
   ],
   "source": [
    "# Get ACES data\n",
    "h5ds = h5py.File(\"ACES/experiments/data/U133A_combat.h5\")\n",
    "X = np.array(h5ds['U133A_combat_RFS']['ExpressionData'])\n",
    "y = np.array(h5ds['U133A_combat_RFS']['PatientClassLabels'])\n",
    "aces_gene_names =  np.array(h5ds['U133A_combat_RFS']['GeneLabels'])\n",
    "h5ds.close()\n",
    "print X.shape\n",
    "print aces_gene_names[20]"
   ]
  },
  {
   "cell_type": "code",
   "execution_count": null,
   "metadata": {
    "collapsed": false
   },
   "outputs": [],
   "source": [
    "# Positive and negative entries\n",
    "i_pos = np.where(y)[0]\n",
    "i_neg = np.where(y != True)[0]\n",
    "print len(i_pos), len(i_neg)"
   ]
  },
  {
   "cell_type": "code",
   "execution_count": null,
   "metadata": {
    "collapsed": false
   },
   "outputs": [],
   "source": [
    "# Normalize the data\n",
    "x_mean = np.mean(X, axis=0)\n",
    "x_stdv = np.std(X, axis=0, ddof=1)\n",
    "Xnorm = X - x_mean\n",
    "Xnorm /= x_stdv"
   ]
  },
  {
   "cell_type": "code",
   "execution_count": null,
   "metadata": {
    "collapsed": false
   },
   "outputs": [],
   "source": [
    "# Create correlation matrix\n",
    "W = np.corrcoef(np.transpose(Xnorm))"
   ]
  },
  {
   "cell_type": "code",
   "execution_count": null,
   "metadata": {
    "collapsed": true
   },
   "outputs": [],
   "source": [
    "# Take absolute values\n",
    "W = np.abs(W)"
   ]
  },
  {
   "cell_type": "code",
   "execution_count": null,
   "metadata": {
    "collapsed": false
   },
   "outputs": [],
   "source": [
    "Wthresholded = np.where(W > 0.8, W, 0)\n",
    "Wthresholded[np.diag_indices(X.shape[1])] = 0\n",
    "np.where(Wthresholded)"
   ]
  },
  {
   "cell_type": "code",
   "execution_count": null,
   "metadata": {
    "collapsed": false
   },
   "outputs": [],
   "source": [
    "print W[286, 3152], Wpos[286, 3152]"
   ]
  },
  {
   "cell_type": "markdown",
   "metadata": {},
   "source": [
    "W[17, 36] = 0.65584707445795032\n",
    "\n",
    "The distributions of positive and negative are similar"
   ]
  },
  {
   "cell_type": "markdown",
   "metadata": {},
   "source": [
    "## Regression line for ACES-RFS"
   ]
  },
  {
   "cell_type": "code",
   "execution_count": null,
   "metadata": {
    "collapsed": true
   },
   "outputs": [],
   "source": [
    "gene_a = 286\n",
    "gene_b = 3152\n",
    "n, p = X.shape\n",
    "reg_w = np.linalg.lstsq(np.array([ Xnorm[:, gene_a], np.ones(n) ]).T, Xnorm[:, gene_b])[0]\n",
    "[w0, w1] = reg_w"
   ]
  },
  {
   "cell_type": "code",
   "execution_count": null,
   "metadata": {
    "collapsed": false
   },
   "outputs": [],
   "source": [
    "dmax = 0\n",
    "imax = -1\n",
    "for ix in range(n):\n",
    "    x0 = Xnorm[ix, gene_a]\n",
    "    y0 = Xnorm[ix, gene_b]\n",
    "    distance = np.abs(w0*x0 - y0 + w1) / np.sqrt(w0**2+1)\n",
    "    #print ix, distance\n",
    "    if distance > dmax:\n",
    "        dmax = distance\n",
    "        imax = ix\n",
    "print imax, dmax"
   ]
  },
  {
   "cell_type": "code",
   "execution_count": null,
   "metadata": {
    "collapsed": false
   },
   "outputs": [],
   "source": [
    "rcParams.update({'font.size': 16})\n",
    "figure(figsize=(8, 8))\n",
    "plot(Xnorm[i_pos, gene_a], Xnorm[i_pos, gene_b], marker=\"+\", ls='', color=blue_color)\n",
    "plot(Xnorm[i_neg, gene_a], Xnorm[i_neg, gene_b], marker=\".\", ls='', color=blue_color)\n",
    "plot(np.arange(-4, 4.1, 0.1),  w0*np.arange(-4, 4.1, 0.1) + w1, ls='-', color=orange_color)\n",
    "xlim(-4, 4)\n",
    "ylim(-4, 4)\n",
    "xlabel('Gene %s' % gene_a)\n",
    "ylabel('Gene %s' % gene_b)\n",
    "title('Regressing gene %s against gene %s' % (gene_b, gene_a))\n",
    "\n",
    "# single out one point\n",
    "sample_idx = 1377\n",
    "x0 = Xnorm[sample_idx, gene_a]\n",
    "y0 = Xnorm[sample_idx, gene_b]\n",
    "#plot(x0, y0, marker=\"*\", ls='', color=blue_color)\n",
    "a = (w0 * (y0 - w1) + x0)/(1 + w0**2)\n",
    "b = (w1 + w0 * (x0 + w0 * y0))/(1 + w0**2)\n",
    "plot([x0, a], [y0, b], ls='-', color=blue_color)\n",
    "print x0, a, y0, b\n",
    "text(0.5*(x0+a), 0.5*(y0+b), 'd', color=blue_color)\n",
    "\n",
    "savefig('regline_example.pdf', bbox='tight_layout')"
   ]
  },
  {
   "cell_type": "markdown",
   "metadata": {},
   "source": [
    "## Look at gene vs. gene plots in ACES-RFS and E-MTAB-62 data"
   ]
  },
  {
   "cell_type": "markdown",
   "metadata": {},
   "source": [
    "### Load reference data"
   ]
  },
  {
   "cell_type": "code",
   "execution_count": 5,
   "metadata": {
    "collapsed": false
   },
   "outputs": [
    {
     "name": "stdout",
     "output_type": "stream",
     "text": [
      "(1033, 12750)\n"
     ]
    }
   ],
   "source": [
    "# Load reference data\n",
    "f = h5py.File(\"ArrayExpress/postproc/MTAB-62.h5\")\n",
    "X_ref = f['MTAB-62']['ExpressionData']\n",
    "print X_ref.shape\n",
    "ref_gene_names =  f['MTAB-62']['GeneLabels']"
   ]
  },
  {
   "cell_type": "code",
   "execution_count": 6,
   "metadata": {
    "collapsed": false
   },
   "outputs": [],
   "source": [
    "# Reorder reference data so that genes map those in ACES data\n",
    "# reordered_genes[0] = index of aces_gene_names[0] in ref_gene_names\n",
    "ref_gene_names = list(ref_gene_names)\n",
    "ref_gene_names_dict = dict([(a, ix) for ix, a in enumerate(ref_gene_names)]) # name:idx\n",
    "#print ref_gene_names_dict\n",
    "reordered_genes = [ref_gene_names_dict[a] for a in aces_gene_names]\n",
    "#print ref_gene_names[reordered_genes[20]]\n",
    "#X_ref = X_ref[:, reordered_genes]\n",
    "X_ref_reordered = np.array(X_ref)\n",
    "for ix in range(X_ref.shape[1]):\n",
    "    X_ref_reordered[:, ix] = X_ref[:, reordered_genes[ix]]"
   ]
  },
  {
   "cell_type": "code",
   "execution_count": 7,
   "metadata": {
    "collapsed": true
   },
   "outputs": [],
   "source": [
    "# Normalize the data\n",
    "x_mean = np.mean(X_ref_reordered, axis=0)\n",
    "x_stdv = np.std(X_ref_reordered, axis=0, ddof=1)\n",
    "\n",
    "Xnorm = X - x_mean\n",
    "Xnorm /= x_stdv\n",
    "\n",
    "X_ref_norm = X_ref_reordered - x_mean\n",
    "X_ref_norm /= x_stdv\n",
    "del X_ref_reordered"
   ]
  },
  {
   "cell_type": "code",
   "execution_count": null,
   "metadata": {
    "collapsed": false
   },
   "outputs": [],
   "source": [
    "gene_a = 286\n",
    "gene_b = 3152\n",
    "n, p = X_ref_norm.shape\n",
    "reg_w = np.linalg.lstsq(np.array([ X_ref_norm[:, gene_a], np.ones(n) ]).T, \n",
    "                        X_ref_norm[:, gene_b])[0]\n",
    "[w0, w1] = reg_w"
   ]
  },
  {
   "cell_type": "code",
   "execution_count": null,
   "metadata": {
    "collapsed": false
   },
   "outputs": [],
   "source": [
    "rcParams.update({'font.size': 16})\n",
    "figure(figsize=(8, 8))\n",
    "plot(X_ref_norm[:, gene_a], X_ref_norm[:, gene_b], marker=\"+\", ls='', color='darkgrey')\n",
    "plot(Xnorm[:, gene_a], Xnorm[:, gene_b], marker=\"+\", ls='', color=blue_color)\n",
    "\n",
    "plot(np.arange(-4, 4.1, 0.1),  w0*np.arange(-4, 4.1, 0.1) + w1, ls='-', color='darkgrey')\n",
    "\n",
    "\n",
    "#reg_w_aces = np.linalg.lstsq(np.array([ Xnorm[:, gene_a], np.ones(Xnorm.shape[0]) ]).T, \n",
    "#                            Xnorm[:, gene_b])[0]\n",
    "#plot(np.arange(-4, 4.1, 0.1), reg_w_aces[0]*np.arange(-4, 4.1, 0.1) + reg_w_aces[1], \n",
    "#    ls='--', color=blue_color)\n",
    "\n",
    "#reg_w_aces = np.linalg.lstsq(np.array([ X[:, gene_a], np.ones(X.shape[0]) ]).T, \n",
    "#                            X[:, gene_b])[0]\n",
    "#plot(np.arange(-4, 4.1, 0.1), reg_w_aces[0]*np.arange(-4, 4.1, 0.1) + reg_w_aces[1], \n",
    "#    ls='-.', color=blue_color)\n",
    "\n",
    "\n",
    "xlim(-3, 3)\n",
    "ylim(-3, 3)\n",
    "xlabel('Gene %d' % gene_a)\n",
    "ylabel('Gene %d' % gene_b)\n",
    "title('Regressing gene %d against gene %d' % (gene_a, gene_b))\n",
    "\n",
    "# single out one point\n",
    "sample_idx = 1377\n",
    "x0 = Xnorm[sample_idx, gene_a]\n",
    "y0 = Xnorm[sample_idx, gene_b]\n",
    "#plot(x0, y0, marker=\"o\", ls='', color=blue_color)\n",
    "a = (w0 * (y0 - w1) + x0)/(1 + w0**2)\n",
    "b = (w1 + w0 * (x0 + w0 * y0))/(1 + w0**2)\n",
    "plot([x0, a], [y0, b], ls='-', color=blue_color)\n",
    "text(0.5*(x0+a), 0.5*(y0+b), 'd', color=blue_color)\n",
    "\n",
    "savefig('ArrayExpress/postproc/regline_example.pdf', bbox='tight_layout')"
   ]
  },
  {
   "cell_type": "markdown",
   "metadata": {},
   "source": [
    "## Comparing network structures based on ACES data and reference data"
   ]
  },
  {
   "cell_type": "code",
   "execution_count": null,
   "metadata": {
    "collapsed": false
   },
   "outputs": [],
   "source": [
    "#f = h5py.File(\"ACES/experiments/data/U133A_combat.h5\")\n",
    "#sampleLabels = np.array(f['U133A_combat_RFS']['PatientClassLabels'])\n",
    "#X = np.array(f['U133A_combat_RFS']['ExpressionData'])\n",
    "#f.close()\n",
    "numGenes = X.shape[1]\n",
    "\n",
    "# normalize ACES data based on ACES data\n",
    "x_mean = np.mean(X, axis=0)\n",
    "x_stdv = np.std(X, axis=0, ddof=1)\n",
    "Xnorm = X - x_mean\n",
    "Xnorm /= x_stdv\n",
    "\n",
    "# Restrict the data to the positive samples\n",
    "Xpos = Xnorm[i_pos, :]\n",
    "        \n",
    "# Restrict the data to the negative samples\n",
    "Xneg = Xnorm[i_neg, :]"
   ]
  },
  {
   "cell_type": "code",
   "execution_count": null,
   "metadata": {
    "collapsed": false
   },
   "outputs": [],
   "source": [
    "# Compute Pearson's correlations between genes\n",
    "del Waces\n",
    "Waces = np.abs(np.corrcoef(np.transpose(Xnorm)))"
   ]
  },
  {
   "cell_type": "code",
   "execution_count": null,
   "metadata": {
    "collapsed": false
   },
   "outputs": [],
   "source": [
    "# Threshold the ACES network\n",
    "threshold = 0.6\n",
    "#Waces = np.where(np.logical_or(np.logical_or(Waces > threshold,\n",
    "#                                       np.corrcoef(np.transpose(Xneg)) > threshold),\n",
    "#                                       np.corrcoef(np.transpose(Xpos)) > threshold),\n",
    "#                                      Waces, 0)\n",
    "Waces = np.where(Waces > threshold, Waces, 0)\n",
    "# Only keep the upper triangular matrix (it's symmetric)\n",
    "Waces[np.tril_indices(numGenes)] = 0\n",
    "        \n",
    "print np.count_nonzero(Waces), 'edges (ACES)'"
   ]
  },
  {
   "cell_type": "code",
   "execution_count": null,
   "metadata": {
    "collapsed": false
   },
   "outputs": [],
   "source": [
    "# Compute network statistics\n",
    "connectivities = np.round(np.sum(Waces + Waces.T, axis=1))\n",
    "\n",
    "nnodes = np.shape(np.nonzero(connectivities))[1]\n",
    "print \"nodes:\", nnodes\n",
    "print \"density:\", (2*np.sum(connectivities)/(nnodes * (nnodes-1)))\n",
    "\n",
    "# Compute mean network connectivity\n",
    "ave_conn = np.mean(connectivities)\n",
    "print \"Average connectivity:\", ave_conn\n",
    "\n",
    "# Compute log10(connectivites)\n",
    "k_values = np.unique(connectivities)\n",
    "if k_values[0] == 0:\n",
    "    k_values = k_values[1:]\n",
    "l_k_values = np.log10(k_values)\n",
    "        \n",
    "# Compute log10(freq(connectivities))\n",
    "connectivities_bin_count = np.bincount(np.round(connectivities).astype(int))[1:]\n",
    "l_freq_k = np.log10(connectivities_bin_count[np.where(connectivities_bin_count > 0)[0]])\n",
    "\n",
    "# Fit regression line\n",
    "k_w, residuals = np.linalg.lstsq(np.array([ l_k_values, np.ones(len(k_values)) ]).T,\n",
    "                                 l_freq_k)[:2]\n",
    "slope = k_w[0]\n",
    "print \"Slope:\", slope\n",
    "\n",
    "r2 = 1 - residuals[0] / (l_freq_k.size * l_freq_k.var())\n",
    "print \"R2:\", r2"
   ]
  },
  {
   "cell_type": "code",
   "execution_count": null,
   "metadata": {
    "collapsed": false
   },
   "outputs": [],
   "source": [
    "pcolor(Waces[:500, :500], cmap='OrRd')\n",
    "plt.colorbar()"
   ]
  },
  {
   "cell_type": "code",
   "execution_count": 8,
   "metadata": {
    "collapsed": false
   },
   "outputs": [],
   "source": [
    "# Reference network\n",
    "Wrefc = np.abs(np.corrcoef(np.transpose(X_ref_norm)))"
   ]
  },
  {
   "cell_type": "code",
   "execution_count": null,
   "metadata": {
    "collapsed": false,
    "scrolled": true
   },
   "outputs": [],
   "source": [
    "# Threshold the reference network \n",
    "threshold = 0.5\n",
    "Wrefc = np.where((Wrefc > threshold), Wrefc, 0)\n",
    "\n",
    "# Only keep the upper triangular matrix (it's symmetric)\n",
    "Wrefc[np.tril_indices(numGenes)] = 0\n",
    "\n",
    "print np.count_nonzero(Wrefc), 'edges (REFERENCE)'"
   ]
  },
  {
   "cell_type": "code",
   "execution_count": null,
   "metadata": {
    "collapsed": false
   },
   "outputs": [],
   "source": [
    "# Compute network statistics\n",
    "connectivities = np.round(np.sum(Wrefc + Wrefc.T, axis=1))\n",
    "\n",
    "nnodes = np.shape(np.nonzero(connectivities))[1]\n",
    "print \"nodes:\", nnodes\n",
    "print \"density:\", (2*np.sum(connectivities)/(nnodes * (nnodes-1)))\n",
    "\n",
    "# Compute mean network connectivity\n",
    "ave_conn = np.mean(connectivities)\n",
    "print \"Average connectivity:\", ave_conn\n",
    "\n",
    "# Compute log10(connectivites)\n",
    "k_values = np.unique(connectivities)\n",
    "if k_values[0] == 0:\n",
    "    k_values = k_values[1:]\n",
    "l_k_values = np.log10(k_values)\n",
    "        \n",
    "# Compute log10(freq(connectivities))\n",
    "connectivities_bin_count = np.bincount(np.round(connectivities).astype(int))[1:]\n",
    "l_freq_k = np.log10(connectivities_bin_count[np.where(connectivities_bin_count > 0)[0]])\n",
    "\n",
    "# Fit regression line\n",
    "k_w, residuals = np.linalg.lstsq(np.array([ l_k_values, np.ones(len(k_values)) ]).T,\n",
    "                                 l_freq_k)[:2]\n",
    "slope = k_w[0]\n",
    "print \"Slope:\", slope\n",
    "\n",
    "r2 = 1 - residuals[0] / (l_freq_k.size * l_freq_k.var())\n",
    "print \"R2:\", r2"
   ]
  },
  {
   "cell_type": "code",
   "execution_count": null,
   "metadata": {
    "collapsed": true
   },
   "outputs": [],
   "source": [
    "# List edges for ACES\n",
    "edges_aces = np.nonzero(Waces)\n",
    "edges_aces = np.array([edges_aces[0], edges_aces[1]], dtype='int').transpose()\n",
    "pickle.dump(corr_aces_neg_only, 'edges_aces.pickle')\n",
    "with open('edges_aces.pickle', 'w') as fd:\n",
    "    pickle.dump(edges_aces, fd)\n",
    "    fd.close()"
   ]
  },
  {
   "cell_type": "code",
   "execution_count": 15,
   "metadata": {
    "collapsed": false
   },
   "outputs": [],
   "source": [
    "# List edges for REFERENCE\n",
    "edges_refc = np.nonzero(Wrefc)\n",
    "edges_refc = np.array([edges_refc[0], edges_refc[1]], dtype='int').transpose()"
   ]
  },
  {
   "cell_type": "code",
   "execution_count": null,
   "metadata": {
    "collapsed": false
   },
   "outputs": [],
   "source": [
    "print edges_refc[0, :]\n",
    "print edges_aces[0, :]\n",
    "edges_refc_set = set([\"%d_%d\" % (x[0], x[1]) for x in edges_refc.tolist()])\n",
    "print '0_62' in edges_refc_set, '0_61' in edges_refc_set\n",
    "print Wrefc[4, 502], Wrefc[502, 4], Waces[4, 502], Waces[502, 4]\n",
    "\n",
    "counter = 0\n",
    "for x in edges_aces.tolist():\n",
    "    xstr = \"%d_%d\" % (x[0], x[1])\n",
    "    if xstr not in edges_refc_set:\n",
    "        counter += 1\n",
    "        #print xstr\n",
    "print counter, \"edges from edges_aces not in edges_refc\""
   ]
  },
  {
   "cell_type": "code",
   "execution_count": null,
   "metadata": {
    "collapsed": false
   },
   "outputs": [],
   "source": [
    "# Build ACESpos network\n",
    "Waces_pos = np.abs(np.corrcoef(np.transpose(Xpos)))\n",
    "\n",
    "# Threshold ACESpos\n",
    "threshold = 0.6\n",
    "Waces_pos = np.where(Waces_pos > threshold, Waces_pos, 0)\n",
    "\n",
    "# Only keep the upper triangular matrix (it's symmetric)\n",
    "Waces_pos[np.tril_indices(numGenes)] = 0\n",
    "        \n",
    "print np.count_nonzero(Waces_pos), 'edges (ACES_pos)'"
   ]
  },
  {
   "cell_type": "code",
   "execution_count": null,
   "metadata": {
    "collapsed": false
   },
   "outputs": [],
   "source": [
    "# Build ACESneg network\n",
    "Waces_neg = np.abs(np.corrcoef(np.transpose(Xneg)))\n",
    "\n",
    "# Threshold ACESneg\n",
    "threshold = 0.6\n",
    "Waces_neg = np.where(Waces_neg > threshold, Waces_neg, 0)\n",
    "\n",
    "# Only keep the upper triangular matrix (it's symmetric)\n",
    "Waces_neg[np.tril_indices(numGenes)] = 0\n",
    "        \n",
    "print np.count_nonzero(Waces_neg), 'edges (ACES_neg)'"
   ]
  },
  {
   "cell_type": "code",
   "execution_count": null,
   "metadata": {
    "collapsed": true
   },
   "outputs": [],
   "source": [
    "# Build list of ACESpos edges\n",
    "edges_aces_pos = np.nonzero(Waces_pos)\n",
    "edges_aces_pos = np.array([edges_aces_pos[0], edges_aces_pos[1]], dtype='int').transpose()"
   ]
  },
  {
   "cell_type": "code",
   "execution_count": null,
   "metadata": {
    "collapsed": false
   },
   "outputs": [],
   "source": [
    "# Build list of ACESneg edges\n",
    "edges_aces_neg = np.nonzero(Waces_neg)\n",
    "edges_aces_neg = np.array([edges_aces_neg[0], edges_aces_neg[1]], dtype='int').transpose()\n",
    "with open('edges_aces_neg.pickle', 'w') as fd:\n",
    "    pickle.dump(edges_aces_neg, fd)\n",
    "    fd.close()"
   ]
  },
  {
   "cell_type": "code",
   "execution_count": null,
   "metadata": {
    "collapsed": false
   },
   "outputs": [],
   "source": [
    "# Find correlation (in ACES) of edges that are in ACESpos but not in ACES\n",
    "#edges_aces = set([\"%d_%d\" % (x[0], x[1]) for x in edges_aces.tolist()])\n",
    "\n",
    "corr_aces_pos_only = []\n",
    "for x in edges_aces_pos.tolist():\n",
    "    xstr = \"%d_%d\" % (x[0], x[1])\n",
    "    if xstr not in edges_aces:\n",
    "        corr_aces_pos_only.append(Waces[x[0], x[1]])\n",
    "        #print Waces_pos[x[0], x[1]]              \n",
    "print len(corr_aces_pos_only), \"edges from edges_aces_pos not in edges_aces\""
   ]
  },
  {
   "cell_type": "code",
   "execution_count": null,
   "metadata": {
    "collapsed": false
   },
   "outputs": [],
   "source": [
    "# Find correlation of  edges that are in ACESneg but not in ACES\n",
    "#edges_aces = set([\"%d_%d\" % (x[0], x[1]) for x in edges_aces.tolist()])\n",
    "\n",
    "corr_aces_neg_only = []\n",
    "for x in edges_aces_neg.tolist():\n",
    "    xstr = \"%d_%d\" % (x[0], x[1])\n",
    "    if xstr not in edges_aces:\n",
    "        corr_aces_neg_only.append(Waces[x[0], x[1]])\n",
    "print len(corr_aces_neg_only), \"edges from edges_aces_neg not in edges_aces\"\n",
    "with open('corr_aces_neg_only.pickle', 'w') as fd:\n",
    "    pickle.dump(corr_aces_neg_only, fd)\n",
    "    fd.close()"
   ]
  },
  {
   "cell_type": "code",
   "execution_count": 6,
   "metadata": {
    "collapsed": false
   },
   "outputs": [],
   "source": [
    "with open('corr_aces_neg_only.pickle') as fd:\n",
    "    corr_aces_neg_only = pickle.load(fd)\n",
    "    fd.close()"
   ]
  },
  {
   "cell_type": "code",
   "execution_count": 8,
   "metadata": {
    "collapsed": false
   },
   "outputs": [
    {
     "data": {
      "text/plain": [
       "(array([   1.,    0.,    0.,    0.,    0.,    0.,    0.,    0.,    2.,\n",
       "           1.,    0.,    2.,    1.,    0.,    4.,    4.,    1.,    2.,\n",
       "           3.,    7.,    8.,    5.,    7.,   19.,   13.,   26.,   25.,\n",
       "          38.,   29.,   39.,   55.,   53.,   81.,   85.,   94.,  111.,\n",
       "         129.,  133.,  174.,  165.,  193.,  207.,  261.,  247.,  263.,\n",
       "         292.,  318.,  319.,  344.,  375.]),\n",
       " array([ 0.51724717,  0.51890222,  0.52055726,  0.5222123 ,  0.52386734,\n",
       "         0.52552238,  0.52717742,  0.52883246,  0.5304875 ,  0.53214255,\n",
       "         0.53379759,  0.53545263,  0.53710767,  0.53876271,  0.54041775,\n",
       "         0.54207279,  0.54372784,  0.54538288,  0.54703792,  0.54869296,\n",
       "         0.550348  ,  0.55200304,  0.55365808,  0.55531312,  0.55696817,\n",
       "         0.55862321,  0.56027825,  0.56193329,  0.56358833,  0.56524337,\n",
       "         0.56689841,  0.56855346,  0.5702085 ,  0.57186354,  0.57351858,\n",
       "         0.57517362,  0.57682866,  0.5784837 ,  0.58013874,  0.58179379,\n",
       "         0.58344883,  0.58510387,  0.58675891,  0.58841395,  0.59006899,\n",
       "         0.59172403,  0.59337907,  0.59503412,  0.59668916,  0.5983442 ,\n",
       "         0.59999924]),\n",
       " <a list of 50 Patch objects>)"
      ]
     },
     "execution_count": 8,
     "metadata": {},
     "output_type": "execute_result"
    },
    {
     "data": {
      "image/png": "[encoded data removed]",
      "text/plain": [
       "<matplotlib.figure.Figure at 0x7f2d1cff1590>"
      ]
     },
     "metadata": {},
     "output_type": "display_data"
    }
   ],
   "source": [
    "plt.hist(corr_aces_neg_only, 50)"
   ]
  },
  {
   "cell_type": "code",
   "execution_count": null,
   "metadata": {
    "collapsed": true
   },
   "outputs": [],
   "source": [
    "with open('edge_aces_neg_only.pickle') as fd:\n",
    "    edges_aces_neg_only = pickle.load(fd)\n",
    "    fd.close()"
   ]
  },
  {
   "cell_type": "code",
   "execution_count": 19,
   "metadata": {
    "collapsed": false
   },
   "outputs": [
    {
     "name": "stdout",
     "output_type": "stream",
     "text": [
      "4136 edges from edges_aces_neg not in edges_refc\n"
     ]
    },
    {
     "data": {
      "text/plain": [
       "(array([  45.,   38.,   49.,   49.,   65.,   53.,   64.,   48.,   54.,\n",
       "          59.,   75.,   61.,   64.,   68.,   77.,   82.,   99.,   77.,\n",
       "          77.,   86.,  108.,   96.,   92.,  117.,  122.,  112.,  122.,\n",
       "         112.,  131.,  114.,  108.,  116.,  123.,  128.,  134.,  126.,\n",
       "         116.,  115.,   95.,   84.,   98.,   97.,   79.,   70.,   61.,\n",
       "          57.,   56.,   32.,   18.,    7.]),\n",
       " array([  8.09934809e-06,   1.88744800e-02,   3.77408606e-02,\n",
       "          5.66072413e-02,   7.54736219e-02,   9.43400026e-02,\n",
       "          1.13206383e-01,   1.32072764e-01,   1.50939144e-01,\n",
       "          1.69805525e-01,   1.88671906e-01,   2.07538286e-01,\n",
       "          2.26404667e-01,   2.45271048e-01,   2.64137428e-01,\n",
       "          2.83003809e-01,   3.01870190e-01,   3.20736570e-01,\n",
       "          3.39602951e-01,   3.58469332e-01,   3.77335712e-01,\n",
       "          3.96202093e-01,   4.15068473e-01,   4.33934854e-01,\n",
       "          4.52801235e-01,   4.71667615e-01,   4.90533996e-01,\n",
       "          5.09400377e-01,   5.28266757e-01,   5.47133138e-01,\n",
       "          5.65999519e-01,   5.84865899e-01,   6.03732280e-01,\n",
       "          6.22598660e-01,   6.41465041e-01,   6.60331422e-01,\n",
       "          6.79197802e-01,   6.98064183e-01,   7.16930564e-01,\n",
       "          7.35796944e-01,   7.54663325e-01,   7.73529706e-01,\n",
       "          7.92396086e-01,   8.11262467e-01,   8.30128848e-01,\n",
       "          8.48995228e-01,   8.67861609e-01,   8.86727989e-01,\n",
       "          9.05594370e-01,   9.24460751e-01,   9.43327131e-01]),\n",
       " <a list of 50 Patch objects>)"
      ]
     },
     "execution_count": 19,
     "metadata": {},
     "output_type": "execute_result"
    },
    {
     "data": {
      "image/png": "[encoded data removed]",
      "text/plain": [
       "<matplotlib.figure.Figure at 0x7f2d247afe90>"
      ]
     },
     "metadata": {},
     "output_type": "display_data"
    }
   ],
   "source": [
    "# Correlation in the reference of edges in ACESneg but not in ACES\n",
    "corr_refc_neg_only = []\n",
    "for xstr in edges_aces_neg_only:\n",
    "    x = [int(i) for i in xstr.split('_')]\n",
    "    corr_refc_neg_only.append(Wrefc[x[0], x[1]])\n",
    "\n",
    "with open('corr_refc_neg_only.pickle', 'w') as fd:\n",
    "    pickle.dump(corr_refc_neg_only, fd)\n",
    "    fd.close()\n",
    "plt.hist(corr_refc_neg_only, 50)"
   ]
  },
  {
   "cell_type": "code",
   "execution_count": 9,
   "metadata": {
    "collapsed": true
   },
   "outputs": [],
   "source": [
    "with open('edge_aces_pos_only.pickle') as fd:\n",
    "    edges_aces_pos_only = pickle.load(fd)\n",
    "    fd.close()"
   ]
  },
  {
   "cell_type": "code",
   "execution_count": 11,
   "metadata": {
    "collapsed": false
   },
   "outputs": [
    {
     "data": {
      "text/plain": [
       "(array([  240.,   222.,   241.,   281.,   324.,   403.,   396.,   430.,\n",
       "          477.,   548.,   643.,   914.,  1179.,  1243.,   885.,   497.,\n",
       "          268.,   121.,    52.,     7.]),\n",
       " array([  2.45191149e-04,   4.96749066e-02,   9.91046221e-02,\n",
       "          1.48534338e-01,   1.97964053e-01,   2.47393768e-01,\n",
       "          2.96823484e-01,   3.46253199e-01,   3.95682915e-01,\n",
       "          4.45112630e-01,   4.94542346e-01,   5.43972061e-01,\n",
       "          5.93401777e-01,   6.42831492e-01,   6.92261208e-01,\n",
       "          7.41690923e-01,   7.91120638e-01,   8.40550354e-01,\n",
       "          8.89980069e-01,   9.39409785e-01,   9.88839500e-01]),\n",
       " <a list of 20 Patch objects>)"
      ]
     },
     "execution_count": 11,
     "metadata": {},
     "output_type": "execute_result"
    },
    {
     "data": {
      "image/png": "[encoded data removed]",
      "text/plain": [
       "<matplotlib.figure.Figure at 0x7f6a18c70210>"
      ]
     },
     "metadata": {},
     "output_type": "display_data"
    }
   ],
   "source": [
    "# Correlation in the reference of edges in ACESpos but not in ACES\n",
    "corr_refc_pos_only = []\n",
    "for xstr in edges_aces_pos_only:\n",
    "    x = [int(i) for i in xstr.split('_')]\n",
    "    corr_refc_pos_only.append(Wrefc[x[0], x[1]])\n",
    "\n",
    "with open('corr_refc_pos_only.pickle', 'w') as fd:\n",
    "    pickle.dump(corr_refc_pos_only, fd)\n",
    "    fd.close()\n",
    "plt.hist(corr_refc_pos_only, 20)"
   ]
  },
  {
   "cell_type": "markdown",
   "metadata": {},
   "source": [
    "## What follows is junk"
   ]
  },
  {
   "cell_type": "markdown",
   "metadata": {},
   "source": [
    "## Check whether normalization can be done with respect to the reference data."
   ]
  },
  {
   "cell_type": "code",
   "execution_count": null,
   "metadata": {
    "collapsed": false
   },
   "outputs": [],
   "source": [
    "x_mean = np.mean(X_ref_reordered, axis=0)\n",
    "print \"mean:\", x_mean\n",
    "x_stdv = np.std(X_ref_reordered, axis=0, ddof=1)\n",
    "print \"stdv:\", x_stdv\n",
    "X_ref_normalized = np.array(X_ref_reordered)\n",
    "X_ref_normalized -= x_mean\n",
    "X_ref_normalized /= x_stdv"
   ]
  },
  {
   "cell_type": "code",
   "execution_count": null,
   "metadata": {
    "collapsed": true
   },
   "outputs": [],
   "source": [
    "X_normalized = np.array(X)\n",
    "X_normalized -= x_mean\n",
    "X_normalized /= x_stdv"
   ]
  },
  {
   "cell_type": "code",
   "execution_count": null,
   "metadata": {
    "collapsed": false
   },
   "outputs": [],
   "source": [
    "n, p = X_ref_normalized.shape\n",
    "print n, p\n",
    "reg_w = np.linalg.lstsq(np.array([X_ref_normalized[:, 1], np.ones(n) ]).T, \n",
    "                        X_ref_normalized[:, 811])[0]"
   ]
  },
  {
   "cell_type": "code",
   "execution_count": null,
   "metadata": {
    "collapsed": false
   },
   "outputs": [],
   "source": [
    "[w0, w1] = reg_w\n",
    "\n",
    "rcParams.update({'font.size': 16})\n",
    "figure(figsize=(8, 8))\n",
    "plot(X_ref_normalized[:, 1], X_ref_normalized[:, 811], marker=\"+\", ls='', color='darkgrey')\n",
    "plot(X_normalized[:, 1], X_normalized[:, 811], marker=\"x\", ls='', color=blue_color)\n",
    "\n",
    "plot(np.arange(-2, 2.1, 0.1),  w0*np.arange(-2, 2.1, 0.1) + w1, ls='-', color=orange_color)\n",
    "xlim(-2, 2)\n",
    "ylim(-2, 2)\n",
    "xlabel('Gene A')\n",
    "ylabel('Gene B')\n",
    "#title('Regressing Gene B against Gene A')\n",
    "\n",
    "# single out one point\n",
    "sample_idx = 473\n",
    "x0 = X_normalized[sample_idx, 1]\n",
    "y0 = X_normalized[sample_idx, 811]\n",
    "plot(x0, y0, marker=\"o\", ls='', color=blue_color)\n",
    "a = (w0 * (y0 - w1) + x0)/(1 + w0**2)\n",
    "b = (w1 + w0 * (x0 + w0 * y0))/(1 + w0**2)\n",
    "plot([x0, a], [y0, b], ls='-', color=blue_color)\n",
    "text(0.5*(x0+a), 0.5*(y0+b), 'd', color=blue_color)\n",
    "\n",
    "savefig('ArrayExpress/postproc/regline_normalized_example.pdf', bbox='tight_layout')"
   ]
  },
  {
   "cell_type": "code",
   "execution_count": null,
   "metadata": {
    "collapsed": true
   },
   "outputs": [],
   "source": [
    "### STEP 1 (do we need this?): Compute correlations between samples\n",
    "#import pickle\n",
    "#import calculatePC\n",
    "#import ensure_dir\n",
    "#print \"Computing correlation between samples (takes time)\"\n",
    "#res_dir = 'results/heatmaps'\n",
    "#ensure_dir(res_dir)\n",
    "#corr, corr_hist = calculatePC(ds.expressionData)\n",
    "#pickle.dump(corr, open('%s/%s_corr_matrix.pickle' % (res_dir, cohort_name), 'wb'))\n",
    "\n",
    "#corr_mean, corr_hist_mean = calculatePC(ds_mean.expressionData)\n",
    "#pickle.dump(corr_mean, open('%s/%s_corr_matrix_mean.pickle' % (res_dir, cohort_name), 'wb'))\n",
    "\n",
    "\n",
    "### STEP 2: Detect and remove similar samples (possible duplicates).\n",
    "sim_thresh = 0.9 # similarity threshold: remove samples that show high correlation\n",
    "data = pickle.load(open(\"%s/%s_data.pickle\")) # combatData.pickle\n",
    "\n",
    "# TODO IDENTIFY SIMILAR PAIRS    \n",
    "print \"Cohort has %d similar pairs\" % len(sim_pairs)\n",
    "    \n",
    "remove_samples = removeSamplesRandomElimination(sim_pairs)   \n",
    "print \"Removing %d samples\" % len(remove_samples)\n",
    "\n",
    "# find indices of the removed samples in the merged dataset\n",
    "try:\n",
    "    remove_samples_idx = np.argwhere(np.in1d(data.patientLabels, remove_samples))[:, 0]\n",
    "except:\n",
    "    remove_samples_idx = np.argwhere(np.setmember1d(data.patientLabels, remove_samples))[:, 0]\n",
    "    \n",
    "patient_idx = range(len(data.patientLabels))\n",
    "ds_clean_samples = data.extractPatientsByIndices((\"ALL_%s_cleanSamples\" % cohort_name),\n",
    "                                                 list(set(patient_idx).difference(remove_samples_idx)), \n",
    "                                                 False, False)    \n",
    "\n",
    "print \"Map AffyIDs to Entrez gene IDs\"\n",
    "mapProbeIdsToGeneIds = 'NormalisingData/projectX/HG-U133A.na32.annot.csv/HG-U133A.na32.annot.csv'\n",
    "best_map_entrez_affy = ProbeToGeneID(mapProbeIdsToGeneIds, ds_clean)\n",
    "best_map_affy_entrez = dict(zip(best_map_entrez_affy.values(), best_map_entrez_affy.keys()))\n",
    "try:\n",
    "    idx = np.argwhere(np.in1ds(ds_clean_samples.geneLabels, best_map_affy_entrez.keys()))[:, 0]\n",
    "except:\n",
    "    idx = np.argwhere(np.setmember1d(ds_clean_samples.geneLabels, best_map_affy_entrez.keys()))[:, 0]\n",
    "data_clean = ds_clean_samples.extractGenesByIndices(('%s_clean_probes' % cohort_name), idx, \n",
    "                                          checkNormalization=False, checkClassLabels=False)\n",
    "\n",
    "print \"Replace AffyIDs with gene IDs\"\n",
    "for ix in range(len(data_clean.geneLabels)):\n",
    "    data_clean.geneLabels[ix] = best_map_affy_entrez[data_clean.geneLabels[ix]]\n",
    "\n",
    "print \"Mean-center\"\n",
    "data_clean.expressionData = data_clean.expressionData - data_clean.expressionData.mean(0)\n",
    "\n",
    "# save to pickle\n",
    "pickle.dump(data_clean, open('%s/%s_all_data.pickle' % (res_dir, cohort_name), 'wb')    "
   ]
  },
  {
   "cell_type": "code",
   "execution_count": null,
   "metadata": {
    "collapsed": true
   },
   "outputs": [],
   "source": [
    "import pylab\n",
    "from matplotlib.backends.backend_pdf import PdfPages\n",
    "def compute_pca(matrix, plot_title, plot_fname):\n",
    "    \"\"\"Compute PCA of a matrix.\n",
    "    \n",
    "    Parameters\n",
    "    ----------\n",
    "    matrix: np.array\n",
    "        covariance matrix or data matrix (variables x observations).\n",
    "    \n",
    "    plot_title: string\n",
    "        Title of plot.\n",
    "        \n",
    "    plot_fname: filename\n",
    "        Path to file where to save PC plot (as pdf).\n",
    "    \n",
    "    Returns\n",
    "    -------\n",
    "    fpc: np.array \n",
    "        first principal component\n",
    "        \n",
    "    spc: np.array \n",
    "        second principal component\n",
    "    \n",
    "    Created files\n",
    "    -------------\n",
    "    plot_fname: Plot the data (first PC against second PC)\n",
    "    \n",
    "    \"\"\"\n",
    "    if matrix.shape[0] == matrix.shape[1]:\n",
    "        # covariance matrix\n",
    "        w, v = np.linalg.eigh(matrix)\n",
    "        # first PC\n",
    "        fpc = v[:, len(w)-1]\n",
    "        # second PC\n",
    "        spc = v[:, len(w)-2]\n",
    "    else:\n",
    "        # data matrix\n",
    "        data = matrix.copy()\n",
    "        pcomps, trans, w = pylab.prepca(data.T)\n",
    "        fpc = pcomps[0, ]\n",
    "        spc = pcomps[1, ]\n",
    "    #print \"First PC\", fpc\n",
    "    #print \"Second PC\", spc\n",
    "        \n",
    "    # Plot first PC against second PC\n",
    "    print \"Plot first PC against second PC in %s\" % plot_fname\n",
    "    pdf = PdfPages(plot_fname)\n",
    "    fig = plt.figure(figsize=(8, 8))\n",
    "    plt.plot(fpc, spc, \".\", color='darkgrey')\n",
    "    \n",
    "    plt.xlabel(\"First PC\", fontsize=16)\n",
    "    plt.ylabel(\"Second PC\", fontsize=16)\n",
    "    plt.title(plot_title, fontsize=16)\n",
    "    xmin = min(fpc)\n",
    "    xmax = max(fpc)\n",
    "    ymin = min(spc)\n",
    "    ymax = max(spc)\n",
    "    plt.axis([xmin-50, xmax+100, ymin-20, ymax+20])\n",
    "    pdf.savefig()\n",
    "    pdf.close()\n",
    "    plt.clf()\n",
    "    \n",
    "    return fpc, spc"
   ]
  }
 ],
 "metadata": {
  "kernelspec": {
   "display_name": "Python 2",
   "language": "python",
   "name": "python2"
  },
  "language_info": {
   "codemirror_mode": {
    "name": "ipython",
    "version": 2
   },
   "file_extension": ".py",
   "mimetype": "text/x-python",
   "name": "python",
   "nbconvert_exporter": "python",
   "pygments_lexer": "ipython2",
   "version": "2.7.6"
  }
 },
 "nbformat": 4,
 "nbformat_minor": 0
}
