{
 "cells": [
  {
   "cell_type": "markdown",
   "metadata": {
    "collapsed": true
   },
   "source": [
    "A global map of human gene expression\n",
    "http://europepmc.org/articles/PMC2974261\n",
    "\n",
    "Data in ArrayExpress/ "
   ]
  },
  {
   "cell_type": "markdown",
   "metadata": {},
   "source": [
    "### Imports"
   ]
  },
  {
   "cell_type": "code",
   "execution_count": 1,
   "metadata": {
    "collapsed": false
   },
   "outputs": [],
   "source": [
    "import pandas as pd\n",
    "import numpy as np\n",
    "import h5py"
   ]
  },
  {
   "cell_type": "code",
   "execution_count": 2,
   "metadata": {
    "collapsed": false
   },
   "outputs": [],
   "source": [
    "import pickle\n",
    "import sys\n",
    "sys.path.append('NormalisingData/projectX/')\n",
    "from ExpressionDataset import ExpressionDataset\n",
    "import mapData"
   ]
  },
  {
   "cell_type": "code",
   "execution_count": 3,
   "metadata": {
    "collapsed": false
   },
   "outputs": [
    {
     "name": "stdout",
     "output_type": "stream",
     "text": [
      "Populating the interactive namespace from numpy and matplotlib\n"
     ]
    }
   ],
   "source": [
    "%pylab inline\n",
    "orange_color = '#d66000'\n",
    "blue_color = '#005599'"
   ]
  },
  {
   "cell_type": "markdown",
   "metadata": {},
   "source": [
    "## Read E-MTAB-62 data"
   ]
  },
  {
   "cell_type": "code",
   "execution_count": 70,
   "metadata": {
    "collapsed": false
   },
   "outputs": [],
   "source": [
    "sdrf_data_fname = 'ArrayExpress/E-MTAB-62.sdrf.txt' \n",
    "fd = pd.read_csv(sdrf_data_fname, delimiter='\\t')"
   ]
  },
  {
   "cell_type": "code",
   "execution_count": null,
   "metadata": {
    "collapsed": false
   },
   "outputs": [],
   "source": [
    "#fd.describe()\n",
    "#fd['Characteristics[4 meta-groups]'].unique()"
   ]
  },
  {
   "cell_type": "code",
   "execution_count": 71,
   "metadata": {
    "collapsed": false
   },
   "outputs": [
    {
     "name": "stdout",
     "output_type": "stream",
     "text": [
      "(1033,)\n"
     ]
    }
   ],
   "source": [
    "print np.where(fd['Characteristics[4 meta-groups]']=='normal')[0].shape\n",
    "normals = fd[fd['Characteristics[4 meta-groups]']=='normal']['Source Name'].tolist()\n",
    "#print normals"
   ]
  },
  {
   "cell_type": "markdown",
   "metadata": {},
   "source": [
    "1033 entries have meta-group \"normal\""
   ]
  },
  {
   "cell_type": "code",
   "execution_count": 104,
   "metadata": {
    "collapsed": false
   },
   "outputs": [
    {
     "name": "stdout",
     "output_type": "stream",
     "text": [
      "1033 samples\n",
      "[1, 2, 3, 4, 5, 6, 7, 8, 9, 10]\n",
      "['\"1102960533.CEL\"', '\"1102960569.CEL\"', '\"1102960602.CEL\"', '\"1102960632.CEL\"', '\"1102960664.CEL\"', '\"1102960695.CEL\"', '\"1102960731.CEL\"', '\"1102960765.CEL\"', '\"1102960797.CEL\"', '\"1102960831.CEL\"']\n"
     ]
    }
   ],
   "source": [
    "csv_data_fname = 'ArrayExpress/hgu133a_rma_okFiles_080619_MAGETAB.csv'\n",
    "# first line = sample names, tab separated, between \" quotes (e.g  \"1102960569.CEL\"  )\n",
    "# second line = to be ignored\n",
    "# first column = gene names, between \" quotes (e.g. \"1255_g_at\")\n",
    "\n",
    "# Get sample IDs (first line of csv_data_fname)\n",
    "with open(csv_data_fname, 'r') as f:\n",
    "    header = f.readline() # samples \n",
    "    f.close()\n",
    "    \n",
    "cols = [i for (i, x) in enumerate(header.split(\"\\t\")) \\\n",
    "        if x.lstrip('\"').rstrip('\"') in normals]\n",
    "print len(cols), \"samples\"\n",
    "print cols[:10]\n",
    "print [header.split(\"\\t\")[ix] for ix in cols[:10]]"
   ]
  },
  {
   "cell_type": "code",
   "execution_count": 97,
   "metadata": {
    "collapsed": false
   },
   "outputs": [
    {
     "name": "stdout",
     "output_type": "stream",
     "text": [
      "22283 genes\n",
      "['\"1007_s_at\"' '\"1053_at\"' '\"117_at\"' '\"121_at\"' '\"1255_g_at\"' '\"1294_at\"'\n",
      " '\"1316_at\"' '\"1320_at\"' '\"1405_i_at\"' '\"1431_at\"']\n"
     ]
    }
   ],
   "source": [
    "# Get gene names (first column of csv_data_fname)\n",
    "gene_names = np.loadtxt(csv_data_fname, \n",
    "                        usecols=[0], dtype='str')\n",
    "#gene_names = [x.lstrip('\"').rstrip('\"') for x in gene_names]\n",
    "gene_names = gene_names[2:]\n",
    "print len(gene_names), \"genes\"\n",
    "print gene_names[0:10]"
   ]
  },
  {
   "cell_type": "code",
   "execution_count": 77,
   "metadata": {
    "collapsed": false
   },
   "outputs": [
    {
     "data": {
      "text/plain": [
       "(22283, 1033)"
      ]
     },
     "execution_count": 77,
     "metadata": {},
     "output_type": "execute_result"
    }
   ],
   "source": [
    "# Get expression data itself\n",
    "data = np.loadtxt(csv_data_fname, \n",
    "                  skiprows=2, delimiter='\\t', usecols=cols)\n",
    "data.shape"
   ]
  },
  {
   "cell_type": "markdown",
   "metadata": {},
   "source": [
    "### Map E-MTAB-62 data\n",
    "This code to generate \"ArrayExpress/postproc/MTAB-62.h5\""
   ]
  },
  {
   "cell_type": "code",
   "execution_count": 106,
   "metadata": {
    "collapsed": false
   },
   "outputs": [
    {
     "name": "stdout",
     "output_type": "stream",
     "text": [
      "(1033, 1)\n",
      "(1033, 22283)\n"
     ]
    }
   ],
   "source": [
    "fcol = np.array([header.split(\"\\t\")[ix] for ix in cols])\n",
    "fcol = fcol.reshape((fcol.shape[0], 1))\n",
    "print fcol.shape\n",
    "print data.T.shape\n",
    "\n",
    "\n",
    "# Transform hgu133a_rma_okFiles_080619_MAGETAB.csv into .dat\n",
    "# match the format of NormalisingData/R_playground/U133AnormalizedExpression.dat:\n",
    "# first line = gene names, space-separated, between \" quotes (e.g. \"1255_g_at\")\n",
    "# first column = GSM names, between \" quotes (e.g. \"GSM107074.CEL.gz\")\n",
    "\n",
    "D = np.hstack((fcol, data.T))\n",
    "\n",
    "datafile = 'ArrayExpress/postproc/hgu133a_rma_okFiles_080619_MAGETAB.dat'\n",
    "\n",
    "np.savetxt(datafile, D, fmt='%s', comments='', delimiter=\" \", \n",
    "           header=\" \".join(gene_names))"
   ]
  },
  {
   "cell_type": "code",
   "execution_count": 107,
   "metadata": {
    "collapsed": false
   },
   "outputs": [],
   "source": [
    "# Read the data as ExpressionDataset\n",
    "#datafile = 'ArrayExpress/postproc/hgu133a_rma_okFiles_080619_MAGETAB.dat'\n",
    "(affyIDs, patientIDs, exprMatrix, exprs) = mapData.readExpressionData(datafile)"
   ]
  },
  {
   "cell_type": "code",
   "execution_count": 108,
   "metadata": {
    "collapsed": false
   },
   "outputs": [
    {
     "name": "stdout",
     "output_type": "stream",
     "text": [
      "(1033, 22283)\n",
      "(22283,)\n",
      "1033\n"
     ]
    }
   ],
   "source": [
    "### Create an ExpressionDataset object\n",
    "cohort_name = 'MTAB-62'\n",
    "print exprMatrix.shape\n",
    "print np.array(affyIDs).shape\n",
    "print len(patientIDs)\n",
    "ds = ExpressionDataset(cohort_name, exprMatrix, np.array(affyIDs), np.ones(len(patientIDs)),\n",
    "                      np.array(patientIDs), checkNormalization=False, checkClassLabels=False)"
   ]
  },
  {
   "cell_type": "code",
   "execution_count": 109,
   "metadata": {
    "collapsed": false
   },
   "outputs": [
    {
     "name": "stdout",
     "output_type": "stream",
     "text": [
      "Map AffyIDs to Entrez gene IDs\n",
      "Columns in mapping file:\n",
      "['\"Probe Set ID', 'GeneChip Array', 'Species Scientific Name', 'Annotation Date', 'Sequence Type', 'Sequence Source', 'Transcript ID(Array Design)', 'Target Description', 'Representative Public ID', 'Archival UniGene Cluster', 'UniGene ID', 'Genome Version', 'Alignments', 'Gene Title', 'Gene Symbol', 'Chromosomal Location', 'Unigene Cluster Type', 'Ensembl', 'Entrez Gene', 'SwissProt', 'EC', 'OMIM', 'RefSeq Protein ID', 'RefSeq Transcript ID', 'FlyBase', 'AGI', 'WormBase', 'MGI Name', 'RGD Name', 'SGD accession number', 'Gene Ontology Biological Process', 'Gene Ontology Cellular Component', 'Gene Ontology Molecular Function', 'Pathway', 'InterPro', 'Trans Membrane', 'QTL', 'Annotation Description', 'Annotation Transcript Cluster', 'Transcript Assignments', 'Annotation Notes\"\\n']\n",
      "Replace AffyIDs with gene IDs\n",
      "Mean-center\n"
     ]
    }
   ],
   "source": [
    "### Map from Affymetrix probe set ID to Entrez gene ID\n",
    "#reload(mapData)\n",
    "print \"Map AffyIDs to Entrez gene IDs\"\n",
    "map_probe_ids_to_gene_ids = 'NormalisingData/projectX/HG-U133A.na32.annot.csv/' + \\\n",
    "    'HG-U133A.na32.annot.csv'\n",
    "map_fname = 'ArrayExpress/postproc/HG-U133A.pickle'\n",
    "best_map_entrez_affy = mapData.ProbeToGeneID(map_probe_ids_to_gene_ids, ds, map_fname)\n",
    "best_map_affy_entrez = dict(zip(best_map_entrez_affy.values(), best_map_entrez_affy.keys()))\n",
    "\n",
    "idx = np.argwhere(np.in1d(ds.geneLabels, best_map_affy_entrez.keys()))[:, 0]\n",
    "\n",
    "ds_clean_probes = ds.extractGenesByIndices(('%s_clean_probes' % cohort_name), idx, \n",
    "                                          checkNormalization=False, checkClassLabels=False)\n",
    "\n",
    "print \"Replace AffyIDs with gene IDs\"\n",
    "for ix in range(len(ds_clean_probes.geneLabels)):\n",
    "    ds_clean_probes.geneLabels[ix] = best_map_affy_entrez[ds_clean_probes.geneLabels[ix]]\n",
    "\n",
    "print \"Mean-center\"\n",
    "ds_clean_probes.expressionData = ds_clean_probes.expressionData - \\\n",
    "    ds_clean_probes.expressionData.mean(0)\n",
    "\n",
    "### Dump clean data\n",
    "res_dir = 'ArrayExpress/postproc'\n",
    "ds_clean_probes = ExpressionDataset(cohort_name, ds_clean_probes.expressionData, \n",
    "                                    ds_clean_probes.geneLabels, \n",
    "                                    ds_clean_probes.patientClassLabels, \n",
    "                                    ds_clean_probes.patientLabels, \n",
    "                                    checkNormalization=False, checkClassLabels=False)\n",
    "pickle.dump(ds_clean_probes, open('%s/%s_data.pickle' % (res_dir, cohort_name), 'wb'))"
   ]
  },
  {
   "cell_type": "code",
   "execution_count": 110,
   "metadata": {
    "collapsed": false
   },
   "outputs": [
    {
     "name": "stdout",
     "output_type": "stream",
     "text": [
      "Adding dataset: MTAB-62\n",
      "['Entrez_780' 'Entrez_5982' 'Entrez_7318' ..., 'Entrez_11033' 'Entrez_4034'\n",
      " 'Entrez_54869']\n"
     ]
    }
   ],
   "source": [
    "### Convert pickle data into hdf5 format\n",
    "from ConvertPickleData import EmitDataset\n",
    "res_dir = 'ArrayExpress/postproc'\n",
    "\n",
    "data_clean = pickle.load(open('%s/%s_data.pickle' % (res_dir, cohort_name)))\n",
    "\n",
    "hdf5_fname = '%s/%s.h5' % (res_dir, cohort_name)\n",
    "hdf5_f = h5py.File(hdf5_fname, 'w')\n",
    "EmitDataset(data_clean, None, hdf5_f)\n",
    "hdf5_f.close()  "
   ]
  },
  {
   "cell_type": "markdown",
   "metadata": {},
   "source": [
    "This resulted in generating the data file holding the E-MTAB-62 data: \"ArrayExpress/postproc/MTAB-62.h5\""
   ]
  },
  {
   "cell_type": "markdown",
   "metadata": {},
   "source": [
    "## Find interesting gene pairs in ACES_RFS data"
   ]
  },
  {
   "cell_type": "code",
   "execution_count": 4,
   "metadata": {
    "collapsed": false
   },
   "outputs": [
    {
     "name": "stdout",
     "output_type": "stream",
     "text": [
      "(1616, 12750)\n",
      "Entrez_6207\n"
     ]
    }
   ],
   "source": [
    "# Get ACES data\n",
    "h5ds = h5py.File(\"ACES/experiments/data/U133A_combat.h5\")\n",
    "X = np.array(h5ds['U133A_combat_RFS']['ExpressionData'])\n",
    "y = np.array(h5ds['U133A_combat_RFS']['PatientClassLabels'])\n",
    "aces_gene_names =  np.array(h5ds['U133A_combat_RFS']['GeneLabels'])\n",
    "h5ds.close()\n",
    "print X.shape\n",
    "print aces_gene_names[20]"
   ]
  },
  {
   "cell_type": "code",
   "execution_count": 5,
   "metadata": {
    "collapsed": false
   },
   "outputs": [
    {
     "name": "stdout",
     "output_type": "stream",
     "text": [
      "455 1161\n"
     ]
    }
   ],
   "source": [
    "# Positivie and negative entries\n",
    "i_pos = np.where(y)[0]\n",
    "i_neg = np.where(y != True)[0]\n",
    "print len(i_pos), len(i_neg)"
   ]
  },
  {
   "cell_type": "code",
   "execution_count": 6,
   "metadata": {
    "collapsed": false
   },
   "outputs": [],
   "source": [
    "# Normalize the data\n",
    "x_mean = np.mean(X, axis=0)\n",
    "x_stdv = np.std(X, axis=0, ddof=1)\n",
    "Xnorm = X - x_mean\n",
    "Xnorm /= x_stdv"
   ]
  },
  {
   "cell_type": "code",
   "execution_count": 7,
   "metadata": {
    "collapsed": false
   },
   "outputs": [],
   "source": [
    "# Create correlation matrix\n",
    "W = np.corrcoef(np.transpose(Xnorm))"
   ]
  },
  {
   "cell_type": "code",
   "execution_count": 9,
   "metadata": {
    "collapsed": true
   },
   "outputs": [],
   "source": [
    "# Take absolute values\n",
    "W = np.abs(W)"
   ]
  },
  {
   "cell_type": "code",
   "execution_count": 27,
   "metadata": {
    "collapsed": false
   },
   "outputs": [
    {
     "data": {
      "text/plain": [
       "(array([  119,   180,   286, ..., 12626, 12626, 12708]),\n",
       " array([ 2543,  9775,  3152, ...,  7023, 12371,  8732]))"
      ]
     },
     "execution_count": 27,
     "metadata": {},
     "output_type": "execute_result"
    }
   ],
   "source": [
    "Wthresholded = np.where(W > 0.8, W, 0)\n",
    "Wthresholded[np.diag_indices(X.shape[1])] = 0\n",
    "np.where(Wthresholded)"
   ]
  },
  {
   "cell_type": "code",
   "execution_count": 34,
   "metadata": {
    "collapsed": false
   },
   "outputs": [
    {
     "name": "stdout",
     "output_type": "stream",
     "text": [
      "0.88254116387 0.892177718874\n"
     ]
    }
   ],
   "source": [
    "print W[286, 3152], Wpos[286, 3152]"
   ]
  },
  {
   "cell_type": "markdown",
   "metadata": {},
   "source": [
    "W[17, 36] = 0.65584707445795032\n",
    "\n",
    "The distributions of positive and negative are similar"
   ]
  },
  {
   "cell_type": "markdown",
   "metadata": {},
   "source": [
    "## Regression line for ACES-RFS"
   ]
  },
  {
   "cell_type": "code",
   "execution_count": 46,
   "metadata": {
    "collapsed": true
   },
   "outputs": [],
   "source": [
    "gene_a = 286\n",
    "gene_b = 3152\n",
    "n, p = X.shape\n",
    "reg_w = np.linalg.lstsq(np.array([ Xnorm[:, gene_a], np.ones(n) ]).T, Xnorm[:, gene_b])[0]\n",
    "[w0, w1] = reg_w"
   ]
  },
  {
   "cell_type": "code",
   "execution_count": 65,
   "metadata": {
    "collapsed": false
   },
   "outputs": [
    {
     "name": "stdout",
     "output_type": "stream",
     "text": [
      "1377 2.45878013087\n"
     ]
    }
   ],
   "source": [
    "dmax = 0\n",
    "imax = -1\n",
    "for ix in range(n):\n",
    "    x0 = Xnorm[ix, gene_a]\n",
    "    y0 = Xnorm[ix, gene_b]\n",
    "    distance = np.abs(w0*x0 - y0 + w1) / np.sqrt(w0**2+1)\n",
    "    #print ix, distance\n",
    "    if distance > dmax:\n",
    "        dmax = distance\n",
    "        imax = ix\n",
    "print imax, dmax"
   ]
  },
  {
   "cell_type": "code",
   "execution_count": 67,
   "metadata": {
    "collapsed": false
   },
   "outputs": [
    {
     "name": "stdout",
     "output_type": "stream",
     "text": [
      "-1.92319820154 -0.296220977048 1.58208705853 -0.261427205847\n"
     ]
    },
    {
     "data": {
      "image/png": "[encoded data removed]",
      "text/plain": [
       "<matplotlib.figure.Figure at 0x7f2e602769d0>"
      ]
     },
     "metadata": {},
     "output_type": "display_data"
    }
   ],
   "source": [
    "rcParams.update({'font.size': 16})\n",
    "figure(figsize=(8, 8))\n",
    "plot(Xnorm[i_pos, gene_a], Xnorm[i_pos, gene_b], marker=\"+\", ls='', color=blue_color)\n",
    "plot(Xnorm[i_neg, gene_a], Xnorm[i_neg, gene_b], marker=\".\", ls='', color=blue_color)\n",
    "plot(np.arange(-4, 4.1, 0.1),  w0*np.arange(-4, 4.1, 0.1) + w1, ls='-', color=orange_color)\n",
    "xlim(-4, 4)\n",
    "ylim(-4, 4)\n",
    "xlabel('Gene %s' % gene_a)\n",
    "ylabel('Gene %s' % gene_b)\n",
    "title('Regressing gene %s against gene %s' % (gene_b, gene_a))\n",
    "\n",
    "# single out one point\n",
    "sample_idx = 1377\n",
    "x0 = Xnorm[sample_idx, gene_a]\n",
    "y0 = Xnorm[sample_idx, gene_b]\n",
    "#plot(x0, y0, marker=\"*\", ls='', color=blue_color)\n",
    "a = (w0 * (y0 - w1) + x0)/(1 + w0**2)\n",
    "b = (w1 + w0 * (x0 + w0 * y0))/(1 + w0**2)\n",
    "plot([x0, a], [y0, b], ls='-', color=blue_color)\n",
    "print x0, a, y0, b\n",
    "text(0.5*(x0+a), 0.5*(y0+b), 'd', color=blue_color)\n",
    "\n",
    "savefig('regline_example.pdf', bbox='tight_layout')"
   ]
  },
  {
   "cell_type": "markdown",
   "metadata": {},
   "source": [
    "## Look at gene vs. gene plots in ACES-RFS and E-MTAB-62 data"
   ]
  },
  {
   "cell_type": "code",
   "execution_count": 111,
   "metadata": {
    "collapsed": false
   },
   "outputs": [
    {
     "name": "stdout",
     "output_type": "stream",
     "text": [
      "(1033, 12750)\n"
     ]
    }
   ],
   "source": [
    "# Get reference data\n",
    "f = h5py.File(\"ArrayExpress/postproc/MTAB-62.h5\")\n",
    "X_ref = f['MTAB-62']['ExpressionData']\n",
    "print X_ref.shape\n",
    "ref_gene_names =  f['MTAB-62']['GeneLabels']"
   ]
  },
  {
   "cell_type": "code",
   "execution_count": 112,
   "metadata": {
    "collapsed": false
   },
   "outputs": [],
   "source": [
    "# Reorder reference data so that genes map those in ACES data\n",
    "# reordered_genes[0] = index of aces_gene_names[0] in ref_gene_names\n",
    "ref_gene_names = list(ref_gene_names)\n",
    "ref_gene_names_dict = dict([(a, ix) for ix, a in enumerate(ref_gene_names)]) # name:idx\n",
    "#print ref_gene_names_dict\n",
    "reordered_genes = [ref_gene_names_dict[a] for a in aces_gene_names]\n",
    "#print ref_gene_names[reordered_genes[20]]\n",
    "#X_ref = X_ref[:, reordered_genes]\n",
    "X_ref_reordered = np.array(X_ref)\n",
    "for ix in range(X_ref.shape[1]):\n",
    "    X_ref_reordered[:, ix] = X_ref[:, reordered_genes[ix]]"
   ]
  },
  {
   "cell_type": "code",
   "execution_count": 116,
   "metadata": {
    "collapsed": true
   },
   "outputs": [],
   "source": [
    "# Normalize the data\n",
    "x_mean = np.mean(X_ref_reordered, axis=0)\n",
    "x_stdv = np.std(X_ref_reordered, axis=0, ddof=1)\n",
    "\n",
    "Xnorm = X - x_mean\n",
    "Xnorm /= x_stdv\n",
    "\n",
    "X_ref_norm = X_ref_reordered - x_mean\n",
    "X_ref_norm /= x_stdv"
   ]
  },
  {
   "cell_type": "code",
   "execution_count": 117,
   "metadata": {
    "collapsed": false
   },
   "outputs": [],
   "source": [
    "gene_a = 286\n",
    "gene_b = 3152\n",
    "n, p = X_ref_norm.shape\n",
    "reg_w = np.linalg.lstsq(np.array([ X_ref_norm[:, gene_a], np.ones(n) ]).T, \n",
    "                        X_ref_norm[:, gene_b])[0]\n",
    "[w0, w1] = reg_w"
   ]
  },
  {
   "cell_type": "code",
   "execution_count": 123,
   "metadata": {
    "collapsed": false
   },
   "outputs": [
    {
     "data": {
      "image/png": "[encoded data removed]",
      "text/plain": [
       "<matplotlib.figure.Figure at 0x7f2ead91f510>"
      ]
     },
     "metadata": {},
     "output_type": "display_data"
    }
   ],
   "source": [
    "rcParams.update({'font.size': 16})\n",
    "figure(figsize=(8, 8))\n",
    "plot(X_ref_norm[:, gene_a], X_ref_norm[:, gene_b], marker=\"+\", ls='', color='darkgrey')\n",
    "plot(Xnorm[:, gene_a], Xnorm[:, gene_b], marker=\"+\", ls='', color=blue_color)\n",
    "\n",
    "plot(np.arange(-4, 4.1, 0.1),  w0*np.arange(-4, 4.1, 0.1) + w1, ls='-', color='darkgrey')\n",
    "\n",
    "\n",
    "#reg_w_aces = np.linalg.lstsq(np.array([ Xnorm[:, gene_a], np.ones(Xnorm.shape[0]) ]).T, \n",
    "#                            Xnorm[:, gene_b])[0]\n",
    "#plot(np.arange(-4, 4.1, 0.1), reg_w_aces[0]*np.arange(-4, 4.1, 0.1) + reg_w_aces[1], \n",
    "#    ls='--', color=blue_color)\n",
    "\n",
    "#reg_w_aces = np.linalg.lstsq(np.array([ X[:, gene_a], np.ones(X.shape[0]) ]).T, \n",
    "#                            X[:, gene_b])[0]\n",
    "#plot(np.arange(-4, 4.1, 0.1), reg_w_aces[0]*np.arange(-4, 4.1, 0.1) + reg_w_aces[1], \n",
    "#    ls='-.', color=blue_color)\n",
    "\n",
    "\n",
    "xlim(-3, 3)\n",
    "ylim(-3, 3)\n",
    "xlabel('Gene %d' % gene_a)\n",
    "ylabel('Gene %d' % gene_b)\n",
    "title('Regressing gene %d against gene %d' % (gene_a, gene_b))\n",
    "\n",
    "# single out one point\n",
    "sample_idx = 1377\n",
    "x0 = Xnorm[sample_idx, gene_a]\n",
    "y0 = Xnorm[sample_idx, gene_b]\n",
    "#plot(x0, y0, marker=\"o\", ls='', color=blue_color)\n",
    "a = (w0 * (y0 - w1) + x0)/(1 + w0**2)\n",
    "b = (w1 + w0 * (x0 + w0 * y0))/(1 + w0**2)\n",
    "plot([x0, a], [y0, b], ls='-', color=blue_color)\n",
    "text(0.5*(x0+a), 0.5*(y0+b), 'd', color=blue_color)\n",
    "\n",
    "savefig('ArrayExpress/postproc/regline_example.pdf', bbox='tight_layout')"
   ]
  },
  {
   "cell_type": "markdown",
   "metadata": {},
   "source": [
    "## Comparing network structures based on ACES data and reference data"
   ]
  },
  {
   "cell_type": "code",
   "execution_count": null,
   "metadata": {
    "collapsed": false
   },
   "outputs": [],
   "source": [
    "f = h5py.File(\"ACES/experiments/data/U133A_combat.h5\")\n",
    "sampleLabels = np.array(f['U133A_combat_RFS']['PatientClassLabels'])\n",
    "Xrfs = np.array(f['U133A_combat_RFS']['ExpressionData'])\n",
    "f.close()\n",
    "numGenes = Xrfs.shape[1]\n",
    "\n",
    "# Restrict the data to the negative samples\n",
    "Xpos = Xrfs[np.where(sampleLabels)[0], :]\n",
    "        \n",
    "# Restrict the data to the negative samples\n",
    "Xneg = Xrfs[np.where(np.logical_not(sampleLabels))[0], :]\n",
    "        \n",
    "# Compute Pearson's correlation, gene by gene\n",
    "globalNetwork = np.corrcoef(np.transpose(Xrfs))"
   ]
  },
  {
   "cell_type": "code",
   "execution_count": null,
   "metadata": {
    "collapsed": false
   },
   "outputs": [],
   "source": [
    "# Threshold the network\n",
    "threshold = 0.8\n",
    "#globalNetwork = np.where(np.logical_or(np.logical_or(globalNetwork > threshold,\n",
    "#                                       np.corrcoef(np.transpose(Xneg)) > threshold),\n",
    "#                                       np.corrcoef(np.transpose(Xpos)) > threshold),\n",
    "#                                      globalNetwork, 0)\n",
    "globalNetwork = np.where(globalNetwork > threshold, globalNetwork, 0)\n",
    "# Only keep the upper triangular matrix (it's symmetric)\n",
    "globalNetwork[np.tril_indices(numGenes)] = 0\n",
    "        \n",
    "print np.count_nonzero(globalNetwork), 'edges'\n",
    "\n",
    "# List non-zero indices (i.e edges)\n",
    "Waces = np.nonzero(globalNetwork)\n",
    "Waces = np.array([Waces[0], Waces[1]], dtype='int').transpose()"
   ]
  },
  {
   "cell_type": "code",
   "execution_count": null,
   "metadata": {
    "collapsed": false
   },
   "outputs": [],
   "source": [
    "Wref = np.loadtxt('outputs/U133A_combat_RFS/reglref_edges.gz', dtype='int')"
   ]
  },
  {
   "cell_type": "code",
   "execution_count": null,
   "metadata": {
    "collapsed": false
   },
   "outputs": [],
   "source": [
    "#Waces = np.loadtxt('outputs/U133A_combat_RFS/reglref_edges_based-on-data.gz', dtype='int')"
   ]
  },
  {
   "cell_type": "code",
   "execution_count": null,
   "metadata": {
    "collapsed": false
   },
   "outputs": [],
   "source": [
    "print Wref[0, :]\n",
    "print Waces[0, :]\n",
    "Wref_set = set([\"%d_%d\" % (x[0], x[1]) for x in Wref.tolist()])\n",
    "print '0_23' in Wref_set, '0_2351' in Wref_set\n",
    "counter = 0\n",
    "for x in Waces.tolist():\n",
    "    xstr = \"%d_%d\" % (x[0], x[1])\n",
    "    if xstr not in Wref_set:\n",
    "        counter += 1\n",
    "print counter, \"edges from Waces not in Wref\"\n",
    "print len(Waces.tolist())"
   ]
  },
  {
   "cell_type": "code",
   "execution_count": null,
   "metadata": {
    "collapsed": true
   },
   "outputs": [],
   "source": [
    "f = h5py.File(\"ArrayExpress/postproc/MTAB-62.h5\")\n",
    "Xref = np.array(f['MTAB-62']['ExpressionData'])\n",
    "f.close()\n",
    "numGenes = Xref.shape[1]"
   ]
  },
  {
   "cell_type": "code",
   "execution_count": null,
   "metadata": {
    "collapsed": true
   },
   "outputs": [],
   "source": [
    "# Compute Pearson's correlation, gene by gene\n",
    "globalNetwork = np.corrcoef(np.transpose(Xref))"
   ]
  },
  {
   "cell_type": "code",
   "execution_count": null,
   "metadata": {
    "collapsed": false
   },
   "outputs": [],
   "source": [
    "for threshold in [0.55, 0.6, 0.65, 0.7, 0.75, 0.8, 0.85, 0.9]:\n",
    "    print \"threshold:\", threshold\n",
    "    globalNetwork = np.where(globalNetwork > threshold, globalNetwork, 0)\n",
    "    # Only keep the upper triangular matrix (it's symmetric)\n",
    "    globalNetwork[np.tril_indices(numGenes)] = 0\n",
    "        \n",
    "    print np.count_nonzero(globalNetwork), 'edges'\n",
    "\n",
    "    # Compute connectivities\n",
    "    connectivities = np.round(np.sum(globalNetwork + globalNetwork.T, axis=1))\n",
    "\n",
    "    nnodes = np.shape(np.nonzero(connectivities))[1]\n",
    "    print \"nodes:\", nnodes\n",
    "    print \"density:\", (2*np.sum(connectivities)/(nnodes * (nnodes-1)))\n",
    "# List non-zero indices (i.e edges)\n",
    "#Waces = np.nonzero(globalNetwork)\n",
    "#Waces = np.array([Waces[0], Waces[1]], dtype='int').transpose()"
   ]
  },
  {
   "cell_type": "code",
   "execution_count": null,
   "metadata": {
    "collapsed": false
   },
   "outputs": [],
   "source": [
    "# Compute connectivities\n",
    "connectivities = np.round(np.sum(globalNetwork + globalNetwork.T, axis=1))\n",
    "\n",
    "nnodes = np.shape(np.nonzero(connectivities))[1]\n",
    "print \"nodes:\", nnodes\n",
    "print \"density:\", (2*np.sum(connectivities)/(nnodes * (nnodes-1)))"
   ]
  },
  {
   "cell_type": "code",
   "execution_count": null,
   "metadata": {
    "collapsed": false
   },
   "outputs": [],
   "source": [
    "# Compute mean network connectivity\n",
    "ave_conn = np.mean(connectivities)\n",
    "print \"Average connectivity:\", ave_conn\n",
    "\n",
    "# Compute log10(connectivites)\n",
    "k_values = np.unique(connectivities)\n",
    "if k_values[0] == 0:\n",
    "    k_values = k_values[1:]\n",
    "l_k_values = np.log10(k_values)\n",
    "        \n",
    "# Compute log10(freq(connectivities))\n",
    "connectivities_bin_count = np.bincount(np.round(connectivities).astype(int))[1:]\n",
    "l_freq_k = np.log10(connectivities_bin_count[np.where(connectivities_bin_count > 0)[0]])\n",
    "\n",
    "# Fit regression line\n",
    "k_w, residuals = np.linalg.lstsq(np.array([ l_k_values, np.ones(len(k_values)) ]).T,\n",
    "                                 l_freq_k)[:2]\n",
    "slope = k_w[0]\n",
    "print \"Slope:\", slope\n",
    "\n",
    "r2 = 1 - residuals[0] / (l_freq_k.size * l_freq_k.var())\n",
    "print \"R2:\", r2"
   ]
  },
  {
   "cell_type": "code",
   "execution_count": null,
   "metadata": {
    "collapsed": false
   },
   "outputs": [],
   "source": [
    "plt.plot([0.55, 0.6, 0.65, 0.7, 0.75, 0.8, 0.85, 0.9], \n",
    "        [0.81, 0.82, 0.85, 0.87, 0.87, 0.87, 0.82, 0.81])\n",
    "plt.axis([0.54, 0.91, 0.7, 1])"
   ]
  },
  {
   "cell_type": "markdown",
   "metadata": {},
   "source": [
    "## What follows is junk"
   ]
  },
  {
   "cell_type": "markdown",
   "metadata": {},
   "source": [
    "## Check whether normalization can be done with respect to the reference data."
   ]
  },
  {
   "cell_type": "code",
   "execution_count": null,
   "metadata": {
    "collapsed": false
   },
   "outputs": [],
   "source": [
    "x_mean = np.mean(X_ref_reordered, axis=0)\n",
    "print \"mean:\", x_mean\n",
    "x_stdv = np.std(X_ref_reordered, axis=0, ddof=1)\n",
    "print \"stdv:\", x_stdv\n",
    "X_ref_normalized = np.array(X_ref_reordered)\n",
    "X_ref_normalized -= x_mean\n",
    "X_ref_normalized /= x_stdv"
   ]
  },
  {
   "cell_type": "code",
   "execution_count": null,
   "metadata": {
    "collapsed": true
   },
   "outputs": [],
   "source": [
    "X_normalized = np.array(X)\n",
    "X_normalized -= x_mean\n",
    "X_normalized /= x_stdv"
   ]
  },
  {
   "cell_type": "code",
   "execution_count": null,
   "metadata": {
    "collapsed": false
   },
   "outputs": [],
   "source": [
    "n, p = X_ref_normalized.shape\n",
    "print n, p\n",
    "reg_w = np.linalg.lstsq(np.array([X_ref_normalized[:, 1], np.ones(n) ]).T, X_ref_normalized[:, 811])[0]"
   ]
  },
  {
   "cell_type": "code",
   "execution_count": null,
   "metadata": {
    "collapsed": false
   },
   "outputs": [],
   "source": [
    "[w0, w1] = reg_w\n",
    "\n",
    "rcParams.update({'font.size': 16})\n",
    "figure(figsize=(8, 8))\n",
    "plot(X_ref_normalized[:, 1], X_ref_normalized[:, 811], marker=\"+\", ls='', color='darkgrey')\n",
    "plot(X_normalized[:, 1], X_normalized[:, 811], marker=\"x\", ls='', color=blue_color)\n",
    "\n",
    "plot(np.arange(-2, 2.1, 0.1),  w0*np.arange(-2, 2.1, 0.1) + w1, ls='-', color=orange_color)\n",
    "xlim(-2, 2)\n",
    "ylim(-2, 2)\n",
    "xlabel('Gene A')\n",
    "ylabel('Gene B')\n",
    "#title('Regressing Gene B against Gene A')\n",
    "\n",
    "# single out one point\n",
    "sample_idx = 473\n",
    "x0 = X_normalized[sample_idx, 1]\n",
    "y0 = X_normalized[sample_idx, 811]\n",
    "plot(x0, y0, marker=\"o\", ls='', color=blue_color)\n",
    "a = (w0 * (y0 - w1) + x0)/(1 + w0**2)\n",
    "b = (w1 + w0 * (x0 + w0 * y0))/(1 + w0**2)\n",
    "plot([x0, a], [y0, b], ls='-', color=blue_color)\n",
    "text(0.5*(x0+a), 0.5*(y0+b), 'd', color=blue_color)\n",
    "\n",
    "savefig('ArrayExpress/postproc/regline_normalized_example.pdf', bbox='tight_layout')"
   ]
  },
  {
   "cell_type": "code",
   "execution_count": null,
   "metadata": {
    "collapsed": true
   },
   "outputs": [],
   "source": [
    "### STEP 1 (do we need this?): Compute correlations between samples\n",
    "#import pickle\n",
    "#import calculatePC\n",
    "#import ensure_dir\n",
    "#print \"Computing correlation between samples (takes time)\"\n",
    "#res_dir = 'results/heatmaps'\n",
    "#ensure_dir(res_dir)\n",
    "#corr, corr_hist = calculatePC(ds.expressionData)\n",
    "#pickle.dump(corr, open('%s/%s_corr_matrix.pickle' % (res_dir, cohort_name), 'wb'))\n",
    "\n",
    "#corr_mean, corr_hist_mean = calculatePC(ds_mean.expressionData)\n",
    "#pickle.dump(corr_mean, open('%s/%s_corr_matrix_mean.pickle' % (res_dir, cohort_name), 'wb'))\n",
    "\n",
    "\n",
    "### STEP 2: Detect and remove similar samples (possible duplicates).\n",
    "sim_thresh = 0.9 # similarity threshold: remove samples that show high correlation\n",
    "data = pickle.load(open(\"%s/%s_data.pickle\")) # combatData.pickle\n",
    "\n",
    "# TODO IDENTIFY SIMILAR PAIRS    \n",
    "print \"Cohort has %d similar pairs\" % len(sim_pairs)\n",
    "    \n",
    "remove_samples = removeSamplesRandomElimination(sim_pairs)   \n",
    "print \"Removing %d samples\" % len(remove_samples)\n",
    "\n",
    "# find indices of the removed samples in the merged dataset\n",
    "try:\n",
    "    remove_samples_idx = np.argwhere(np.in1d(data.patientLabels, remove_samples))[:, 0]\n",
    "except:\n",
    "    remove_samples_idx = np.argwhere(np.setmember1d(data.patientLabels, remove_samples))[:, 0]\n",
    "    \n",
    "patient_idx = range(len(data.patientLabels))\n",
    "ds_clean_samples = data.extractPatientsByIndices((\"ALL_%s_cleanSamples\" % cohort_name),\n",
    "                                                 list(set(patient_idx).difference(remove_samples_idx)), \n",
    "                                                 False, False)    \n",
    "\n",
    "print \"Map AffyIDs to Entrez gene IDs\"\n",
    "mapProbeIdsToGeneIds = 'NormalisingData/projectX/HG-U133A.na32.annot.csv/HG-U133A.na32.annot.csv'\n",
    "best_map_entrez_affy = ProbeToGeneID(mapProbeIdsToGeneIds, ds_clean)\n",
    "best_map_affy_entrez = dict(zip(best_map_entrez_affy.values(), best_map_entrez_affy.keys()))\n",
    "try:\n",
    "    idx = np.argwhere(np.in1ds(ds_clean_samples.geneLabels, best_map_affy_entrez.keys()))[:, 0]\n",
    "except:\n",
    "    idx = np.argwhere(np.setmember1d(ds_clean_samples.geneLabels, best_map_affy_entrez.keys()))[:, 0]\n",
    "data_clean = ds_clean_samples.extractGenesByIndices(('%s_clean_probes' % cohort_name), idx, \n",
    "                                          checkNormalization=False, checkClassLabels=False)\n",
    "\n",
    "print \"Replace AffyIDs with gene IDs\"\n",
    "for ix in range(len(data_clean.geneLabels)):\n",
    "    data_clean.geneLabels[ix] = best_map_affy_entrez[data_clean.geneLabels[ix]]\n",
    "\n",
    "print \"Mean-center\"\n",
    "data_clean.expressionData = data_clean.expressionData - data_clean.expressionData.mean(0)\n",
    "\n",
    "# save to pickle\n",
    "pickle.dump(data_clean, open('%s/%s_all_data.pickle' % (res_dir, cohort_name), 'wb')    "
   ]
  },
  {
   "cell_type": "code",
   "execution_count": null,
   "metadata": {
    "collapsed": true
   },
   "outputs": [],
   "source": [
    "import pylab\n",
    "from matplotlib.backends.backend_pdf import PdfPages\n",
    "def compute_pca(matrix, plot_title, plot_fname):\n",
    "    \"\"\"Compute PCA of a matrix.\n",
    "    \n",
    "    Parameters\n",
    "    ----------\n",
    "    matrix: np.array\n",
    "        covariance matrix or data matrix (variables x observations).\n",
    "    \n",
    "    plot_title: string\n",
    "        Title of plot.\n",
    "        \n",
    "    plot_fname: filename\n",
    "        Path to file where to save PC plot (as pdf).\n",
    "    \n",
    "    Returns\n",
    "    -------\n",
    "    fpc: np.array \n",
    "        first principal component\n",
    "        \n",
    "    spc: np.array \n",
    "        second principal component\n",
    "    \n",
    "    Created files\n",
    "    -------------\n",
    "    plot_fname: Plot the data (first PC against second PC)\n",
    "    \n",
    "    \"\"\"\n",
    "    if matrix.shape[0] == matrix.shape[1]:\n",
    "        # covariance matrix\n",
    "        w, v = np.linalg.eigh(matrix)\n",
    "        # first PC\n",
    "        fpc = v[:, len(w)-1]\n",
    "        # second PC\n",
    "        spc = v[:, len(w)-2]\n",
    "    else:\n",
    "        # data matrix\n",
    "        data = matrix.copy()\n",
    "        pcomps, trans, w = pylab.prepca(data.T)\n",
    "        fpc = pcomps[0, ]\n",
    "        spc = pcomps[1, ]\n",
    "    #print \"First PC\", fpc\n",
    "    #print \"Second PC\", spc\n",
    "        \n",
    "    # Plot first PC against second PC\n",
    "    print \"Plot first PC against second PC in %s\" % plot_fname\n",
    "    pdf = PdfPages(plot_fname)\n",
    "    fig = plt.figure(figsize=(8, 8))\n",
    "    plt.plot(fpc, spc, \".\", color='darkgrey')\n",
    "    \n",
    "    plt.xlabel(\"First PC\", fontsize=16)\n",
    "    plt.ylabel(\"Second PC\", fontsize=16)\n",
    "    plt.title(plot_title, fontsize=16)\n",
    "    xmin = min(fpc)\n",
    "    xmax = max(fpc)\n",
    "    ymin = min(spc)\n",
    "    ymax = max(spc)\n",
    "    plt.axis([xmin-50, xmax+100, ymin-20, ymax+20])\n",
    "    pdf.savefig()\n",
    "    pdf.close()\n",
    "    plt.clf()\n",
    "    \n",
    "    return fpc, spc"
   ]
  }
 ],
 "metadata": {
  "kernelspec": {
   "display_name": "Python 2",
   "language": "python",
   "name": "python2"
  },
  "language_info": {
   "codemirror_mode": {
    "name": "ipython",
    "version": 2
   },
   "file_extension": ".py",
   "mimetype": "text/x-python",
   "name": "python",
   "nbconvert_exporter": "python",
   "pygments_lexer": "ipython2",
   "version": "2.7.6"
  }
 },
 "nbformat": 4,
 "nbformat_minor": 0
}
