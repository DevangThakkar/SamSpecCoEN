{
 "cells": [
  {
   "cell_type": "markdown",
   "metadata": {},
   "source": [
    "A global map of human gene expression\n",
    "http://europepmc.org/articles/PMC2974261\n",
    "\n",
    "Data in ArrayExpress/ "
   ]
  },
  {
   "cell_type": "code",
   "execution_count": 1,
   "metadata": {
    "collapsed": false
   },
   "outputs": [],
   "source": [
    "import pandas as pd\n",
    "import numpy as np"
   ]
  },
  {
   "cell_type": "code",
   "execution_count": 2,
   "metadata": {
    "collapsed": false
   },
   "outputs": [],
   "source": [
    "fd = pd.read_csv('ArrayExpress/E-MTAB-62.sdrf.txt', delimiter='\\t')"
   ]
  },
  {
   "cell_type": "code",
   "execution_count": 3,
   "metadata": {
    "collapsed": false
   },
   "outputs": [
    {
     "data": {
      "text/html": [
       "<div>\n",
       "<table border=\"1\" class=\"dataframe\">\n",
       "  <thead>\n",
       "    <tr style=\"text-align: right;\">\n",
       "      <th></th>\n",
       "      <th>Source Name</th>\n",
       "      <th>Characteristics[OperatorVariation]</th>\n",
       "      <th>Characteristics[DataSource]</th>\n",
       "      <th>Characteristics[4 meta-groups]</th>\n",
       "      <th>Characteristics[15 meta-groups]</th>\n",
       "      <th>Characteristics[369 groups]</th>\n",
       "      <th>Characteristics[groups with 10 and more replicates]</th>\n",
       "      <th>Characteristics[Blood/NonBlood meta-groups]</th>\n",
       "      <th>Characteristics[Organism]</th>\n",
       "      <th>Characteristics[OrganismPart]</th>\n",
       "      <th>...</th>\n",
       "      <th>Protocol REF</th>\n",
       "      <th>Derived Array Data Matrix File</th>\n",
       "      <th>Comment [Derived ArrayExpress FTP file]</th>\n",
       "      <th>Factor Value[4 meta-groups]</th>\n",
       "      <th>Factor Value[15 meta-groups]</th>\n",
       "      <th>Factor Value[369 groups]</th>\n",
       "      <th>Factor Value[Blood-NonBlood meta-groups]</th>\n",
       "      <th>Factor Value[6 meta-groups]</th>\n",
       "      <th>Factor Value[4 groups from blood to incompletely diff]</th>\n",
       "      <th>Factor Value[96 groups]</th>\n",
       "    </tr>\n",
       "  </thead>\n",
       "  <tbody>\n",
       "    <tr>\n",
       "      <th>count</th>\n",
       "      <td>5372</td>\n",
       "      <td>5372</td>\n",
       "      <td>5372</td>\n",
       "      <td>5372</td>\n",
       "      <td>5372</td>\n",
       "      <td>5372</td>\n",
       "      <td>5372</td>\n",
       "      <td>5372</td>\n",
       "      <td>5372</td>\n",
       "      <td>5372</td>\n",
       "      <td>...</td>\n",
       "      <td>5372</td>\n",
       "      <td>5372</td>\n",
       "      <td>5372</td>\n",
       "      <td>5372</td>\n",
       "      <td>5372</td>\n",
       "      <td>5372</td>\n",
       "      <td>5372</td>\n",
       "      <td>5372</td>\n",
       "      <td>5372</td>\n",
       "      <td>5372</td>\n",
       "    </tr>\n",
       "    <tr>\n",
       "      <th>unique</th>\n",
       "      <td>5372</td>\n",
       "      <td>163</td>\n",
       "      <td>206</td>\n",
       "      <td>4</td>\n",
       "      <td>15</td>\n",
       "      <td>369</td>\n",
       "      <td>97</td>\n",
       "      <td>2</td>\n",
       "      <td>2</td>\n",
       "      <td>131</td>\n",
       "      <td>...</td>\n",
       "      <td>1</td>\n",
       "      <td>1</td>\n",
       "      <td>1</td>\n",
       "      <td>4</td>\n",
       "      <td>15</td>\n",
       "      <td>369</td>\n",
       "      <td>2</td>\n",
       "      <td>7</td>\n",
       "      <td>4</td>\n",
       "      <td>97</td>\n",
       "    </tr>\n",
       "    <tr>\n",
       "      <th>top</th>\n",
       "      <td>GSM123775.CEL</td>\n",
       "      <td>Justin,,Lamb</td>\n",
       "      <td>GSE5258</td>\n",
       "      <td>neoplasm</td>\n",
       "      <td>solid tissue neoplasm cell line</td>\n",
       "      <td>breast cancer</td>\n",
       "      <td></td>\n",
       "      <td>non blood</td>\n",
       "      <td>Homo sapiens</td>\n",
       "      <td>blood</td>\n",
       "      <td>...</td>\n",
       "      <td>P-MTAB-2072</td>\n",
       "      <td>hgu133a_rma_okFiles_080619_MAGETAB.csv</td>\n",
       "      <td>ftp://ftp.ebi.ac.uk/pub/databases/microarray/d...</td>\n",
       "      <td>neoplasm</td>\n",
       "      <td>solid tissue neoplasm cell line</td>\n",
       "      <td>breast cancer</td>\n",
       "      <td>non blood</td>\n",
       "      <td>hematopoietic system</td>\n",
       "      <td>the rest</td>\n",
       "      <td></td>\n",
       "    </tr>\n",
       "    <tr>\n",
       "      <th>freq</th>\n",
       "      <td>1</td>\n",
       "      <td>324</td>\n",
       "      <td>324</td>\n",
       "      <td>2315</td>\n",
       "      <td>831</td>\n",
       "      <td>672</td>\n",
       "      <td>764</td>\n",
       "      <td>3450</td>\n",
       "      <td>5369</td>\n",
       "      <td>1089</td>\n",
       "      <td>...</td>\n",
       "      <td>5372</td>\n",
       "      <td>5372</td>\n",
       "      <td>5372</td>\n",
       "      <td>2315</td>\n",
       "      <td>831</td>\n",
       "      <td>672</td>\n",
       "      <td>3450</td>\n",
       "      <td>1854</td>\n",
       "      <td>2976</td>\n",
       "      <td>764</td>\n",
       "    </tr>\n",
       "  </tbody>\n",
       "</table>\n",
       "<p>4 rows × 34 columns</p>\n",
       "</div>"
      ],
      "text/plain": [
       "          Source Name Characteristics[OperatorVariation]  \\\n",
       "count            5372                               5372   \n",
       "unique           5372                                163   \n",
       "top     GSM123775.CEL                       Justin,,Lamb   \n",
       "freq                1                                324   \n",
       "\n",
       "       Characteristics[DataSource] Characteristics[4 meta-groups]  \\\n",
       "count                         5372                           5372   \n",
       "unique                         206                              4   \n",
       "top                        GSE5258                       neoplasm   \n",
       "freq                           324                           2315   \n",
       "\n",
       "        Characteristics[15 meta-groups] Characteristics[369 groups]  \\\n",
       "count                              5372                        5372   \n",
       "unique                               15                         369   \n",
       "top     solid tissue neoplasm cell line               breast cancer   \n",
       "freq                                831                         672   \n",
       "\n",
       "       Characteristics[groups with 10 and more replicates]  \\\n",
       "count                                                5372    \n",
       "unique                                                 97    \n",
       "top                                                          \n",
       "freq                                                  764    \n",
       "\n",
       "       Characteristics[Blood/NonBlood meta-groups] Characteristics[Organism]  \\\n",
       "count                                         5372                      5372   \n",
       "unique                                           2                         2   \n",
       "top                                      non blood              Homo sapiens   \n",
       "freq                                          3450                      5369   \n",
       "\n",
       "       Characteristics[OrganismPart]           ...           Protocol REF  \\\n",
       "count                           5372           ...                   5372   \n",
       "unique                           131           ...                      1   \n",
       "top                            blood           ...            P-MTAB-2072   \n",
       "freq                            1089           ...                   5372   \n",
       "\n",
       "                Derived Array Data Matrix File  \\\n",
       "count                                     5372   \n",
       "unique                                       1   \n",
       "top     hgu133a_rma_okFiles_080619_MAGETAB.csv   \n",
       "freq                                      5372   \n",
       "\n",
       "                  Comment [Derived ArrayExpress FTP file]  \\\n",
       "count                                                5372   \n",
       "unique                                                  1   \n",
       "top     ftp://ftp.ebi.ac.uk/pub/databases/microarray/d...   \n",
       "freq                                                 5372   \n",
       "\n",
       "       Factor Value[4 meta-groups]     Factor Value[15 meta-groups]  \\\n",
       "count                         5372                             5372   \n",
       "unique                           4                               15   \n",
       "top                       neoplasm  solid tissue neoplasm cell line   \n",
       "freq                          2315                              831   \n",
       "\n",
       "       Factor Value[369 groups] Factor Value[Blood-NonBlood meta-groups]  \\\n",
       "count                      5372                                     5372   \n",
       "unique                      369                                        2   \n",
       "top               breast cancer                                non blood   \n",
       "freq                        672                                     3450   \n",
       "\n",
       "       Factor Value[6 meta-groups]  \\\n",
       "count                         5372   \n",
       "unique                           7   \n",
       "top           hematopoietic system   \n",
       "freq                          1854   \n",
       "\n",
       "       Factor Value[4 groups from blood to incompletely diff]  \\\n",
       "count                                                5372       \n",
       "unique                                                  4       \n",
       "top                                              the rest       \n",
       "freq                                                 2976       \n",
       "\n",
       "       Factor Value[96 groups]  \n",
       "count                     5372  \n",
       "unique                      97  \n",
       "top                             \n",
       "freq                       764  \n",
       "\n",
       "[4 rows x 34 columns]"
      ]
     },
     "execution_count": 3,
     "metadata": {},
     "output_type": "execute_result"
    }
   ],
   "source": [
    "fd.describe()"
   ]
  },
  {
   "cell_type": "code",
   "execution_count": 4,
   "metadata": {
    "collapsed": false
   },
   "outputs": [
    {
     "data": {
      "text/plain": [
       "array(['cell line', 'neoplasm', 'normal', 'disease'], dtype=object)"
      ]
     },
     "execution_count": 4,
     "metadata": {},
     "output_type": "execute_result"
    }
   ],
   "source": [
    "fd['Characteristics[4 meta-groups]'].unique()"
   ]
  },
  {
   "cell_type": "code",
   "execution_count": 11,
   "metadata": {
    "collapsed": false
   },
   "outputs": [
    {
     "name": "stdout",
     "output_type": "stream",
     "text": [
      "(1033,)\n"
     ]
    }
   ],
   "source": [
    "print np.where(fd['Characteristics[4 meta-groups]']=='normal')[0].shape\n",
    "normals = fd[fd['Characteristics[4 meta-groups]']=='normal']['Source Name'].tolist()\n",
    "#print normals"
   ]
  },
  {
   "cell_type": "markdown",
   "metadata": {},
   "source": [
    "1033 entries have meta-group \"normal\""
   ]
  },
  {
   "cell_type": "code",
   "execution_count": 13,
   "metadata": {
    "collapsed": false
   },
   "outputs": [],
   "source": [
    "with open('ArrayExpress/hgu133a_rma_okFiles_080619_MAGETAB.csv', 'r') as f:\n",
    "    header = f.readline()\n",
    "    f.close()"
   ]
  },
  {
   "cell_type": "code",
   "execution_count": 20,
   "metadata": {
    "collapsed": false
   },
   "outputs": [
    {
     "name": "stdout",
     "output_type": "stream",
     "text": [
      "1033\n"
     ]
    }
   ],
   "source": [
    "#print header.split('\\t')[:10]\n",
    "#print normals[:10]\n",
    "cols = [i for (i, x) in enumerate(header.split(\"\\t\")) if x.lstrip('\"').rstrip('\"') in normals]\n",
    "print len(cols)"
   ]
  },
  {
   "cell_type": "code",
   "execution_count": 26,
   "metadata": {
    "collapsed": false
   },
   "outputs": [],
   "source": [
    "data = np.loadtxt('ArrayExpress/hgu133a_rma_okFiles_080619_MAGETAB.csv', \n",
    "          skiprows=2, delimiter='\\t', usecols=cols)"
   ]
  },
  {
   "cell_type": "code",
   "execution_count": 31,
   "metadata": {
    "collapsed": false
   },
   "outputs": [
    {
     "name": "stdout",
     "output_type": "stream",
     "text": [
      "Using matplotlib backend: TkAgg\n"
     ]
    }
   ],
   "source": [
    "%matplotlib\n",
    "import matplotlib.pyplot as plt"
   ]
  },
  {
   "cell_type": "code",
   "execution_count": 36,
   "metadata": {
    "collapsed": false
   },
   "outputs": [
    {
     "name": "stdout",
     "output_type": "stream",
     "text": [
      "(22283, 1033)\n"
     ]
    },
    {
     "data": {
      "text/plain": [
       "[<matplotlib.lines.Line2D at 0x7f98eff62250>]"
      ]
     },
     "execution_count": 36,
     "metadata": {},
     "output_type": "execute_result"
    }
   ],
   "source": [
    "print data.shape\n",
    "plt.plot(range(data.shape[1]), data[0, :])\n",
    "plt.plot(range(data.shape[1]), data[1, :], 'r')"
   ]
  },
  {
   "cell_type": "code",
   "execution_count": null,
   "metadata": {
    "collapsed": true
   },
   "outputs": [],
   "source": []
  }
 ],
 "metadata": {
  "kernelspec": {
   "display_name": "Python 2",
   "language": "python",
   "name": "python2"
  },
  "language_info": {
   "codemirror_mode": {
    "name": "ipython",
    "version": 2
   },
   "file_extension": ".py",
   "mimetype": "text/x-python",
   "name": "python",
   "nbconvert_exporter": "python",
   "pygments_lexer": "ipython2",
   "version": "2.7.6"
  }
 },
 "nbformat": 4,
 "nbformat_minor": 0
}
