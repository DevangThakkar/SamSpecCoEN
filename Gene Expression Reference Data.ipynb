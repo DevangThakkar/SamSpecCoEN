{
 "cells": [
  {
   "cell_type": "markdown",
   "metadata": {},
   "source": [
    "A global map of human gene expression\n",
    "http://europepmc.org/articles/PMC2974261\n",
    "\n",
    "Data in ArrayExpress/ "
   ]
  },
  {
   "cell_type": "code",
   "execution_count": 26,
   "metadata": {
    "collapsed": false
   },
   "outputs": [],
   "source": [
    "import pandas as pd\n",
    "import numpy as np\n",
    "import h5py"
   ]
  },
  {
   "cell_type": "code",
   "execution_count": 2,
   "metadata": {
    "collapsed": false
   },
   "outputs": [],
   "source": [
    "fd = pd.read_csv('ArrayExpress/E-MTAB-62.sdrf.txt', delimiter='\\t')"
   ]
  },
  {
   "cell_type": "code",
   "execution_count": 3,
   "metadata": {
    "collapsed": false
   },
   "outputs": [
    {
     "data": {
      "text/html": [
       "<div>\n",
       "<table border=\"1\" class=\"dataframe\">\n",
       "  <thead>\n",
       "    <tr style=\"text-align: right;\">\n",
       "      <th></th>\n",
       "      <th>Source Name</th>\n",
       "      <th>Characteristics[OperatorVariation]</th>\n",
       "      <th>Characteristics[DataSource]</th>\n",
       "      <th>Characteristics[4 meta-groups]</th>\n",
       "      <th>Characteristics[15 meta-groups]</th>\n",
       "      <th>Characteristics[369 groups]</th>\n",
       "      <th>Characteristics[groups with 10 and more replicates]</th>\n",
       "      <th>Characteristics[Blood/NonBlood meta-groups]</th>\n",
       "      <th>Characteristics[Organism]</th>\n",
       "      <th>Characteristics[OrganismPart]</th>\n",
       "      <th>...</th>\n",
       "      <th>Protocol REF</th>\n",
       "      <th>Derived Array Data Matrix File</th>\n",
       "      <th>Comment [Derived ArrayExpress FTP file]</th>\n",
       "      <th>Factor Value[4 meta-groups]</th>\n",
       "      <th>Factor Value[15 meta-groups]</th>\n",
       "      <th>Factor Value[369 groups]</th>\n",
       "      <th>Factor Value[Blood-NonBlood meta-groups]</th>\n",
       "      <th>Factor Value[6 meta-groups]</th>\n",
       "      <th>Factor Value[4 groups from blood to incompletely diff]</th>\n",
       "      <th>Factor Value[96 groups]</th>\n",
       "    </tr>\n",
       "  </thead>\n",
       "  <tbody>\n",
       "    <tr>\n",
       "      <th>count</th>\n",
       "      <td>5372</td>\n",
       "      <td>5372</td>\n",
       "      <td>5372</td>\n",
       "      <td>5372</td>\n",
       "      <td>5372</td>\n",
       "      <td>5372</td>\n",
       "      <td>5372</td>\n",
       "      <td>5372</td>\n",
       "      <td>5372</td>\n",
       "      <td>5372</td>\n",
       "      <td>...</td>\n",
       "      <td>5372</td>\n",
       "      <td>5372</td>\n",
       "      <td>5372</td>\n",
       "      <td>5372</td>\n",
       "      <td>5372</td>\n",
       "      <td>5372</td>\n",
       "      <td>5372</td>\n",
       "      <td>5372</td>\n",
       "      <td>5372</td>\n",
       "      <td>5372</td>\n",
       "    </tr>\n",
       "    <tr>\n",
       "      <th>unique</th>\n",
       "      <td>5372</td>\n",
       "      <td>163</td>\n",
       "      <td>206</td>\n",
       "      <td>4</td>\n",
       "      <td>15</td>\n",
       "      <td>369</td>\n",
       "      <td>97</td>\n",
       "      <td>2</td>\n",
       "      <td>2</td>\n",
       "      <td>131</td>\n",
       "      <td>...</td>\n",
       "      <td>1</td>\n",
       "      <td>1</td>\n",
       "      <td>1</td>\n",
       "      <td>4</td>\n",
       "      <td>15</td>\n",
       "      <td>369</td>\n",
       "      <td>2</td>\n",
       "      <td>7</td>\n",
       "      <td>4</td>\n",
       "      <td>97</td>\n",
       "    </tr>\n",
       "    <tr>\n",
       "      <th>top</th>\n",
       "      <td>GSM123775.CEL</td>\n",
       "      <td>Justin,,Lamb</td>\n",
       "      <td>GSE5258</td>\n",
       "      <td>neoplasm</td>\n",
       "      <td>solid tissue neoplasm cell line</td>\n",
       "      <td>breast cancer</td>\n",
       "      <td></td>\n",
       "      <td>non blood</td>\n",
       "      <td>Homo sapiens</td>\n",
       "      <td>blood</td>\n",
       "      <td>...</td>\n",
       "      <td>P-MTAB-2072</td>\n",
       "      <td>hgu133a_rma_okFiles_080619_MAGETAB.csv</td>\n",
       "      <td>ftp://ftp.ebi.ac.uk/pub/databases/microarray/d...</td>\n",
       "      <td>neoplasm</td>\n",
       "      <td>solid tissue neoplasm cell line</td>\n",
       "      <td>breast cancer</td>\n",
       "      <td>non blood</td>\n",
       "      <td>hematopoietic system</td>\n",
       "      <td>the rest</td>\n",
       "      <td></td>\n",
       "    </tr>\n",
       "    <tr>\n",
       "      <th>freq</th>\n",
       "      <td>1</td>\n",
       "      <td>324</td>\n",
       "      <td>324</td>\n",
       "      <td>2315</td>\n",
       "      <td>831</td>\n",
       "      <td>672</td>\n",
       "      <td>764</td>\n",
       "      <td>3450</td>\n",
       "      <td>5369</td>\n",
       "      <td>1089</td>\n",
       "      <td>...</td>\n",
       "      <td>5372</td>\n",
       "      <td>5372</td>\n",
       "      <td>5372</td>\n",
       "      <td>2315</td>\n",
       "      <td>831</td>\n",
       "      <td>672</td>\n",
       "      <td>3450</td>\n",
       "      <td>1854</td>\n",
       "      <td>2976</td>\n",
       "      <td>764</td>\n",
       "    </tr>\n",
       "  </tbody>\n",
       "</table>\n",
       "<p>4 rows × 34 columns</p>\n",
       "</div>"
      ],
      "text/plain": [
       "          Source Name Characteristics[OperatorVariation]  \\\n",
       "count            5372                               5372   \n",
       "unique           5372                                163   \n",
       "top     GSM123775.CEL                       Justin,,Lamb   \n",
       "freq                1                                324   \n",
       "\n",
       "       Characteristics[DataSource] Characteristics[4 meta-groups]  \\\n",
       "count                         5372                           5372   \n",
       "unique                         206                              4   \n",
       "top                        GSE5258                       neoplasm   \n",
       "freq                           324                           2315   \n",
       "\n",
       "        Characteristics[15 meta-groups] Characteristics[369 groups]  \\\n",
       "count                              5372                        5372   \n",
       "unique                               15                         369   \n",
       "top     solid tissue neoplasm cell line               breast cancer   \n",
       "freq                                831                         672   \n",
       "\n",
       "       Characteristics[groups with 10 and more replicates]  \\\n",
       "count                                                5372    \n",
       "unique                                                 97    \n",
       "top                                                          \n",
       "freq                                                  764    \n",
       "\n",
       "       Characteristics[Blood/NonBlood meta-groups] Characteristics[Organism]  \\\n",
       "count                                         5372                      5372   \n",
       "unique                                           2                         2   \n",
       "top                                      non blood              Homo sapiens   \n",
       "freq                                          3450                      5369   \n",
       "\n",
       "       Characteristics[OrganismPart]           ...           Protocol REF  \\\n",
       "count                           5372           ...                   5372   \n",
       "unique                           131           ...                      1   \n",
       "top                            blood           ...            P-MTAB-2072   \n",
       "freq                            1089           ...                   5372   \n",
       "\n",
       "                Derived Array Data Matrix File  \\\n",
       "count                                     5372   \n",
       "unique                                       1   \n",
       "top     hgu133a_rma_okFiles_080619_MAGETAB.csv   \n",
       "freq                                      5372   \n",
       "\n",
       "                  Comment [Derived ArrayExpress FTP file]  \\\n",
       "count                                                5372   \n",
       "unique                                                  1   \n",
       "top     ftp://ftp.ebi.ac.uk/pub/databases/microarray/d...   \n",
       "freq                                                 5372   \n",
       "\n",
       "       Factor Value[4 meta-groups]     Factor Value[15 meta-groups]  \\\n",
       "count                         5372                             5372   \n",
       "unique                           4                               15   \n",
       "top                       neoplasm  solid tissue neoplasm cell line   \n",
       "freq                          2315                              831   \n",
       "\n",
       "       Factor Value[369 groups] Factor Value[Blood-NonBlood meta-groups]  \\\n",
       "count                      5372                                     5372   \n",
       "unique                      369                                        2   \n",
       "top               breast cancer                                non blood   \n",
       "freq                        672                                     3450   \n",
       "\n",
       "       Factor Value[6 meta-groups]  \\\n",
       "count                         5372   \n",
       "unique                           7   \n",
       "top           hematopoietic system   \n",
       "freq                          1854   \n",
       "\n",
       "       Factor Value[4 groups from blood to incompletely diff]  \\\n",
       "count                                                5372       \n",
       "unique                                                  4       \n",
       "top                                              the rest       \n",
       "freq                                                 2976       \n",
       "\n",
       "       Factor Value[96 groups]  \n",
       "count                     5372  \n",
       "unique                      97  \n",
       "top                             \n",
       "freq                       764  \n",
       "\n",
       "[4 rows x 34 columns]"
      ]
     },
     "execution_count": 3,
     "metadata": {},
     "output_type": "execute_result"
    }
   ],
   "source": [
    "fd.describe()"
   ]
  },
  {
   "cell_type": "code",
   "execution_count": 4,
   "metadata": {
    "collapsed": false
   },
   "outputs": [
    {
     "data": {
      "text/plain": [
       "array(['cell line', 'neoplasm', 'normal', 'disease'], dtype=object)"
      ]
     },
     "execution_count": 4,
     "metadata": {},
     "output_type": "execute_result"
    }
   ],
   "source": [
    "fd['Characteristics[4 meta-groups]'].unique()"
   ]
  },
  {
   "cell_type": "code",
   "execution_count": 5,
   "metadata": {
    "collapsed": false
   },
   "outputs": [
    {
     "name": "stdout",
     "output_type": "stream",
     "text": [
      "(1033,)\n"
     ]
    }
   ],
   "source": [
    "print np.where(fd['Characteristics[4 meta-groups]']=='normal')[0].shape\n",
    "normals = fd[fd['Characteristics[4 meta-groups]']=='normal']['Source Name'].tolist()\n",
    "#print normals"
   ]
  },
  {
   "cell_type": "markdown",
   "metadata": {},
   "source": [
    "1033 entries have meta-group \"normal\""
   ]
  },
  {
   "cell_type": "code",
   "execution_count": 6,
   "metadata": {
    "collapsed": false
   },
   "outputs": [],
   "source": [
    "with open('ArrayExpress/hgu133a_rma_okFiles_080619_MAGETAB.csv', 'r') as f:\n",
    "    header = f.readline()\n",
    "    f.close()"
   ]
  },
  {
   "cell_type": "code",
   "execution_count": 7,
   "metadata": {
    "collapsed": false
   },
   "outputs": [
    {
     "name": "stdout",
     "output_type": "stream",
     "text": [
      "1033\n"
     ]
    }
   ],
   "source": [
    "#print header.split('\\t')[:10]\n",
    "#print normals[:10]\n",
    "cols = [i for (i, x) in enumerate(header.split(\"\\t\")) if x.lstrip('\"').rstrip('\"') in normals]\n",
    "print len(cols)"
   ]
  },
  {
   "cell_type": "code",
   "execution_count": 8,
   "metadata": {
    "collapsed": false
   },
   "outputs": [],
   "source": [
    "data = np.loadtxt('ArrayExpress/hgu133a_rma_okFiles_080619_MAGETAB.csv', \n",
    "          skiprows=2, delimiter='\\t', usecols=cols)"
   ]
  },
  {
   "cell_type": "code",
   "execution_count": 9,
   "metadata": {
    "collapsed": false
   },
   "outputs": [
    {
     "data": {
      "text/plain": [
       "(22283, 1033)"
      ]
     },
     "execution_count": 9,
     "metadata": {},
     "output_type": "execute_result"
    }
   ],
   "source": [
    "data.shape"
   ]
  },
  {
   "cell_type": "code",
   "execution_count": 11,
   "metadata": {
    "collapsed": false
   },
   "outputs": [
    {
     "name": "stdout",
     "output_type": "stream",
     "text": [
      "Using matplotlib backend: TkAgg\n"
     ]
    }
   ],
   "source": [
    "%matplotlib\n",
    "import matplotlib.pyplot as plt"
   ]
  },
  {
   "cell_type": "code",
   "execution_count": 12,
   "metadata": {
    "collapsed": false
   },
   "outputs": [
    {
     "data": {
      "text/plain": [
       "[<matplotlib.lines.Line2D at 0x7febb1fa91d0>]"
      ]
     },
     "execution_count": 12,
     "metadata": {},
     "output_type": "execute_result"
    }
   ],
   "source": [
    "plt.plot(range(data.shape[1]), data[0,:])\n",
    "plt.plot(range(data.shape[1]), data[1,:], 'g')"
   ]
  },
  {
   "cell_type": "code",
   "execution_count": 22,
   "metadata": {
    "collapsed": false
   },
   "outputs": [],
   "source": [
    "# Get gene names\n",
    "gene_names = np.loadtxt('ArrayExpress/hgu133a_rma_okFiles_080619_MAGETAB.csv', \n",
    "                        usecols=[0], dtype='str')\n",
    "gene_names = [x.lstrip('\"').rstrip('\"') for x in gene_names]\n",
    "print gene_names[10]"
   ]
  },
  {
   "cell_type": "markdown",
   "metadata": {},
   "source": [
    "### Map E-MTAB-62 data"
   ]
  },
  {
   "cell_type": "code",
   "execution_count": 74,
   "metadata": {
    "collapsed": false
   },
   "outputs": [],
   "source": [
    "import pickle\n",
    "import sys\n",
    "sys.path.append('NormalisingData/projectX/')\n",
    "from ExpressionDataset import ExpressionDataset\n",
    "import mapData"
   ]
  },
  {
   "cell_type": "code",
   "execution_count": 61,
   "metadata": {
    "collapsed": false
   },
   "outputs": [],
   "source": [
    "# Transform hgu133a_rma_okFiles_080619_MAGETAB.csv into .dat\n",
    "# match the format of NormalisingData/R_playground/U133AnormalizedExpression.dat\n",
    "csv_data_fname = 'ArrayExpress/hgu133a_rma_okFiles_080619_MAGETAB.csv'\n",
    "# first line = sample names, tab separated, between \" quotes (e.g  \"1102960569.CEL\"  )\n",
    "# second line = to be ignored\n",
    "# first column = gene names, between \" quotes (e.g. \"1255_g_at\")\n",
    "\n",
    "D = np.hstack((fcol.reshape(fcol.shape[0], 1), data.T))\n",
    "\n",
    "datafile = 'ArrayExpress/postproc/hgu133a_rma_okFiles_080619_MAGETAB.dat'\n",
    "# first line = gene names, space-separated, between \" quotes (e.g. \"1255_g_at\")\n",
    "# first column = GSM names, between \" quotes (e.g. \"GSM107074.CEL.gz\")\n",
    "np.savetxt(datafile, D, fmt='%s', comments='',\n",
    "           delimiter=\" \", header=\" \".join(['\"%s\"' % x for x in gene_names[2:]]))"
   ]
  },
  {
   "cell_type": "code",
   "execution_count": 62,
   "metadata": {
    "collapsed": true
   },
   "outputs": [],
   "source": [
    "# Read the data\n",
    "(affyIDs, patientIDs, exprMatrix, exprs) = mapData.readExpressionData(datafile)"
   ]
  },
  {
   "cell_type": "code",
   "execution_count": 64,
   "metadata": {
    "collapsed": false
   },
   "outputs": [],
   "source": [
    "### Create an ExpressionDataset object\n",
    "cohort_name = 'MTAB-62'\n",
    "ds = ExpressionDataset(cohort_name, exprMatrix, np.array(affyIDs), np.ones(len(patientIDs)),\n",
    "                      np.array(patientIDs), checkNormalization=False, checkClassLabels=False)"
   ]
  },
  {
   "cell_type": "code",
   "execution_count": 82,
   "metadata": {
    "collapsed": false
   },
   "outputs": [
    {
     "name": "stdout",
     "output_type": "stream",
     "text": [
      "Map AffyIDs to Entrez gene IDs\n",
      "Columns in mapping file:\n",
      "['\"Probe Set ID', 'GeneChip Array', 'Species Scientific Name', 'Annotation Date', 'Sequence Type', 'Sequence Source', 'Transcript ID(Array Design)', 'Target Description', 'Representative Public ID', 'Archival UniGene Cluster', 'UniGene ID', 'Genome Version', 'Alignments', 'Gene Title', 'Gene Symbol', 'Chromosomal Location', 'Unigene Cluster Type', 'Ensembl', 'Entrez Gene', 'SwissProt', 'EC', 'OMIM', 'RefSeq Protein ID', 'RefSeq Transcript ID', 'FlyBase', 'AGI', 'WormBase', 'MGI Name', 'RGD Name', 'SGD accession number', 'Gene Ontology Biological Process', 'Gene Ontology Cellular Component', 'Gene Ontology Molecular Function', 'Pathway', 'InterPro', 'Trans Membrane', 'QTL', 'Annotation Description', 'Annotation Transcript Cluster', 'Transcript Assignments', 'Annotation Notes\"\\n']\n",
      "Replace AffyIDs with gene IDs\n",
      "Mean-center\n"
     ]
    }
   ],
   "source": [
    "### Map from Affymetrix probe set ID to Entrez gene ID\n",
    "reload(mapData)\n",
    "print \"Map AffyIDs to Entrez gene IDs\"\n",
    "map_probe_ids_to_gene_ids = 'NormalisingData/projectX/HG-U133A.na32.annot.csv/HG-U133A.na32.annot.csv'\n",
    "map_fname = 'ArrayExpress/postproc/HG-U133A.pickle'\n",
    "best_map_entrez_affy = mapData.ProbeToGeneID(map_probe_ids_to_gene_ids, ds, map_fname)\n",
    "best_map_affy_entrez = dict(zip(best_map_entrez_affy.values(), best_map_entrez_affy.keys()))\n",
    "\n",
    "idx = np.argwhere(np.in1d(ds.geneLabels, best_map_affy_entrez.keys()))[:, 0]\n",
    "\n",
    "ds_clean_probes = ds.extractGenesByIndices(('%s_clean_probes' % cohort_name), idx, \n",
    "                                          checkNormalization=False, checkClassLabels=False)\n",
    "\n",
    "print \"Replace AffyIDs with gene IDs\"\n",
    "for ix in range(len(ds_clean_probes.geneLabels)):\n",
    "    ds_clean_probes.geneLabels[ix] = best_map_affy_entrez[ds_clean_probes.geneLabels[ix]]\n",
    "\n",
    "print \"Mean-center\"\n",
    "ds_clean_probes.expressionData = ds_clean_probes.expressionData - ds_clean_probes.expressionData.mean(0)\n",
    "\n",
    "### Dump clean data\n",
    "res_dir = 'ArrayExpress/postproc'\n",
    "ds_clean_probes = ExpressionDataset(cohort_name, ds_clean_probes.expressionData, ds_clean_probes.geneLabels, \n",
    "                                    ds_clean_probes.patientClassLabels, \n",
    "                                    ds_clean_probes.patientLabels, checkNormalization=False, checkClassLabels=False)\n",
    "pickle.dump(ds_clean_probes, open('%s/%s_data.pickle' % (res_dir, cohort_name), 'wb'))"
   ]
  },
  {
   "cell_type": "code",
   "execution_count": 84,
   "metadata": {
    "collapsed": false
   },
   "outputs": [
    {
     "name": "stdout",
     "output_type": "stream",
     "text": [
      "Adding dataset: MTAB-62\n",
      "['Entrez_780' 'Entrez_5982' 'Entrez_7318' ..., 'Entrez_11033' 'Entrez_4034'\n",
      " 'Entrez_54869']\n"
     ]
    }
   ],
   "source": [
    "### Convert pickle data into hdf5 format\n",
    "from ConvertPickleData import EmitDataset\n",
    "res_dir = 'ArrayExpress/postproc'\n",
    "\n",
    "data_clean = pickle.load(open('%s/%s_data.pickle' % (res_dir, cohort_name)))\n",
    "\n",
    "hdf5_fname = '%s/%s.h5' % (res_dir, cohort_name)\n",
    "hdf5_f = h5py.File(hdf5_fname, 'w')\n",
    "EmitDataset(data_clean, None, hdf5_f)\n",
    "hdf5_f.close()  "
   ]
  },
  {
   "cell_type": "markdown",
   "metadata": {},
   "source": [
    "## Look at gene vs. gene plots in ACES-DMFS and E-MTAB-62 data"
   ]
  },
  {
   "cell_type": "code",
   "execution_count": 120,
   "metadata": {
    "collapsed": false
   },
   "outputs": [
    {
     "name": "stdout",
     "output_type": "stream",
     "text": [
      "(1616, 12750)\n",
      "Entrez_6207\n"
     ]
    }
   ],
   "source": [
    "# Get ACES data\n",
    "f = h5py.File(\"ACES/experiments/data/U133A_combat.h5\")\n",
    "X = f['U133A_combat_RFS']['ExpressionData']\n",
    "print X.shape\n",
    "aces_gene_names =  f['U133A_combat_DMFS']['GeneLabels']\n",
    "print aces_gene_names[20]"
   ]
  },
  {
   "cell_type": "code",
   "execution_count": 90,
   "metadata": {
    "collapsed": false
   },
   "outputs": [
    {
     "name": "stdout",
     "output_type": "stream",
     "text": [
      "(1033, 12750)\n"
     ]
    }
   ],
   "source": [
    "# Get reference data\n",
    "f = h5py.File(\"ArrayExpress/postproc/MTAB-62.h5\")\n",
    "X_ref = f['MTAB-62']['ExpressionData']\n",
    "print X_ref.shape\n",
    "ref_gene_names =  f['MTAB-62']['GeneLabels']\n"
   ]
  },
  {
   "cell_type": "code",
   "execution_count": 121,
   "metadata": {
    "collapsed": false
   },
   "outputs": [],
   "source": [
    "# Reorder reference data so that genes map those in ACES data\n",
    "# reordered_genes[0] = index of aces_gene_names[0] in ref_gene_names\n",
    "ref_gene_names = list(ref_gene_names)\n",
    "ref_gene_names_dict = dict([(a, ix) for ix, a in enumerate(ref_gene_names)]) # name:idx\n",
    "#print ref_gene_names_dict\n",
    "reordered_genes = [ref_gene_names_dict[a] for a in aces_gene_names]\n",
    "#print ref_gene_names[reordered_genes[20]]\n",
    "#X_ref = X_ref[:, reordered_genes]\n",
    "X_ref_reordered = np.array(X_ref)\n",
    "for ix in range(X_ref.shape[1]):\n",
    "    X_ref_reordered[:, ix] = X_ref[:, reordered_genes[ix]]"
   ]
  },
  {
   "cell_type": "code",
   "execution_count": 89,
   "metadata": {
    "collapsed": false
   },
   "outputs": [
    {
     "name": "stdout",
     "output_type": "stream",
     "text": [
      "Populating the interactive namespace from numpy and matplotlib\n"
     ]
    },
    {
     "name": "stderr",
     "output_type": "stream",
     "text": [
      "WARNING: pylab import has clobbered these variables: ['pylab', 'f']\n",
      "`%matplotlib` prevents importing * from pylab and numpy\n"
     ]
    }
   ],
   "source": [
    "%pylab inline\n",
    "orange_color = '#d66000'\n",
    "blue_color = '#005599'"
   ]
  },
  {
   "cell_type": "code",
   "execution_count": 127,
   "metadata": {
    "collapsed": false
   },
   "outputs": [
    {
     "name": "stdout",
     "output_type": "stream",
     "text": [
      "1033 12750\n"
     ]
    }
   ],
   "source": [
    "n, p = X_ref_reordered.shape\n",
    "print n, p\n",
    "reg_w = np.linalg.lstsq(np.array([X_ref_reordered[:, 1], np.ones(n) ]).T, X_ref_reordered[:, 81])[0]"
   ]
  },
  {
   "cell_type": "code",
   "execution_count": 132,
   "metadata": {
    "collapsed": false
   },
   "outputs": [
    {
     "data": {
      "image/png": "[encoded data removed]",
      "text/plain": [
       "<matplotlib.figure.Figure at 0x7feba3032210>"
      ]
     },
     "metadata": {},
     "output_type": "display_data"
    }
   ],
   "source": [
    "[w0, w1] = reg_w\n",
    "\n",
    "rcParams.update({'font.size': 16})\n",
    "figure(figsize=(8, 8))\n",
    "plot(X_ref_reordered[:, 1], X_ref_reordered[:, 811], marker=\"+\", ls='', color=blue_color)\n",
    "plot(X[:, 1], X[:, 811], marker=\"+\", ls='', color='darkgrey')\n",
    "\n",
    "plot(np.arange(-2, 2.1, 0.1),  w0*np.arange(-2, 2.1, 0.1) + w1, ls='-', color=orange_color)\n",
    "xlim(-2, 2)\n",
    "ylim(-2, 2)\n",
    "xlabel('Gene 1')\n",
    "ylabel('Gene 811')\n",
    "title('Regressing gene 811 against gene 1')\n",
    "\n",
    "# single out one point\n",
    "sample_idx = 473\n",
    "x0 = X[sample_idx, 1]\n",
    "y0 = X[sample_idx, 811]\n",
    "plot(x0, y0, marker=\"o\", ls='', color=blue_color)\n",
    "a = (w0 * (y0 - w1) + x0)/(1 + w0**2)\n",
    "b = (w1 + w0 * (x0 + w0 * y0))/(1 + w0**2)\n",
    "plot([x0, a], [y0, b], ls='-', color=blue_color)\n",
    "text(0.5*(x0+a), 0.5*(y0+b), 'd', color=blue_color)\n",
    "\n",
    "savefig('ArrayExpress/postproc/regline_example.pdf', bbox='tight_layout')"
   ]
  },
  {
   "cell_type": "markdown",
   "metadata": {},
   "source": [
    "## What follows is junk"
   ]
  },
  {
   "cell_type": "code",
   "execution_count": null,
   "metadata": {
    "collapsed": true
   },
   "outputs": [],
   "source": [
    "### STEP 1 (do we need this?): Compute correlations between samples\n",
    "#import pickle\n",
    "#import calculatePC\n",
    "#import ensure_dir\n",
    "#print \"Computing correlation between samples (takes time)\"\n",
    "#res_dir = 'results/heatmaps'\n",
    "#ensure_dir(res_dir)\n",
    "#corr, corr_hist = calculatePC(ds.expressionData)\n",
    "#pickle.dump(corr, open('%s/%s_corr_matrix.pickle' % (res_dir, cohort_name), 'wb'))\n",
    "\n",
    "#corr_mean, corr_hist_mean = calculatePC(ds_mean.expressionData)\n",
    "#pickle.dump(corr_mean, open('%s/%s_corr_matrix_mean.pickle' % (res_dir, cohort_name), 'wb'))\n",
    "\n",
    "\n",
    "### STEP 2: Detect and remove similar samples (possible duplicates).\n",
    "sim_thresh = 0.9 # similarity threshold: remove samples that show high correlation\n",
    "data = pickle.load(open(\"%s/%s_data.pickle\")) # combatData.pickle\n",
    "\n",
    "# TODO IDENTIFY SIMILAR PAIRS    \n",
    "print \"Cohort has %d similar pairs\" % len(sim_pairs)\n",
    "    \n",
    "remove_samples = removeSamplesRandomElimination(sim_pairs)   \n",
    "print \"Removing %d samples\" % len(remove_samples)\n",
    "\n",
    "# find indices of the removed samples in the merged dataset\n",
    "try:\n",
    "    remove_samples_idx = np.argwhere(np.in1d(data.patientLabels, remove_samples))[:, 0]\n",
    "except:\n",
    "    remove_samples_idx = np.argwhere(np.setmember1d(data.patientLabels, remove_samples))[:, 0]\n",
    "    \n",
    "patient_idx = range(len(data.patientLabels))\n",
    "ds_clean_samples = data.extractPatientsByIndices((\"ALL_%s_cleanSamples\" % cohort_name),\n",
    "                                                 list(set(patient_idx).difference(remove_samples_idx)), \n",
    "                                                 False, False)    \n",
    "\n",
    "print \"Map AffyIDs to Entrez gene IDs\"\n",
    "mapProbeIdsToGeneIds = 'NormalisingData/projectX/HG-U133A.na32.annot.csv/HG-U133A.na32.annot.csv'\n",
    "best_map_entrez_affy = ProbeToGeneID(mapProbeIdsToGeneIds, ds_clean)\n",
    "best_map_affy_entrez = dict(zip(best_map_entrez_affy.values(), best_map_entrez_affy.keys()))\n",
    "try:\n",
    "    idx = np.argwhere(np.in1ds(ds_clean_samples.geneLabels, best_map_affy_entrez.keys()))[:, 0]\n",
    "except:\n",
    "    idx = np.argwhere(np.setmember1d(ds_clean_samples.geneLabels, best_map_affy_entrez.keys()))[:, 0]\n",
    "data_clean = ds_clean_samples.extractGenesByIndices(('%s_clean_probes' % cohort_name), idx, \n",
    "                                          checkNormalization=False, checkClassLabels=False)\n",
    "\n",
    "print \"Replace AffyIDs with gene IDs\"\n",
    "for ix in range(len(data_clean.geneLabels)):\n",
    "    data_clean.geneLabels[ix] = best_map_affy_entrez[data_clean.geneLabels[ix]]\n",
    "\n",
    "print \"Mean-center\"\n",
    "data_clean.expressionData = data_clean.expressionData - data_clean.expressionData.mean(0)\n",
    "\n",
    "# save to pickle\n",
    "pickle.dump(data_clean, open('%s/%s_all_data.pickle' % (res_dir, cohort_name), 'wb')    "
   ]
  },
  {
   "cell_type": "code",
   "execution_count": 39,
   "metadata": {
    "collapsed": true
   },
   "outputs": [],
   "source": [
    "import pylab\n",
    "from matplotlib.backends.backend_pdf import PdfPages\n",
    "def compute_pca(matrix, plot_title, plot_fname):\n",
    "    \"\"\"Compute PCA of a matrix.\n",
    "    \n",
    "    Parameters\n",
    "    ----------\n",
    "    matrix: np.array\n",
    "        covariance matrix or data matrix (variables x observations).\n",
    "    \n",
    "    plot_title: string\n",
    "        Title of plot.\n",
    "        \n",
    "    plot_fname: filename\n",
    "        Path to file where to save PC plot (as pdf).\n",
    "    \n",
    "    Returns\n",
    "    -------\n",
    "    fpc: np.array \n",
    "        first principal component\n",
    "        \n",
    "    spc: np.array \n",
    "        second principal component\n",
    "    \n",
    "    Created files\n",
    "    -------------\n",
    "    plot_fname: Plot the data (first PC against second PC)\n",
    "    \n",
    "    \"\"\"\n",
    "    if matrix.shape[0] == matrix.shape[1]:\n",
    "        # covariance matrix\n",
    "        w, v = np.linalg.eigh(matrix)\n",
    "        # first PC\n",
    "        fpc = v[:, len(w)-1]\n",
    "        # second PC\n",
    "        spc = v[:, len(w)-2]\n",
    "    else:\n",
    "        # data matrix\n",
    "        data = matrix.copy()\n",
    "        pcomps, trans, w = pylab.prepca(data.T)\n",
    "        fpc = pcomps[0, ]\n",
    "        spc = pcomps[1, ]\n",
    "    #print \"First PC\", fpc\n",
    "    #print \"Second PC\", spc\n",
    "        \n",
    "    # Plot first PC against second PC\n",
    "    print \"Plot first PC against second PC in %s\" % plot_fname\n",
    "    pdf = PdfPages(plot_fname)\n",
    "    fig = plt.figure(figsize=(8, 8))\n",
    "    plt.plot(fpc, spc, \".\", color='darkgrey')\n",
    "    \n",
    "    plt.xlabel(\"First PC\", fontsize=16)\n",
    "    plt.ylabel(\"Second PC\", fontsize=16)\n",
    "    plt.title(plot_title, fontsize=16)\n",
    "    xmin = min(fpc)\n",
    "    xmax = max(fpc)\n",
    "    ymin = min(spc)\n",
    "    ymax = max(spc)\n",
    "    plt.axis([xmin-50, xmax+100, ymin-20, ymax+20])\n",
    "    pdf.savefig()\n",
    "    pdf.close()\n",
    "    plt.clf()\n",
    "    \n",
    "    return fpc, spc"
   ]
  }
 ],
 "metadata": {
  "kernelspec": {
   "display_name": "Python 2",
   "language": "python",
   "name": "python2"
  },
  "language_info": {
   "codemirror_mode": {
    "name": "ipython",
    "version": 2
   },
   "file_extension": ".py",
   "mimetype": "text/x-python",
   "name": "python",
   "nbconvert_exporter": "python",
   "pygments_lexer": "ipython2",
   "version": "2.7.6"
  }
 },
 "nbformat": 4,
 "nbformat_minor": 0
}
